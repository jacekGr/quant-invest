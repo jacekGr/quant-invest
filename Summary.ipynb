{
 "cells": [
  {
   "cell_type": "markdown",
   "metadata": {},
   "source": [
    "# Second stage summary\n",
    "\n",
    "In the first stage, we established that selecting a simple portfolio built with classical methods is more reliable than attempting to select or compose a portfolio using machine learning, in particular neural networks.\n",
    "\n",
    "During the second stage, we wanted to establish whether adding more relevant features to the training data and reducing the problem to a simple forecast (of future covariance or future returns) is a viable strategy. If this does not improve the base model, it will confirm our hypothesis that portfolio allocation should be performed based on fundamentals of portfolio theory and economics, rather than based on advanced analytics and forecasting.\n",
    "\n",
    "This summary consists of following parts:\n",
    "1. Base model performance testing (classical portfolio theory)\n",
    "2. Training advanced forecasting model\n",
    "  - dataset assembly\n",
    "  - model architecture definition\n",
    "  - training & validation of created model\n",
    "3. Comparison of test results between base and advanced model"
   ]
  },
  {
   "cell_type": "markdown",
   "metadata": {},
   "source": [
    "## Base model performance"
   ]
  },
  {
   "cell_type": "code",
   "execution_count": 1,
   "metadata": {},
   "outputs": [],
   "source": [
    "import pandas as pd\n",
    "import numpy as np\n",
    "pd.set_option('precision', 4)\n",
    "pd.set_option('chop_threshold', 1e-15)\n",
    "\n",
    "from numba import jit\n",
    "\n",
    "from typing import Tuple\n",
    "\n",
    "from utils.data_loader import *\n",
    "\n",
    "from pypfopt.expected_returns import mean_historical_return\n",
    "from pypfopt.risk_models import CovarianceShrinkage\n",
    "from pypfopt.efficient_frontier import EfficientFrontier"
   ]
  },
  {
   "cell_type": "code",
   "execution_count": 2,
   "metadata": {},
   "outputs": [],
   "source": [
    "class OneYearTest(object):\n",
    "    \"\"\"\n",
    "    Scikit-learn style iterator returning training- and test-set indices,\n",
    "    where test set is one-year-long and training set consists of n_train_years\n",
    "    preceding the test set year.\n",
    "    \"\"\"\n",
    "    def __init__(self, df: pd.DataFrame, n_train_years: int=10):\n",
    "        self.index_years = df.index.year\n",
    "        self.unique_years = np.unique(self.index_years)\n",
    "        self.n_train_years = n_train_years\n",
    "        \n",
    "    @property\n",
    "    def train_years(self):\n",
    "        return set(self.unique_years[self.idx-self.n_train_years:self.idx])\n",
    "    \n",
    "    @property\n",
    "    def test_year(self):\n",
    "        return self.unique_years[self.idx]\n",
    "\n",
    "    def __iter__(self):\n",
    "        self.idx = self.n_train_years\n",
    "        return self\n",
    "    \n",
    "    def __next__(self):\n",
    "        if self.idx < len(self.unique_years):\n",
    "            train_ids = self.index_years.isin(self.train_years)\n",
    "            test_ids = self.index_years == self.test_year\n",
    "            self.idx += 1\n",
    "            return train_ids, test_ids\n",
    "        else:\n",
    "            raise StopIteration"
   ]
  },
  {
   "cell_type": "code",
   "execution_count": 3,
   "metadata": {},
   "outputs": [],
   "source": [
    "@jit(nopython=True)\n",
    "def portfolio_performance(allocation: np.array, fund_values: np.array) -> Tuple[float, float]:\n",
    "    \"\"\"\n",
    "    Calculates total returns and daily returns volatility during entire period of provided fund values.\n",
    "    \"\"\"\n",
    "    allocation_value = np.sum(allocation * fund_values, axis=1) / np.sum(allocation)\n",
    "    period_returns = (allocation_value[-1] - allocation_value[0]) / allocation_value[0]\n",
    "    daily_returns = (allocation_value[1:] - allocation_value[:-1]) / allocation_value[:-1]\n",
    "    period_volatility = np.std(daily_returns)\n",
    "    return period_returns, period_volatility"
   ]
  },
  {
   "cell_type": "code",
   "execution_count": 4,
   "metadata": {},
   "outputs": [],
   "source": [
    "@jit(nopython=True)\n",
    "def portfolio_srri(allocation: np.array, fund_values: np.array) -> int:\n",
    "    \"\"\"\n",
    "    Calculates SRRI based on porfolio volatility \n",
    "    during last 5 years of provided fund_values,\n",
    "    as described in https://bit.ly/2RDVib9\n",
    "    \"\"\"\n",
    "    m = 260  # days in a year, as in the SRRI paper\n",
    "    T = 5*260  # days in 5 years, as in the SRRI paper\n",
    "    allocation_value = np.sum(allocation * fund_values[-T:], axis=1) / np.sum(allocation)\n",
    "    daily_returns = (allocation_value[1:] - allocation_value[:-1]) / allocation_value[:-1]\n",
    "    scaled_volatility = np.sqrt(m * np.sum((daily_returns - np.mean(daily_returns))**2) / (T-1))\n",
    "    if scaled_volatility >= 0.25:\n",
    "        return 7\n",
    "    elif scaled_volatility >= 0.15:\n",
    "        return 6\n",
    "    elif scaled_volatility >= 0.1:\n",
    "        return 5\n",
    "    elif scaled_volatility >= 0.05:\n",
    "        return 4\n",
    "    elif scaled_volatility >= 0.02:\n",
    "        return 3\n",
    "    elif scaled_volatility >= 0.005:\n",
    "        return 2\n",
    "    else:\n",
    "        return 1"
   ]
  },
  {
   "cell_type": "code",
   "execution_count": 5,
   "metadata": {},
   "outputs": [],
   "source": [
    "def base_model(funds_df: pd.DataFrame) -> np.array:\n",
    "    mu = mean_historical_return(funds_df)\n",
    "    S = CovarianceShrinkage(funds_df).ledoit_wolf()\n",
    "    ef = EfficientFrontier(mu, S)\n",
    "    ef.efficient_return(0.04)\n",
    "    return ef.weights"
   ]
  },
  {
   "cell_type": "markdown",
   "metadata": {},
   "source": [
    "### Loading data"
   ]
  },
  {
   "cell_type": "code",
   "execution_count": 6,
   "metadata": {},
   "outputs": [
    {
     "data": {
      "text/html": [
       "<div>\n",
       "<style scoped>\n",
       "    .dataframe tbody tr th:only-of-type {\n",
       "        vertical-align: middle;\n",
       "    }\n",
       "\n",
       "    .dataframe tbody tr th {\n",
       "        vertical-align: top;\n",
       "    }\n",
       "\n",
       "    .dataframe thead th {\n",
       "        text-align: right;\n",
       "    }\n",
       "</style>\n",
       "<table border=\"1\" class=\"dataframe\">\n",
       "  <thead>\n",
       "    <tr style=\"text-align: right;\">\n",
       "      <th></th>\n",
       "      <th>AP</th>\n",
       "      <th>ARR</th>\n",
       "      <th>ARW</th>\n",
       "      <th>G</th>\n",
       "      <th>OP</th>\n",
       "      <th>ORR</th>\n",
       "      <th>ORW</th>\n",
       "    </tr>\n",
       "    <tr>\n",
       "      <th>Daty</th>\n",
       "      <th></th>\n",
       "      <th></th>\n",
       "      <th></th>\n",
       "      <th></th>\n",
       "      <th></th>\n",
       "      <th></th>\n",
       "      <th></th>\n",
       "    </tr>\n",
       "  </thead>\n",
       "  <tbody>\n",
       "    <tr>\n",
       "      <th>2000-01-03</th>\n",
       "      <td>415.90</td>\n",
       "      <td>549.11</td>\n",
       "      <td>354.45</td>\n",
       "      <td>401.26</td>\n",
       "      <td>275.08</td>\n",
       "      <td>520.13</td>\n",
       "      <td>230.72</td>\n",
       "    </tr>\n",
       "    <tr>\n",
       "      <th>2000-01-04</th>\n",
       "      <td>404.41</td>\n",
       "      <td>533.89</td>\n",
       "      <td>357.14</td>\n",
       "      <td>401.42</td>\n",
       "      <td>275.08</td>\n",
       "      <td>520.02</td>\n",
       "      <td>229.63</td>\n",
       "    </tr>\n",
       "    <tr>\n",
       "      <th>2000-01-05</th>\n",
       "      <td>400.04</td>\n",
       "      <td>527.38</td>\n",
       "      <td>351.19</td>\n",
       "      <td>401.59</td>\n",
       "      <td>275.08</td>\n",
       "      <td>519.22</td>\n",
       "      <td>229.22</td>\n",
       "    </tr>\n",
       "    <tr>\n",
       "      <th>2000-01-06</th>\n",
       "      <td>410.15</td>\n",
       "      <td>522.02</td>\n",
       "      <td>347.96</td>\n",
       "      <td>401.75</td>\n",
       "      <td>275.07</td>\n",
       "      <td>519.62</td>\n",
       "      <td>228.82</td>\n",
       "    </tr>\n",
       "    <tr>\n",
       "      <th>2000-01-07</th>\n",
       "      <td>429.16</td>\n",
       "      <td>533.16</td>\n",
       "      <td>351.87</td>\n",
       "      <td>401.93</td>\n",
       "      <td>275.07</td>\n",
       "      <td>520.80</td>\n",
       "      <td>230.09</td>\n",
       "    </tr>\n",
       "  </tbody>\n",
       "</table>\n",
       "</div>"
      ],
      "text/plain": [
       "                AP     ARR     ARW       G      OP     ORR     ORW\n",
       "Daty                                                              \n",
       "2000-01-03  415.90  549.11  354.45  401.26  275.08  520.13  230.72\n",
       "2000-01-04  404.41  533.89  357.14  401.42  275.08  520.02  229.63\n",
       "2000-01-05  400.04  527.38  351.19  401.59  275.08  519.22  229.22\n",
       "2000-01-06  410.15  522.02  347.96  401.75  275.07  519.62  228.82\n",
       "2000-01-07  429.16  533.16  351.87  401.93  275.07  520.80  230.09"
      ]
     },
     "execution_count": 6,
     "metadata": {},
     "output_type": "execute_result"
    }
   ],
   "source": [
    "funds_df = load_funds()\n",
    "funds_df.head()"
   ]
  },
  {
   "cell_type": "markdown",
   "metadata": {},
   "source": [
    "### Evaluating model performance"
   ]
  },
  {
   "cell_type": "code",
   "execution_count": 7,
   "metadata": {},
   "outputs": [
    {
     "data": {
      "text/html": [
       "<div>\n",
       "<style scoped>\n",
       "    .dataframe tbody tr th:only-of-type {\n",
       "        vertical-align: middle;\n",
       "    }\n",
       "\n",
       "    .dataframe tbody tr th {\n",
       "        vertical-align: top;\n",
       "    }\n",
       "\n",
       "    .dataframe thead th {\n",
       "        text-align: right;\n",
       "    }\n",
       "</style>\n",
       "<table border=\"1\" class=\"dataframe\">\n",
       "  <thead>\n",
       "    <tr style=\"text-align: right;\">\n",
       "      <th></th>\n",
       "      <th>AP</th>\n",
       "      <th>ARR</th>\n",
       "      <th>ARW</th>\n",
       "      <th>G</th>\n",
       "      <th>OP</th>\n",
       "      <th>ORR</th>\n",
       "      <th>ORW</th>\n",
       "      <th>srri</th>\n",
       "      <th>returns</th>\n",
       "      <th>volatility</th>\n",
       "    </tr>\n",
       "  </thead>\n",
       "  <tbody>\n",
       "    <tr>\n",
       "      <th>2010</th>\n",
       "      <td>0.0000e+00</td>\n",
       "      <td>0.0972</td>\n",
       "      <td>0.0000e+00</td>\n",
       "      <td>0.0300</td>\n",
       "      <td>0.0000e+00</td>\n",
       "      <td>0.8728</td>\n",
       "      <td>0.0000e+00</td>\n",
       "      <td>3</td>\n",
       "      <td>0.0398</td>\n",
       "      <td>0.0014</td>\n",
       "    </tr>\n",
       "    <tr>\n",
       "      <th>2011</th>\n",
       "      <td>0.0000e+00</td>\n",
       "      <td>0.0726</td>\n",
       "      <td>0.0000e+00</td>\n",
       "      <td>0.1379</td>\n",
       "      <td>0.0000e+00</td>\n",
       "      <td>0.7895</td>\n",
       "      <td>0.0000e+00</td>\n",
       "      <td>3</td>\n",
       "      <td>0.0491</td>\n",
       "      <td>0.0011</td>\n",
       "    </tr>\n",
       "    <tr>\n",
       "      <th>2012</th>\n",
       "      <td>0.0000e+00</td>\n",
       "      <td>0.0299</td>\n",
       "      <td>0.0000e+00</td>\n",
       "      <td>0.1635</td>\n",
       "      <td>0.0000e+00</td>\n",
       "      <td>0.8065</td>\n",
       "      <td>0.0000e+00</td>\n",
       "      <td>3</td>\n",
       "      <td>0.0389</td>\n",
       "      <td>0.0010</td>\n",
       "    </tr>\n",
       "    <tr>\n",
       "      <th>2013</th>\n",
       "      <td>0.0000e+00</td>\n",
       "      <td>0.0000</td>\n",
       "      <td>0.0000e+00</td>\n",
       "      <td>0.3964</td>\n",
       "      <td>9.8262e-02</td>\n",
       "      <td>0.5053</td>\n",
       "      <td>0.0000e+00</td>\n",
       "      <td>2</td>\n",
       "      <td>0.0075</td>\n",
       "      <td>0.0009</td>\n",
       "    </tr>\n",
       "    <tr>\n",
       "      <th>2014</th>\n",
       "      <td>0.0000e+00</td>\n",
       "      <td>0.0120</td>\n",
       "      <td>0.0000e+00</td>\n",
       "      <td>0.3697</td>\n",
       "      <td>1.7110e-01</td>\n",
       "      <td>0.4390</td>\n",
       "      <td>8.2929e-03</td>\n",
       "      <td>2</td>\n",
       "      <td>0.0574</td>\n",
       "      <td>0.0007</td>\n",
       "    </tr>\n",
       "    <tr>\n",
       "      <th>2015</th>\n",
       "      <td>0.0000e+00</td>\n",
       "      <td>0.0476</td>\n",
       "      <td>0.0000e+00</td>\n",
       "      <td>0.4063</td>\n",
       "      <td>1.3233e-01</td>\n",
       "      <td>0.4121</td>\n",
       "      <td>1.7235e-03</td>\n",
       "      <td>2</td>\n",
       "      <td>0.0065</td>\n",
       "      <td>0.0011</td>\n",
       "    </tr>\n",
       "    <tr>\n",
       "      <th>2016</th>\n",
       "      <td>0.0000e+00</td>\n",
       "      <td>0.0074</td>\n",
       "      <td>0.0000e+00</td>\n",
       "      <td>0.3376</td>\n",
       "      <td>2.0575e-01</td>\n",
       "      <td>0.3393</td>\n",
       "      <td>1.0993e-01</td>\n",
       "      <td>2</td>\n",
       "      <td>0.0209</td>\n",
       "      <td>0.0011</td>\n",
       "    </tr>\n",
       "    <tr>\n",
       "      <th>2017</th>\n",
       "      <td>0.0000e+00</td>\n",
       "      <td>0.0000</td>\n",
       "      <td>0.0000e+00</td>\n",
       "      <td>0.3130</td>\n",
       "      <td>2.3905e-01</td>\n",
       "      <td>0.3097</td>\n",
       "      <td>1.3827e-01</td>\n",
       "      <td>2</td>\n",
       "      <td>0.0291</td>\n",
       "      <td>0.0008</td>\n",
       "    </tr>\n",
       "    <tr>\n",
       "      <th>2018</th>\n",
       "      <td>0.0000e+00</td>\n",
       "      <td>0.0048</td>\n",
       "      <td>0.0000e+00</td>\n",
       "      <td>0.3070</td>\n",
       "      <td>2.3387e-01</td>\n",
       "      <td>0.3055</td>\n",
       "      <td>1.4884e-01</td>\n",
       "      <td>2</td>\n",
       "      <td>0.0075</td>\n",
       "      <td>0.0008</td>\n",
       "    </tr>\n",
       "  </tbody>\n",
       "</table>\n",
       "</div>"
      ],
      "text/plain": [
       "              AP     ARR         ARW       G          OP     ORR         ORW  \\\n",
       "2010  0.0000e+00  0.0972  0.0000e+00  0.0300  0.0000e+00  0.8728  0.0000e+00   \n",
       "2011  0.0000e+00  0.0726  0.0000e+00  0.1379  0.0000e+00  0.7895  0.0000e+00   \n",
       "2012  0.0000e+00  0.0299  0.0000e+00  0.1635  0.0000e+00  0.8065  0.0000e+00   \n",
       "2013  0.0000e+00  0.0000  0.0000e+00  0.3964  9.8262e-02  0.5053  0.0000e+00   \n",
       "2014  0.0000e+00  0.0120  0.0000e+00  0.3697  1.7110e-01  0.4390  8.2929e-03   \n",
       "2015  0.0000e+00  0.0476  0.0000e+00  0.4063  1.3233e-01  0.4121  1.7235e-03   \n",
       "2016  0.0000e+00  0.0074  0.0000e+00  0.3376  2.0575e-01  0.3393  1.0993e-01   \n",
       "2017  0.0000e+00  0.0000  0.0000e+00  0.3130  2.3905e-01  0.3097  1.3827e-01   \n",
       "2018  0.0000e+00  0.0048  0.0000e+00  0.3070  2.3387e-01  0.3055  1.4884e-01   \n",
       "\n",
       "      srri  returns  volatility  \n",
       "2010     3   0.0398      0.0014  \n",
       "2011     3   0.0491      0.0011  \n",
       "2012     3   0.0389      0.0010  \n",
       "2013     2   0.0075      0.0009  \n",
       "2014     2   0.0574      0.0007  \n",
       "2015     2   0.0065      0.0011  \n",
       "2016     2   0.0209      0.0011  \n",
       "2017     2   0.0291      0.0008  \n",
       "2018     2   0.0075      0.0008  "
      ]
     },
     "execution_count": 7,
     "metadata": {},
     "output_type": "execute_result"
    }
   ],
   "source": [
    "result_dfs = []\n",
    "for train_ids, test_ids in OneYearTest(funds_df):\n",
    "    train_, test_ = funds_df[train_ids], funds_df[test_ids]\n",
    "    allocation = base_model(train_)\n",
    "    allocation_data = {fund: allocation[idx] for idx, fund in enumerate(funds_df.columns)}\n",
    "    srri = portfolio_srri(allocation, train_.values)\n",
    "    returns, volatility = portfolio_performance(allocation, test_.values)\n",
    "    performance_data = {'srri': srri, 'returns': returns, 'volatility': volatility}\n",
    "    result_dfs.append(\n",
    "        pd.DataFrame({**allocation_data, **performance_data}, index=[test_.index.year[0]])\n",
    "    )\n",
    "base_results_df = pd.concat(result_dfs, axis='index')\n",
    "base_results_df"
   ]
  },
  {
   "cell_type": "markdown",
   "metadata": {},
   "source": [
    "## Advanced model performance\n",
    "\n",
    "We will attempt to train a deep neural network, that will attempt to predict future returns as well as future fund value covariance."
   ]
  },
  {
   "cell_type": "code",
   "execution_count": 8,
   "metadata": {},
   "outputs": [],
   "source": [
    "from dataclasses import dataclass, asdict\n",
    "import multiprocessing as mp\n",
    "\n",
    "from tqdm import tqdm\n",
    "\n",
    "import ta"
   ]
  },
  {
   "cell_type": "markdown",
   "metadata": {},
   "source": [
    "### External data\n",
    "\n",
    "In the first stage of competitions, we downloaded a lot of seemingly useful data, but its volume was too large \n",
    "for any meaningful feature selection to be performed.\n",
    "\n",
    "This time, we have carefully selected by hand the most important indices that may play a role in terms of forecasting\n",
    "portfolio performance.\n",
    "\n",
    "The data was manually downloaded from [Stooq](https://stooq.pl/)."
   ]
  },
  {
   "cell_type": "code",
   "execution_count": 9,
   "metadata": {},
   "outputs": [],
   "source": [
    "external_data = load_stooq()"
   ]
  },
  {
   "cell_type": "markdown",
   "metadata": {},
   "source": [
    "### Feature generation\n",
    "\n",
    "For our fund values and index values downloaded above, we will calculate similar features to the ones mentioned by: \n",
    "*Bao, W., Yue, J., Rao, Y. (2017). A deep learning framework for financial time series\n",
    "using stacked autoencoders and long-short term memory.*\n",
    "\n",
    "Note, that most of the technical indicators can only be calculated for the downloaded index values,\n",
    "as our fund values do not have open-high-low-close price & volume information attached to it."
   ]
  },
  {
   "cell_type": "code",
   "execution_count": 10,
   "metadata": {},
   "outputs": [],
   "source": [
    "fund_column_features = {\n",
    "    'MACD': lambda col: ta.trend.macd(col, n_fast=80, n_slow=160),\n",
    "    'BBL': lambda col: ta.volatility.bollinger_lband(col, n=120),\n",
    "    'BBH': lambda col: ta.volatility.bollinger_hband(col, n=120),\n",
    "    'EMA': lambda col: ta.trend.ema_indicator(col, n=240),\n",
    "    'ID': lambda col: col\n",
    "}\n",
    "\n",
    "ohlc_df_features = {\n",
    "    'MACD': lambda df: ta.trend.macd(df['Zamkniecie'], n_fast=80, n_slow=160),\n",
    "    'BBL': lambda df: ta.volatility.bollinger_lband(df['Zamkniecie'], n=120),\n",
    "    'BBH': lambda df: ta.volatility.bollinger_hband(df['Zamkniecie'], n=120),\n",
    "    'EMA': lambda df: ta.trend.ema_indicator(df['Zamkniecie'], n=240),\n",
    "    'SMI': lambda df: ta.momentum.stoch(\n",
    "        high=df['Najwyzszy'],\n",
    "        low=df['Najnizszy'],\n",
    "        close=df['Zamkniecie'],\n",
    "        n=160\n",
    "    ),\n",
    "    'ID': lambda df: df['Zamkniecie']\n",
    "}\n",
    "\n",
    "ohlc_volume_df_features = {\n",
    "    'MFI': lambda df: ta.momentum.money_flow_index(\n",
    "        high=df['Najwyzszy'],\n",
    "        low=df['Najnizszy'],\n",
    "        close=df['Zamkniecie'],\n",
    "        volume=df['Wolumen'].fillna(df['Wolumen'].mean()),  # volumes often have missing values in our dataset\n",
    "        n=120\n",
    "    ),\n",
    "    # this is always appended with ohlc_df_features => no 'ID' (\"identity\") feature is necessary\n",
    "}"
   ]
  },
  {
   "cell_type": "code",
   "execution_count": 11,
   "metadata": {},
   "outputs": [
    {
     "name": "stderr",
     "output_type": "stream",
     "text": [
      "Funds: 100%|██████████| 7/7 [00:00<00:00, 96.10it/s]\n",
      "External data: 100%|██████████| 8/8 [00:00<00:00,  8.90it/s]"
     ]
    },
    {
     "name": "stdout",
     "output_type": "stream",
     "text": [
      "(4801, 77)\n"
     ]
    },
    {
     "name": "stderr",
     "output_type": "stream",
     "text": [
      "\n"
     ]
    }
   ],
   "source": [
    "OHLC_COLUMNS = ['Otwarcie', 'Zamkniecie', 'Najwyzszy', 'Najnizszy']\n",
    "\n",
    "features_df = pd.DataFrame(index=funds_df.index)\n",
    "for col in tqdm(funds_df.columns, desc='Funds'):\n",
    "    for key in fund_column_features:\n",
    "        features_df[f'{col}_{key}'] = fund_column_features[key](funds_df[col])\n",
    "        \n",
    "for ext_df, idx_name in tqdm(external_data, desc='External data'):\n",
    "    ext_df = ext_df.reindex(index=funds_df.index)\n",
    "    # we forward-fill missing values to account for differences between trading days across the world\n",
    "    ext_df[OHLC_COLUMNS] = ext_df[OHLC_COLUMNS].fillna(method='ffill')\n",
    "    for key in ohlc_df_features:\n",
    "        if '3m' in idx_name and key not in {'MACD', 'EMA', 'ID'}:\n",
    "            # for central bank interest rates, only calculate these 3 features\n",
    "            continue\n",
    "        features_df[f'{idx_name}_{key}'] = ohlc_df_features[key](\n",
    "            ext_df.fillna(method='ffill')\n",
    "        )\n",
    "    if 'Wolumen' in ext_df.columns:\n",
    "        for key in ohlc_volume_df_features:\n",
    "            features_df[f'{idx_name}_{key}'] = ohlc_volume_df_features[key](ext_df)\n",
    "print(features_df.shape)"
   ]
  },
  {
   "cell_type": "markdown",
   "metadata": {},
   "source": [
    "### Target generation"
   ]
  },
  {
   "cell_type": "code",
   "execution_count": 12,
   "metadata": {},
   "outputs": [],
   "source": [
    "@dataclass\n",
    "class Target(object):\n",
    "    fund_returns: np.array\n",
    "    fund_covariance: np.array\n",
    "    ideal_allocation: np.array\n",
    "    ideal_returns: float"
   ]
  },
  {
   "cell_type": "code",
   "execution_count": 13,
   "metadata": {},
   "outputs": [],
   "source": [
    "def calculate_target(funds_df: pd.DataFrame) -> Target:\n",
    "    mu = mean_historical_return(funds_df)\n",
    "    S = CovarianceShrinkage(funds_df).ledoit_wolf()\n",
    "    ef = EfficientFrontier(mu, S)\n",
    "    ef.efficient_risk(0.1)\n",
    "    ideal_allocation = ef.weights\n",
    "    ideal_returns = ef.portfolio_performance()[0]\n",
    "    return Target(mu, S, ideal_allocation, ideal_returns)"
   ]
  },
  {
   "cell_type": "markdown",
   "metadata": {},
   "source": [
    "We calculate all target data in parallel to save time:"
   ]
  },
  {
   "cell_type": "code",
   "execution_count": 14,
   "metadata": {},
   "outputs": [
    {
     "name": "stdout",
     "output_type": "stream",
     "text": [
      "4541\n",
      "CPU times: user 5.3 s, sys: 324 ms, total: 5.62 s\n",
      "Wall time: 28.1 s\n"
     ]
    }
   ],
   "source": [
    "%%time\n",
    "YEAR_DAYS = 260\n",
    "\n",
    "dfs = [\n",
    "    funds_df[idx+1 : idx+1+YEAR_DAYS]\n",
    "    for idx in range(funds_df.iloc[:-YEAR_DAYS].shape[0])\n",
    "]\n",
    "with mp.Pool(processes=12) as pool:\n",
    "    targets = pool.map(calculate_target, dfs)\n",
    "\n",
    "print(len(targets))"
   ]
  },
  {
   "cell_type": "markdown",
   "metadata": {},
   "source": [
    "Then, we extract information necessary for our experiment and back it up:"
   ]
  },
  {
   "cell_type": "code",
   "execution_count": 15,
   "metadata": {},
   "outputs": [],
   "source": [
    "returns_target = np.zeros_like(funds_df[:-YEAR_DAYS])\n",
    "covariance_target = np.zeros(\n",
    "    (len(funds_df[:-YEAR_DAYS]), funds_df.shape[1]**2)\n",
    ")\n",
    "sample_weights = np.zeros(len(funds_df[:-YEAR_DAYS]))\n",
    "\n",
    "for idx, target in enumerate(targets):\n",
    "    returns_target[idx] = target.fund_returns.values.ravel()\n",
    "    covariance_target[idx] = target.fund_covariance.values.ravel()\n",
    "    sample_weights[idx] = target.ideal_returns  # years with higher returns are more important\n",
    "\n",
    "np.save('data/forecasting/returns_target.npy', returns_target)\n",
    "np.save('data/forecasting/covariance_target.npy', covariance_target)\n",
    "np.save('data/forecasting/sample_weights.npy', sample_weights)"
   ]
  },
  {
   "cell_type": "markdown",
   "metadata": {},
   "source": [
    "We can also add past targets to our features:"
   ]
  },
  {
   "cell_type": "code",
   "execution_count": 16,
   "metadata": {},
   "outputs": [],
   "source": [
    "returns_features = np.zeros_like(funds_df)\n",
    "returns_features[:YEAR_DAYS] = np.nan\n",
    "returns_features[YEAR_DAYS:] = returns_target\n",
    "\n",
    "covariance_features = np.zeros(\n",
    "    (len(funds_df), funds_df.shape[1]**2)\n",
    ")\n",
    "covariance_features[:YEAR_DAYS] = np.nan\n",
    "covariance_features[YEAR_DAYS:] = covariance_target\n",
    "\n",
    "weights_features = np.zeros(len(funds_df))\n",
    "weights_features[:YEAR_DAYS] = np.nan\n",
    "weights_features[YEAR_DAYS:] = sample_weights"
   ]
  },
  {
   "cell_type": "markdown",
   "metadata": {},
   "source": [
    "### Model definition"
   ]
  },
  {
   "cell_type": "code",
   "execution_count": 17,
   "metadata": {},
   "outputs": [],
   "source": [
    "import torch\n",
    "import torch.nn as nn\n",
    "import torch.nn.functional as F\n",
    "import torch.optim as optim\n",
    "\n",
    "torch.manual_seed(42)\n",
    "\n",
    "assert(torch.cuda.is_available())\n",
    "cuda_device = 0\n",
    "torch.cuda.empty_cache()"
   ]
  },
  {
   "cell_type": "code",
   "execution_count": 18,
   "metadata": {},
   "outputs": [],
   "source": [
    "class LSTM(nn.Module):\n",
    "    def __init__(self, input_dim, hidden_dim, batch_size, output_dim=1, num_layers=2, cuda_device=cuda_device):\n",
    "        super(LSTM, self).__init__()\n",
    "        self.input_dim = input_dim\n",
    "        self.hidden_dim = hidden_dim\n",
    "        self.batch_size = batch_size\n",
    "        self.num_layers = num_layers\n",
    "        self.cuda_device = cuda_device\n",
    "\n",
    "        self.lstm = nn.LSTM(\n",
    "            self.input_dim, \n",
    "            self.hidden_dim, \n",
    "            self.num_layers,\n",
    "            batch_first=True\n",
    "        )\n",
    "        self.linear = nn.Linear(self.hidden_dim, output_dim)\n",
    "\n",
    "    def init_hidden(self):\n",
    "        self.hidden = (\n",
    "            torch.zeros(self.num_layers, self.batch_size, self.hidden_dim).to(cuda_device).type(torch.float32),\n",
    "            torch.zeros(self.num_layers, self.batch_size, self.hidden_dim).to(cuda_device).type(torch.float32)\n",
    "        )\n",
    "        return self.hidden\n",
    "\n",
    "    def forward(self, input):\n",
    "        lstm_out, self.hidden = self.lstm(input)\n",
    "        # shape of lstm_out: [batch_size, seq_len, hidden_dim]\n",
    "        y_pred = self.linear(lstm_out[:,-1].view(self.batch_size, -1))\n",
    "        return y_pred.view(-1)"
   ]
  },
  {
   "cell_type": "markdown",
   "metadata": {},
   "source": [
    "### Training & evaluation"
   ]
  },
  {
   "cell_type": "code",
   "execution_count": 19,
   "metadata": {},
   "outputs": [],
   "source": [
    "from sklearn.preprocessing import StandardScaler, MinMaxScaler"
   ]
  },
  {
   "cell_type": "code",
   "execution_count": 20,
   "metadata": {},
   "outputs": [
    {
     "name": "stderr",
     "output_type": "stream",
     "text": [
      "/home/ubuntu/anaconda3/envs/pytorch_p36/lib/python3.6/site-packages/pandas/core/indexing.py:190: SettingWithCopyWarning: \n",
      "A value is trying to be set on a copy of a slice from a DataFrame\n",
      "\n",
      "See the caveats in the documentation: http://pandas.pydata.org/pandas-docs/stable/indexing.html#indexing-view-versus-copy\n",
      "  self._setitem_with_indexer(indexer, value)\n"
     ]
    }
   ],
   "source": [
    "all_features = np.hstack([features_df.values, returns_features, covariance_features, weights_features.reshape(-1, 1)])\n",
    "features_valid = np.all(~np.isnan(all_features), axis=1)\n",
    "feature_scaler = MinMaxScaler()\n",
    "all_features[features_valid] = feature_scaler.fit_transform(all_features[features_valid])\n",
    "\n",
    "all_targets = np.hstack([returns_target, covariance_target])\n",
    "targets_valid = np.all(~np.isnan(all_targets), axis=1)\n",
    "target_scaler = StandardScaler()\n",
    "all_targets[targets_valid] = target_scaler.fit_transform(all_targets[targets_valid])\n",
    "\n",
    "# unlike features, targets are only generated when they are valid\n",
    "assert(sum(targets_valid) == len(targets_valid))\n",
    "assert(len(targets_valid) < len(features_valid))\n",
    "\n",
    "# this is created for one-year-validation to have a correct index for data splitting\n",
    "meta_df = pd.DataFrame(columns=['features_valid', 'target_valid'], index=funds_df.index)\n",
    "meta_df['features_valid'].iloc[:len(features_valid)] = features_valid\n",
    "meta_df['target_valid'].iloc[:len(targets_valid)] = targets_valid\n",
    "meta_df.fillna(False, inplace=True)"
   ]
  },
  {
   "cell_type": "code",
   "execution_count": 21,
   "metadata": {},
   "outputs": [
    {
     "data": {
      "text/plain": [
       "((4801, 134), (4541, 56))"
      ]
     },
     "execution_count": 21,
     "metadata": {},
     "output_type": "execute_result"
    }
   ],
   "source": [
    "all_features.shape, all_targets.shape"
   ]
  },
  {
   "cell_type": "code",
   "execution_count": 22,
   "metadata": {},
   "outputs": [],
   "source": [
    "def as_sequences(\n",
    "        X: np.array, \n",
    "        y: np.array, \n",
    "        seq_len: int, \n",
    "        batch_size: int, \n",
    "        cuda_device: int\n",
    ") -> Tuple[torch.Tensor, torch.Tensor]:\n",
    "    \"\"\"\n",
    "    Allocates GPU memory for features and labels, \n",
    "    making sure they are in correct shape for LSTM:\n",
    "    X: (n_batches, batch_size, sequence_length, n_features)\n",
    "    y: (n_batches, batch_size, n_targets)\n",
    "    \"\"\"\n",
    "    assert(len(X) == len(y))\n",
    "    \n",
    "    n_samples, n_features = X.shape\n",
    "    n_targets = y.shape[1]\n",
    "    n_batches = (n_samples-seq_len) // batch_size\n",
    "    X_seqs = np.zeros((n_batches, batch_size, seq_len, n_features))\n",
    "    y_labels = np.zeros((n_batches, batch_size, n_targets))\n",
    "    for batch_idx in range(n_batches):\n",
    "        X_seqs[batch_idx] = np.reshape(\n",
    "            np.array([X[idx:idx+seq_len] for idx in range(batch_size*batch_idx, batch_size*(batch_idx+1))]),\n",
    "            (batch_size, seq_len, n_features)\n",
    "        )\n",
    "        y_labels[batch_idx] = np.reshape(\n",
    "            np.array([y[idx+seq_len-1] for idx in range(batch_size*batch_idx, batch_size*(batch_idx+1))]),\n",
    "            (batch_size, n_targets)\n",
    "        )\n",
    "    return torch.from_numpy(X_seqs).to(cuda_device).type(torch.float32), torch.from_numpy(y_labels).to(cuda_device).type(torch.float32)"
   ]
  },
  {
   "cell_type": "markdown",
   "metadata": {},
   "source": [
    "#### Training parameters"
   ]
  },
  {
   "cell_type": "code",
   "execution_count": 23,
   "metadata": {},
   "outputs": [],
   "source": [
    "import matplotlib.pyplot as plt\n",
    "from sklearn.preprocessing import normalize"
   ]
  },
  {
   "cell_type": "code",
   "execution_count": 24,
   "metadata": {},
   "outputs": [],
   "source": [
    "n_epochs = 8\n",
    "lr = 0.0002\n",
    "model_hidden_dim = 80\n",
    "seq_len = 2*YEAR_DAYS\n",
    "val_set_len = YEAR_DAYS\n",
    "batch_size = 1  # WARNING: Other sizes may not work right now"
   ]
  },
  {
   "cell_type": "code",
   "execution_count": 25,
   "metadata": {},
   "outputs": [],
   "source": [
    "def train(model, X_train_, y_train_, X_valid_, y_valid_, n_epochs: int=n_epochs):\n",
    "    model.to(cuda_device)\n",
    "    optimizer = torch.optim.Adam(model.parameters(), lr=lr)\n",
    "    loss = torch.nn.MSELoss()\n",
    "    train_loss_vals = np.zeros(n_epochs)\n",
    "    eval_loss_vals = np.zeros(n_epochs)\n",
    "    for ep_idx in range(n_epochs):\n",
    "        model.init_hidden()\n",
    "        for idx, (X_batch, y_batch) in tqdm(\n",
    "                enumerate(zip(X_train_, y_train_)), \n",
    "                total=len(X_train_), \n",
    "                desc=f'Training epoch={ep_idx+1}/{n_epochs}'):\n",
    "            optimizer.zero_grad()\n",
    "            y_pred = model(X_batch)\n",
    "            loss_val = loss(y_pred, y_batch)\n",
    "            train_loss_vals[ep_idx] += loss_val.item()\n",
    "            loss_val.backward()\n",
    "            optimizer.step()\n",
    "        train_loss_vals[ep_idx] = train_loss_vals[ep_idx] / len(X_train_)  # average training loss\n",
    "        for idx, (X_batch, y_batch) in tqdm(\n",
    "                enumerate(zip(X_valid_, y_valid_)), \n",
    "                total=len(X_valid_), \n",
    "                desc=f'Validating epoch={ep_idx+1}/{n_epochs}'):\n",
    "            with torch.no_grad():\n",
    "                y_pred = model(X_batch)\n",
    "                loss_val = loss(y_pred, y_batch)\n",
    "                eval_loss_vals[ep_idx] += loss_val.item()\n",
    "        eval_loss_vals[ep_idx] = eval_loss_vals[ep_idx] / len(X_valid_)\n",
    "    return model, train_loss_vals, eval_loss_vals"
   ]
  },
  {
   "cell_type": "code",
   "execution_count": 26,
   "metadata": {},
   "outputs": [],
   "source": [
    "def predict_allocate(model, X, transformer, n_funds=7):\n",
    "    with torch.no_grad():\n",
    "        # reshape preserves dimensions when batch_size=1\n",
    "        y_pred = model(X).reshape(len(X), -1).cpu().numpy()\n",
    "    y_last_pred = transformer.inverse_transform(y_pred[-1])\n",
    "    mu = y_last_pred[:n_funds]\n",
    "    S = y_last_pred[n_funds:].reshape((n_funds, n_funds))\n",
    "    ef = EfficientFrontier(mu, S)\n",
    "    ef.efficient_risk(0.09)  # 0.01 threshold for safety\n",
    "    # normalizing output in case scaling and 32bit casts for GPU\n",
    "    # altered it resulting in allocation of more than 100% of portfolio\n",
    "    weights = normalize([ef.weights])[0]\n",
    "    return weights"
   ]
  },
  {
   "cell_type": "code",
   "execution_count": 27,
   "metadata": {},
   "outputs": [
    {
     "name": "stdout",
     "output_type": "stream",
     "text": [
      "Skipping iteration with test_year=2010 due to lack of valid features in training set:\n",
      "Valid features: 2270, required: 2530\n",
      "Skipping iteration with test_year=2011 due to lack of valid features in training set:\n",
      "Valid features: 2525, required: 2533\n"
     ]
    },
    {
     "name": "stderr",
     "output_type": "stream",
     "text": [
      "Training epoch=1/8: 100%|██████████| 1753/1753 [00:46<00:00, 37.59it/s]\n",
      "Validating epoch=1/8: 100%|██████████| 259/259 [00:03<00:00, 79.98it/s]\n",
      "Training epoch=2/8: 100%|██████████| 1753/1753 [00:46<00:00, 37.95it/s]\n",
      "Validating epoch=2/8: 100%|██████████| 259/259 [00:03<00:00, 81.39it/s]\n",
      "Training epoch=3/8: 100%|██████████| 1753/1753 [00:46<00:00, 37.79it/s]\n",
      "Validating epoch=3/8: 100%|██████████| 259/259 [00:03<00:00, 80.79it/s]\n",
      "Training epoch=4/8: 100%|██████████| 1753/1753 [00:46<00:00, 37.87it/s]\n",
      "Validating epoch=4/8: 100%|██████████| 259/259 [00:03<00:00, 80.53it/s]\n",
      "Training epoch=5/8: 100%|██████████| 1753/1753 [00:46<00:00, 37.81it/s]\n",
      "Validating epoch=5/8: 100%|██████████| 259/259 [00:03<00:00, 80.52it/s]\n",
      "Training epoch=6/8: 100%|██████████| 1753/1753 [00:45<00:00, 38.12it/s]\n",
      "Validating epoch=6/8: 100%|██████████| 259/259 [00:03<00:00, 81.54it/s]\n",
      "Training epoch=7/8: 100%|██████████| 1753/1753 [00:46<00:00, 37.93it/s]\n",
      "Validating epoch=7/8: 100%|██████████| 259/259 [00:03<00:00, 81.46it/s]\n",
      "Training epoch=8/8: 100%|██████████| 1753/1753 [00:46<00:00, 38.00it/s]\n",
      "Validating epoch=8/8: 100%|██████████| 259/259 [00:03<00:00, 81.36it/s]\n"
     ]
    },
    {
     "data": {
      "image/png": "[encoded data removed]",
      "text/plain": [
       "<Figure size 432x288 with 1 Axes>"
      ]
     },
     "metadata": {},
     "output_type": "display_data"
    },
    {
     "name": "stdout",
     "output_type": "stream",
     "text": [
      "              AP     ARR         ARW       G      OP     ORR         ORW  \\\n",
      "2012  1.4036e-12  0.0322  5.0800e-12  0.4607  0.8732  0.1558  3.6663e-14   \n",
      "\n",
      "      srri  returns  volatility  \n",
      "2012     2   0.0922      0.0009  \n"
     ]
    },
    {
     "name": "stderr",
     "output_type": "stream",
     "text": [
      "Training epoch=1/8: 100%|██████████| 1754/1754 [00:46<00:00, 37.80it/s]\n",
      "Validating epoch=1/8: 100%|██████████| 259/259 [00:03<00:00, 81.45it/s]\n",
      "Training epoch=2/8: 100%|██████████| 1754/1754 [00:46<00:00, 37.95it/s]\n",
      "Validating epoch=2/8: 100%|██████████| 259/259 [00:03<00:00, 81.32it/s]\n",
      "Training epoch=3/8: 100%|██████████| 1754/1754 [00:46<00:00, 37.91it/s]\n",
      "Validating epoch=3/8: 100%|██████████| 259/259 [00:03<00:00, 81.11it/s]\n",
      "Training epoch=4/8: 100%|██████████| 1754/1754 [00:46<00:00, 37.94it/s]\n",
      "Validating epoch=4/8: 100%|██████████| 259/259 [00:03<00:00, 80.34it/s]\n",
      "Training epoch=5/8: 100%|██████████| 1754/1754 [00:46<00:00, 37.87it/s]\n",
      "Validating epoch=5/8: 100%|██████████| 259/259 [00:03<00:00, 81.58it/s]\n",
      "Training epoch=6/8: 100%|██████████| 1754/1754 [00:46<00:00, 37.81it/s]\n",
      "Validating epoch=6/8: 100%|██████████| 259/259 [00:03<00:00, 81.40it/s]\n",
      "Training epoch=7/8: 100%|██████████| 1754/1754 [00:46<00:00, 37.87it/s]\n",
      "Validating epoch=7/8: 100%|██████████| 259/259 [00:03<00:00, 80.21it/s]\n",
      "Training epoch=8/8: 100%|██████████| 1754/1754 [00:46<00:00, 37.97it/s]\n",
      "Validating epoch=8/8: 100%|██████████| 259/259 [00:03<00:00, 81.69it/s]\n"
     ]
    },
    {
     "data": {
      "image/png": "[encoded data removed]",
      "text/plain": [
       "<Figure size 432x288 with 1 Axes>"
      ]
     },
     "metadata": {},
     "output_type": "display_data"
    },
    {
     "name": "stdout",
     "output_type": "stream",
     "text": [
      "              AP         ARR         ARW       G      OP     ORR     ORW  \\\n",
      "2013  2.6294e-11  2.4703e-11  2.9087e-11  0.7236  0.4892  0.4265  0.2348   \n",
      "\n",
      "      srri  returns  volatility  \n",
      "2013     2   0.0039      0.0012  \n"
     ]
    },
    {
     "name": "stderr",
     "output_type": "stream",
     "text": [
      "Training epoch=1/8: 100%|██████████| 1752/1752 [00:45<00:00, 37.92it/s]\n",
      "Validating epoch=1/8: 100%|██████████| 259/259 [00:03<00:00, 80.12it/s]\n",
      "Training epoch=2/8: 100%|██████████| 1752/1752 [00:46<00:00, 37.87it/s]\n",
      "Validating epoch=2/8: 100%|██████████| 259/259 [00:03<00:00, 80.13it/s]\n",
      "Training epoch=3/8: 100%|██████████| 1752/1752 [00:46<00:00, 38.01it/s]\n",
      "Validating epoch=3/8: 100%|██████████| 259/259 [00:03<00:00, 80.53it/s]\n",
      "Training epoch=4/8: 100%|██████████| 1752/1752 [00:46<00:00, 38.28it/s]\n",
      "Validating epoch=4/8: 100%|██████████| 259/259 [00:03<00:00, 81.52it/s]\n",
      "Training epoch=5/8: 100%|██████████| 1752/1752 [00:46<00:00, 38.19it/s]\n",
      "Validating epoch=5/8: 100%|██████████| 259/259 [00:03<00:00, 81.45it/s]\n",
      "Training epoch=6/8: 100%|██████████| 1752/1752 [00:45<00:00, 38.26it/s]\n",
      "Validating epoch=6/8: 100%|██████████| 259/259 [00:03<00:00, 81.38it/s]\n",
      "Training epoch=7/8: 100%|██████████| 1752/1752 [00:45<00:00, 38.18it/s]\n",
      "Validating epoch=7/8: 100%|██████████| 259/259 [00:03<00:00, 80.83it/s]\n",
      "Training epoch=8/8: 100%|██████████| 1752/1752 [00:46<00:00, 38.00it/s]\n",
      "Validating epoch=8/8: 100%|██████████| 259/259 [00:03<00:00, 80.87it/s]\n"
     ]
    },
    {
     "data": {
      "image/png": "[encoded data removed]",
      "text/plain": [
       "<Figure size 432x288 with 1 Axes>"
      ]
     },
     "metadata": {},
     "output_type": "display_data"
    },
    {
     "name": "stdout",
     "output_type": "stream",
     "text": [
      "          AP     ARR         ARW       G      OP  ORR         ORW  srri  \\\n",
      "2014  0.1749  0.8141  0.0000e+00  0.5471  0.0854  0.0  0.0000e+00     4   \n",
      "\n",
      "      returns  volatility  \n",
      "2014   0.0353       0.003  \n"
     ]
    },
    {
     "name": "stderr",
     "output_type": "stream",
     "text": [
      "Training epoch=1/8: 100%|██████████| 1748/1748 [00:45<00:00, 38.24it/s]\n",
      "Validating epoch=1/8: 100%|██████████| 259/259 [00:03<00:00, 81.66it/s]\n",
      "Training epoch=2/8: 100%|██████████| 1748/1748 [00:46<00:00, 37.86it/s]\n",
      "Validating epoch=2/8: 100%|██████████| 259/259 [00:03<00:00, 81.75it/s]\n",
      "Training epoch=3/8: 100%|██████████| 1748/1748 [00:45<00:00, 38.31it/s]\n",
      "Validating epoch=3/8: 100%|██████████| 259/259 [00:03<00:00, 81.43it/s]\n",
      "Training epoch=4/8: 100%|██████████| 1748/1748 [00:45<00:00, 38.30it/s]\n",
      "Validating epoch=4/8: 100%|██████████| 259/259 [00:03<00:00, 81.49it/s]\n",
      "Training epoch=5/8: 100%|██████████| 1748/1748 [00:45<00:00, 37.94it/s]\n",
      "Validating epoch=5/8: 100%|██████████| 259/259 [00:03<00:00, 80.77it/s]\n",
      "Training epoch=6/8: 100%|██████████| 1748/1748 [00:45<00:00, 37.69it/s]\n",
      "Validating epoch=6/8: 100%|██████████| 259/259 [00:03<00:00, 80.56it/s]\n",
      "Training epoch=7/8: 100%|██████████| 1748/1748 [00:46<00:00, 37.63it/s]\n",
      "Validating epoch=7/8: 100%|██████████| 259/259 [00:03<00:00, 80.41it/s]\n",
      "Training epoch=8/8: 100%|██████████| 1748/1748 [00:46<00:00, 37.96it/s]\n",
      "Validating epoch=8/8: 100%|██████████| 259/259 [00:03<00:00, 81.89it/s]\n"
     ]
    },
    {
     "data": {
      "image/png": "[encoded data removed]",
      "text/plain": [
       "<Figure size 432x288 with 1 Axes>"
      ]
     },
     "metadata": {},
     "output_type": "display_data"
    },
    {
     "name": "stdout",
     "output_type": "stream",
     "text": [
      "              AP     ARR         ARW       G      OP     ORR     ORW  srri  \\\n",
      "2015  0.0000e+00  0.3112  0.0000e+00  0.6673  0.6172  0.0902  0.2622     3   \n",
      "\n",
      "      returns  volatility  \n",
      "2015   0.0054      0.0016  \n"
     ]
    },
    {
     "name": "stderr",
     "output_type": "stream",
     "text": [
      "Training epoch=1/8: 100%|██████████| 1749/1749 [00:45<00:00, 38.34it/s]\n",
      "Validating epoch=1/8: 100%|██████████| 259/259 [00:03<00:00, 81.79it/s]\n",
      "Training epoch=2/8: 100%|██████████| 1749/1749 [00:45<00:00, 38.28it/s]\n",
      "Validating epoch=2/8: 100%|██████████| 259/259 [00:03<00:00, 81.94it/s]\n",
      "Training epoch=3/8: 100%|██████████| 1749/1749 [00:45<00:00, 38.23it/s]\n",
      "Validating epoch=3/8: 100%|██████████| 259/259 [00:03<00:00, 81.85it/s]\n",
      "Training epoch=4/8: 100%|██████████| 1749/1749 [00:45<00:00, 38.26it/s]\n",
      "Validating epoch=4/8: 100%|██████████| 259/259 [00:03<00:00, 80.70it/s]\n",
      "Training epoch=5/8: 100%|██████████| 1749/1749 [00:45<00:00, 38.32it/s]\n",
      "Validating epoch=5/8: 100%|██████████| 259/259 [00:03<00:00, 81.24it/s]\n",
      "Training epoch=6/8: 100%|██████████| 1749/1749 [00:45<00:00, 38.16it/s]\n",
      "Validating epoch=6/8: 100%|██████████| 259/259 [00:03<00:00, 81.79it/s]\n",
      "Training epoch=7/8: 100%|██████████| 1749/1749 [00:45<00:00, 38.26it/s]\n",
      "Validating epoch=7/8: 100%|██████████| 259/259 [00:03<00:00, 81.93it/s]\n",
      "Training epoch=8/8: 100%|██████████| 1749/1749 [00:45<00:00, 38.36it/s]\n",
      "Validating epoch=8/8: 100%|██████████| 259/259 [00:03<00:00, 81.58it/s]\n"
     ]
    },
    {
     "data": {
      "image/png": "[encoded data removed]",
      "text/plain": [
       "<Figure size 432x288 with 1 Axes>"
      ]
     },
     "metadata": {},
     "output_type": "display_data"
    },
    {
     "name": "stdout",
     "output_type": "stream",
     "text": [
      "              AP         ARR         ARW    G   OP  ORR  ORW  srri  returns  \\\n",
      "2016  6.3249e-14  2.9066e-12  9.8525e-14  0.0  0.0  1.0  0.0     3   0.0222   \n",
      "\n",
      "      volatility  \n",
      "2016      0.0021  \n"
     ]
    },
    {
     "name": "stderr",
     "output_type": "stream",
     "text": [
      "Training epoch=1/8: 100%|██████████| 1749/1749 [00:45<00:00, 38.14it/s]\n",
      "Validating epoch=1/8: 100%|██████████| 259/259 [00:03<00:00, 80.36it/s]\n",
      "Training epoch=2/8: 100%|██████████| 1749/1749 [00:45<00:00, 38.35it/s]\n",
      "Validating epoch=2/8: 100%|██████████| 259/259 [00:03<00:00, 82.05it/s]\n",
      "Training epoch=3/8: 100%|██████████| 1749/1749 [00:45<00:00, 38.39it/s]\n",
      "Validating epoch=3/8: 100%|██████████| 259/259 [00:03<00:00, 81.87it/s]\n",
      "Training epoch=4/8: 100%|██████████| 1749/1749 [00:45<00:00, 38.04it/s]\n",
      "Validating epoch=4/8: 100%|██████████| 259/259 [00:03<00:00, 80.68it/s]\n",
      "Training epoch=5/8: 100%|██████████| 1749/1749 [00:45<00:00, 38.38it/s]\n",
      "Validating epoch=5/8: 100%|██████████| 259/259 [00:03<00:00, 82.06it/s]\n",
      "Training epoch=6/8: 100%|██████████| 1749/1749 [00:45<00:00, 38.21it/s]\n",
      "Validating epoch=6/8: 100%|██████████| 259/259 [00:03<00:00, 80.98it/s]\n",
      "Training epoch=7/8: 100%|██████████| 1749/1749 [00:45<00:00, 38.25it/s]\n",
      "Validating epoch=7/8: 100%|██████████| 259/259 [00:03<00:00, 82.10it/s]\n",
      "Training epoch=8/8: 100%|██████████| 1749/1749 [00:45<00:00, 38.26it/s]\n",
      "Validating epoch=8/8: 100%|██████████| 259/259 [00:03<00:00, 81.62it/s]\n"
     ]
    },
    {
     "data": {
      "image/png": "[encoded data removed]",
      "text/plain": [
       "<Figure size 432x288 with 1 Axes>"
      ]
     },
     "metadata": {},
     "output_type": "display_data"
    },
    {
     "name": "stdout",
     "output_type": "stream",
     "text": [
      "       AP         ARR         ARW    G   OP     ORR    ORW  srri  returns  \\\n",
      "2017  0.0  4.7477e-14  3.3821e-15  0.0  0.0  0.3092  0.951     3   0.0746   \n",
      "\n",
      "      volatility  \n",
      "2017      0.0015  \n",
      "Skipping iteration with test_year=2018 due to lack of valid targets in training set:\n",
      "Valid targets: 2520, required: 2528\n"
     ]
    },
    {
     "data": {
      "text/html": [
       "<div>\n",
       "<style scoped>\n",
       "    .dataframe tbody tr th:only-of-type {\n",
       "        vertical-align: middle;\n",
       "    }\n",
       "\n",
       "    .dataframe tbody tr th {\n",
       "        vertical-align: top;\n",
       "    }\n",
       "\n",
       "    .dataframe thead th {\n",
       "        text-align: right;\n",
       "    }\n",
       "</style>\n",
       "<table border=\"1\" class=\"dataframe\">\n",
       "  <thead>\n",
       "    <tr style=\"text-align: right;\">\n",
       "      <th></th>\n",
       "      <th>AP</th>\n",
       "      <th>ARR</th>\n",
       "      <th>ARW</th>\n",
       "      <th>G</th>\n",
       "      <th>OP</th>\n",
       "      <th>ORR</th>\n",
       "      <th>ORW</th>\n",
       "      <th>srri</th>\n",
       "      <th>returns</th>\n",
       "      <th>volatility</th>\n",
       "    </tr>\n",
       "  </thead>\n",
       "  <tbody>\n",
       "    <tr>\n",
       "      <th>2012</th>\n",
       "      <td>1.4036e-12</td>\n",
       "      <td>3.2173e-02</td>\n",
       "      <td>5.0800e-12</td>\n",
       "      <td>0.4607</td>\n",
       "      <td>0.8732</td>\n",
       "      <td>0.1558</td>\n",
       "      <td>3.6663e-14</td>\n",
       "      <td>2</td>\n",
       "      <td>0.0922</td>\n",
       "      <td>0.0009</td>\n",
       "    </tr>\n",
       "    <tr>\n",
       "      <th>2013</th>\n",
       "      <td>2.6294e-11</td>\n",
       "      <td>2.4703e-11</td>\n",
       "      <td>2.9087e-11</td>\n",
       "      <td>0.7236</td>\n",
       "      <td>0.4892</td>\n",
       "      <td>0.4265</td>\n",
       "      <td>2.3476e-01</td>\n",
       "      <td>2</td>\n",
       "      <td>0.0039</td>\n",
       "      <td>0.0012</td>\n",
       "    </tr>\n",
       "    <tr>\n",
       "      <th>2014</th>\n",
       "      <td>1.7493e-01</td>\n",
       "      <td>8.1410e-01</td>\n",
       "      <td>0.0000e+00</td>\n",
       "      <td>0.5471</td>\n",
       "      <td>0.0854</td>\n",
       "      <td>0.0000</td>\n",
       "      <td>0.0000e+00</td>\n",
       "      <td>4</td>\n",
       "      <td>0.0353</td>\n",
       "      <td>0.0030</td>\n",
       "    </tr>\n",
       "    <tr>\n",
       "      <th>2015</th>\n",
       "      <td>0.0000e+00</td>\n",
       "      <td>3.1116e-01</td>\n",
       "      <td>0.0000e+00</td>\n",
       "      <td>0.6673</td>\n",
       "      <td>0.6172</td>\n",
       "      <td>0.0902</td>\n",
       "      <td>2.6223e-01</td>\n",
       "      <td>3</td>\n",
       "      <td>0.0054</td>\n",
       "      <td>0.0016</td>\n",
       "    </tr>\n",
       "    <tr>\n",
       "      <th>2016</th>\n",
       "      <td>6.3249e-14</td>\n",
       "      <td>2.9066e-12</td>\n",
       "      <td>9.8525e-14</td>\n",
       "      <td>0.0000</td>\n",
       "      <td>0.0000</td>\n",
       "      <td>1.0000</td>\n",
       "      <td>0.0000e+00</td>\n",
       "      <td>3</td>\n",
       "      <td>0.0222</td>\n",
       "      <td>0.0021</td>\n",
       "    </tr>\n",
       "    <tr>\n",
       "      <th>2017</th>\n",
       "      <td>0.0000e+00</td>\n",
       "      <td>4.7477e-14</td>\n",
       "      <td>3.3821e-15</td>\n",
       "      <td>0.0000</td>\n",
       "      <td>0.0000</td>\n",
       "      <td>0.3092</td>\n",
       "      <td>9.5101e-01</td>\n",
       "      <td>3</td>\n",
       "      <td>0.0746</td>\n",
       "      <td>0.0015</td>\n",
       "    </tr>\n",
       "  </tbody>\n",
       "</table>\n",
       "</div>"
      ],
      "text/plain": [
       "              AP         ARR         ARW       G      OP     ORR         ORW  \\\n",
       "2012  1.4036e-12  3.2173e-02  5.0800e-12  0.4607  0.8732  0.1558  3.6663e-14   \n",
       "2013  2.6294e-11  2.4703e-11  2.9087e-11  0.7236  0.4892  0.4265  2.3476e-01   \n",
       "2014  1.7493e-01  8.1410e-01  0.0000e+00  0.5471  0.0854  0.0000  0.0000e+00   \n",
       "2015  0.0000e+00  3.1116e-01  0.0000e+00  0.6673  0.6172  0.0902  2.6223e-01   \n",
       "2016  6.3249e-14  2.9066e-12  9.8525e-14  0.0000  0.0000  1.0000  0.0000e+00   \n",
       "2017  0.0000e+00  4.7477e-14  3.3821e-15  0.0000  0.0000  0.3092  9.5101e-01   \n",
       "\n",
       "      srri  returns  volatility  \n",
       "2012     2   0.0922      0.0009  \n",
       "2013     2   0.0039      0.0012  \n",
       "2014     4   0.0353      0.0030  \n",
       "2015     3   0.0054      0.0016  \n",
       "2016     3   0.0222      0.0021  \n",
       "2017     3   0.0746      0.0015  "
      ]
     },
     "execution_count": 27,
     "metadata": {},
     "output_type": "execute_result"
    }
   ],
   "source": [
    "models = []\n",
    "result_dfs = []\n",
    "assert((meta_df.index == funds_df.index).all())\n",
    "for train_ids, test_ids in OneYearTest(meta_df):  # TODO: Support batch_size other than 1 in OneYearTest\n",
    "    test_year = meta_df[test_ids].index.year[0]\n",
    "    if not meta_df.iloc[train_ids]['features_valid'].all():\n",
    "        print(f\"Skipping iteration with test_year={test_year} due to lack of valid features in training set:\")\n",
    "        print(f\"Valid features: {meta_df.iloc[train_ids]['features_valid'].sum()}, required: {len(meta_df.iloc[train_ids]['features_valid'])}\")\n",
    "        continue\n",
    "    if not meta_df.iloc[train_ids]['target_valid'].all():\n",
    "        print(f\"Skipping iteration with test_year={test_year} due to lack of valid targets in training set:\")\n",
    "        print(f\"Valid targets: {meta_df.iloc[train_ids]['target_valid'].sum()}, required: {len(meta_df.iloc[train_ids]['target_valid'])}\")\n",
    "        continue\n",
    "    X, y = all_features[train_ids[:len(all_features)]], all_targets[train_ids[:len(all_targets)]]\n",
    "    assert(~np.any(np.isnan(X)))\n",
    "    assert(~np.any(np.isnan(y)))\n",
    "    \n",
    "    X, y = as_sequences(X, y, seq_len=seq_len, batch_size=batch_size, cuda_device=cuda_device)\n",
    "    X_train_ = X[:-val_set_len]\n",
    "    y_train_ = y[:-val_set_len]\n",
    "    X_valid_ = X[-val_set_len:-1]\n",
    "    y_valid_ = y[-val_set_len:-1]\n",
    "    X_test_batch_ = X[-1]  # for portfolio construction, separate from validation\n",
    "    \n",
    "    model = LSTM(\n",
    "        input_dim=all_features.shape[1], \n",
    "        hidden_dim=model_hidden_dim,\n",
    "        output_dim=all_targets.shape[1],\n",
    "        batch_size=1\n",
    "    )\n",
    "    model, train_loss, valid_loss = train(model, X_train_, y_train_, X_valid_, y_valid_)\n",
    "    models.append(model)\n",
    "    x = list(range(1,n_epochs+1))\n",
    "    plt.plot(x, train_loss, color='red', label='training loss')\n",
    "    plt.plot(x, valid_loss, color='blue', label='validation loss')\n",
    "    plt.title(f'Model {model.__class__.__name__}, validation_year={meta_df[train_ids].index.year[-1]}')\n",
    "    plt.legend()\n",
    "    plt.show()\n",
    "    \n",
    "    allocation = predict_allocate(model, X_test_batch_, target_scaler)\n",
    "    allocation_data = {fund: allocation[idx] for idx, fund in enumerate(funds_df.columns)}\n",
    "    srri = portfolio_srri(allocation, funds_df[train_ids].values)\n",
    "    returns, volatility = portfolio_performance(allocation, funds_df[test_ids].values)\n",
    "    performance_data = {'srri': srri, 'returns': returns, 'volatility': volatility}\n",
    "    performance_df = pd.DataFrame(\n",
    "        {**allocation_data, **performance_data}, \n",
    "        index=[meta_df[test_ids].index.year[0]]\n",
    "    )\n",
    "    print(performance_df)\n",
    "    result_dfs.append(performance_df)\n",
    "lstm_results_df = pd.concat(result_dfs, axis='index')\n",
    "lstm_results_df"
   ]
  },
  {
   "cell_type": "markdown",
   "metadata": {},
   "source": [
    "## Results comparison"
   ]
  },
  {
   "cell_type": "code",
   "execution_count": 32,
   "metadata": {},
   "outputs": [],
   "source": [
    "combined_results = base_results_df.join(lstm_results_df, rsuffix='_LSTM').dropna(axis='index')"
   ]
  },
  {
   "cell_type": "code",
   "execution_count": 33,
   "metadata": {},
   "outputs": [
    {
     "data": {
      "text/html": [
       "<div>\n",
       "<style scoped>\n",
       "    .dataframe tbody tr th:only-of-type {\n",
       "        vertical-align: middle;\n",
       "    }\n",
       "\n",
       "    .dataframe tbody tr th {\n",
       "        vertical-align: top;\n",
       "    }\n",
       "\n",
       "    .dataframe thead th {\n",
       "        text-align: right;\n",
       "    }\n",
       "</style>\n",
       "<table border=\"1\" class=\"dataframe\">\n",
       "  <thead>\n",
       "    <tr style=\"text-align: right;\">\n",
       "      <th></th>\n",
       "      <th>srri</th>\n",
       "      <th>returns</th>\n",
       "      <th>volatility</th>\n",
       "      <th>srri_LSTM</th>\n",
       "      <th>returns_LSTM</th>\n",
       "      <th>volatility_LSTM</th>\n",
       "    </tr>\n",
       "  </thead>\n",
       "  <tbody>\n",
       "    <tr>\n",
       "      <th>2012</th>\n",
       "      <td>3</td>\n",
       "      <td>0.0389</td>\n",
       "      <td>0.0010</td>\n",
       "      <td>2.0</td>\n",
       "      <td>0.0922</td>\n",
       "      <td>0.0009</td>\n",
       "    </tr>\n",
       "    <tr>\n",
       "      <th>2013</th>\n",
       "      <td>2</td>\n",
       "      <td>0.0075</td>\n",
       "      <td>0.0009</td>\n",
       "      <td>2.0</td>\n",
       "      <td>0.0039</td>\n",
       "      <td>0.0012</td>\n",
       "    </tr>\n",
       "    <tr>\n",
       "      <th>2014</th>\n",
       "      <td>2</td>\n",
       "      <td>0.0574</td>\n",
       "      <td>0.0007</td>\n",
       "      <td>4.0</td>\n",
       "      <td>0.0353</td>\n",
       "      <td>0.0030</td>\n",
       "    </tr>\n",
       "    <tr>\n",
       "      <th>2015</th>\n",
       "      <td>2</td>\n",
       "      <td>0.0065</td>\n",
       "      <td>0.0011</td>\n",
       "      <td>3.0</td>\n",
       "      <td>0.0054</td>\n",
       "      <td>0.0016</td>\n",
       "    </tr>\n",
       "    <tr>\n",
       "      <th>2016</th>\n",
       "      <td>2</td>\n",
       "      <td>0.0209</td>\n",
       "      <td>0.0011</td>\n",
       "      <td>3.0</td>\n",
       "      <td>0.0222</td>\n",
       "      <td>0.0021</td>\n",
       "    </tr>\n",
       "    <tr>\n",
       "      <th>2017</th>\n",
       "      <td>2</td>\n",
       "      <td>0.0291</td>\n",
       "      <td>0.0008</td>\n",
       "      <td>3.0</td>\n",
       "      <td>0.0746</td>\n",
       "      <td>0.0015</td>\n",
       "    </tr>\n",
       "  </tbody>\n",
       "</table>\n",
       "</div>"
      ],
      "text/plain": [
       "      srri  returns  volatility  srri_LSTM  returns_LSTM  volatility_LSTM\n",
       "2012     3   0.0389      0.0010        2.0        0.0922           0.0009\n",
       "2013     2   0.0075      0.0009        2.0        0.0039           0.0012\n",
       "2014     2   0.0574      0.0007        4.0        0.0353           0.0030\n",
       "2015     2   0.0065      0.0011        3.0        0.0054           0.0016\n",
       "2016     2   0.0209      0.0011        3.0        0.0222           0.0021\n",
       "2017     2   0.0291      0.0008        3.0        0.0746           0.0015"
      ]
     },
     "execution_count": 33,
     "metadata": {},
     "output_type": "execute_result"
    }
   ],
   "source": [
    "combined_results[['srri', 'returns', 'volatility', 'srri_LSTM', 'returns_LSTM', 'volatility_LSTM']]"
   ]
  },
  {
   "cell_type": "code",
   "execution_count": 35,
   "metadata": {},
   "outputs": [
    {
     "data": {
      "text/plain": [
       "srri               2.1667\n",
       "returns            0.0267\n",
       "volatility         0.0009\n",
       "srri_LSTM          2.8333\n",
       "returns_LSTM       0.0389\n",
       "volatility_LSTM    0.0017\n",
       "dtype: float64"
      ]
     },
     "execution_count": 35,
     "metadata": {},
     "output_type": "execute_result"
    }
   ],
   "source": [
    "combined_results[['srri', 'returns', 'volatility', 'srri_LSTM', 'returns_LSTM', 'volatility_LSTM']].mean()"
   ]
  },
  {
   "cell_type": "markdown",
   "metadata": {},
   "source": [
    "**We can see that, on average, LSTM-based portfolio outperforms base portfolio strategy, \n",
    "but is also a little riskier (while still within the limits of SRRI no greater than 4).**"
   ]
  }
 ],
 "metadata": {
  "kernelspec": {
   "display_name": "Environment (conda_pytorch_p36)",
   "language": "python",
   "name": "conda_pytorch_p36"
  },
  "language_info": {
   "codemirror_mode": {
    "name": "ipython",
    "version": 3
   },
   "file_extension": ".py",
   "mimetype": "text/x-python",
   "name": "python",
   "nbconvert_exporter": "python",
   "pygments_lexer": "ipython3",
   "version": "3.6.5"
  }
 },
 "nbformat": 4,
 "nbformat_minor": 2
}
