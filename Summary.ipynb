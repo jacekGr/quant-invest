{
 "cells": [
  {
   "cell_type": "markdown",
   "metadata": {},
   "source": [
    "# Second stage summary\n",
    "\n",
    "In the first stage, we established that selecting a simple portfolio built with classical methods is more reliable than attempting to select or compose a portfolio using machine learning, in particular neural networks.\n",
    "\n",
    "During the second stage, we wanted to establish whether adding more relevant features to the training data and reducing the problem to a simple forecast (of future covariance or future returns) is a viable strategy. If this does not improve the base model, it will confirm our hypothesis that portfolio allocation should be performed based on fundamentals of portfolio theory and economics, rather than based on advanced analytics and forecasting.\n",
    "\n",
    "This summary consists of following parts:\n",
    "1. Base model performance testing (classical portfolio theory)\n",
    "2. Training advanced forecasting model\n",
    "  - dataset assembly\n",
    "  - model architecture definition\n",
    "  - training & validation of created model\n",
    "3. Comparison of test results between base and advanced model"
   ]
  },
  {
   "cell_type": "markdown",
   "metadata": {},
   "source": [
    "## Base model performance"
   ]
  },
  {
   "cell_type": "code",
   "execution_count": 1,
   "metadata": {},
   "outputs": [],
   "source": [
    "import pandas as pd\n",
    "import numpy as np\n",
    "\n",
    "from numba import jit\n",
    "\n",
    "from typing import Tuple\n",
    "\n",
    "from utils.data_loader import *\n",
    "\n",
    "from pypfopt.expected_returns import mean_historical_return\n",
    "from pypfopt.risk_models import CovarianceShrinkage\n",
    "from pypfopt.efficient_frontier import EfficientFrontier"
   ]
  },
  {
   "cell_type": "code",
   "execution_count": 2,
   "metadata": {},
   "outputs": [],
   "source": [
    "class OneYearTest(object):\n",
    "    \"\"\"\n",
    "    Scikit-learn style iterator returning training- and test-set indices,\n",
    "    where test set is one-year-long and training set consists of n_train_years\n",
    "    preceding the test set year.\n",
    "    \"\"\"\n",
    "    def __init__(self, df: pd.DataFrame, n_train_years: int=10):\n",
    "        self.index_years = df.index.year\n",
    "        self.unique_years = np.unique(self.index_years)\n",
    "        self.n_train_years = n_train_years\n",
    "        \n",
    "    @property\n",
    "    def train_years(self):\n",
    "        return set(self.unique_years[self.idx-self.n_train_years:self.idx])\n",
    "    \n",
    "    @property\n",
    "    def test_year(self):\n",
    "        return self.unique_years[self.idx]\n",
    "\n",
    "    def __iter__(self):\n",
    "        self.idx = self.n_train_years\n",
    "        return self\n",
    "    \n",
    "    def __next__(self):\n",
    "        if self.idx < len(self.unique_years):\n",
    "            train_ids = self.index_years.isin(self.train_years)\n",
    "            test_ids = self.index_years == self.test_year\n",
    "            self.idx += 1\n",
    "            return train_ids, test_ids\n",
    "        else:\n",
    "            raise StopIteration"
   ]
  },
  {
   "cell_type": "code",
   "execution_count": 3,
   "metadata": {},
   "outputs": [],
   "source": [
    "@jit(nopython=True)\n",
    "def portfolio_performance(allocation: np.array, fund_values: np.array) -> Tuple[float, float]:\n",
    "    \"\"\"\n",
    "    Calculates total returns and daily returns volatility during entire period of provided fund values.\n",
    "    \"\"\"\n",
    "    allocation_value = np.sum(allocation * fund_values, axis=1) / np.sum(allocation)\n",
    "    period_returns = (allocation_value[-1] - allocation_value[0]) / allocation_value[0]\n",
    "    daily_returns = (allocation_value[1:] - allocation_value[:-1]) / allocation_value[:-1]\n",
    "    period_volatility = np.std(daily_returns)\n",
    "    return period_returns, period_volatility"
   ]
  },
  {
   "cell_type": "code",
   "execution_count": 4,
   "metadata": {},
   "outputs": [],
   "source": [
    "@jit(nopython=True)\n",
    "def portfolio_srri(allocation: np.array, fund_values: np.array) -> int:\n",
    "    \"\"\"\n",
    "    Calculates SRRI based on porfolio volatility \n",
    "    during last 5 years of provided fund_values,\n",
    "    as described in https://bit.ly/2RDVib9\n",
    "    \"\"\"\n",
    "    m = 260  # days in a year, as in the SRRI paper\n",
    "    T = 5*260  # days in 5 years, as in the SRRI paper\n",
    "    allocation_value = np.sum(allocation * fund_values[-T:], axis=1) / np.sum(allocation)\n",
    "    daily_returns = (allocation_value[1:] - allocation_value[:-1]) / allocation_value[:-1]\n",
    "    scaled_volatility = np.sqrt(m * np.sum((daily_returns - np.mean(daily_returns))**2) / (T-1))\n",
    "    if scaled_volatility >= 0.25:\n",
    "        return 7\n",
    "    elif scaled_volatility >= 0.15:\n",
    "        return 6\n",
    "    elif scaled_volatility >= 0.1:\n",
    "        return 5\n",
    "    elif scaled_volatility >= 0.05:\n",
    "        return 4\n",
    "    elif scaled_volatility >= 0.02:\n",
    "        return 3\n",
    "    elif scaled_volatility >= 0.005:\n",
    "        return 2\n",
    "    else:\n",
    "        return 1"
   ]
  },
  {
   "cell_type": "code",
   "execution_count": 5,
   "metadata": {},
   "outputs": [],
   "source": [
    "def base_model(funds_df: pd.DataFrame) -> np.array:\n",
    "    mu = mean_historical_return(funds_df)\n",
    "    S = CovarianceShrinkage(funds_df).ledoit_wolf()\n",
    "    ef = EfficientFrontier(mu, S)\n",
    "    ef.efficient_return(0.04)\n",
    "    return ef.weights"
   ]
  },
  {
   "cell_type": "markdown",
   "metadata": {},
   "source": [
    "### Loading data"
   ]
  },
  {
   "cell_type": "code",
   "execution_count": 6,
   "metadata": {},
   "outputs": [
    {
     "data": {
      "text/html": [
       "<div>\n",
       "<style scoped>\n",
       "    .dataframe tbody tr th:only-of-type {\n",
       "        vertical-align: middle;\n",
       "    }\n",
       "\n",
       "    .dataframe tbody tr th {\n",
       "        vertical-align: top;\n",
       "    }\n",
       "\n",
       "    .dataframe thead th {\n",
       "        text-align: right;\n",
       "    }\n",
       "</style>\n",
       "<table border=\"1\" class=\"dataframe\">\n",
       "  <thead>\n",
       "    <tr style=\"text-align: right;\">\n",
       "      <th></th>\n",
       "      <th>AP</th>\n",
       "      <th>ARR</th>\n",
       "      <th>ARW</th>\n",
       "      <th>G</th>\n",
       "      <th>OP</th>\n",
       "      <th>ORR</th>\n",
       "      <th>ORW</th>\n",
       "    </tr>\n",
       "    <tr>\n",
       "      <th>Daty</th>\n",
       "      <th></th>\n",
       "      <th></th>\n",
       "      <th></th>\n",
       "      <th></th>\n",
       "      <th></th>\n",
       "      <th></th>\n",
       "      <th></th>\n",
       "    </tr>\n",
       "  </thead>\n",
       "  <tbody>\n",
       "    <tr>\n",
       "      <th>2000-01-03</th>\n",
       "      <td>415.90</td>\n",
       "      <td>549.11</td>\n",
       "      <td>354.45</td>\n",
       "      <td>401.26</td>\n",
       "      <td>275.08</td>\n",
       "      <td>520.13</td>\n",
       "      <td>230.72</td>\n",
       "    </tr>\n",
       "    <tr>\n",
       "      <th>2000-01-04</th>\n",
       "      <td>404.41</td>\n",
       "      <td>533.89</td>\n",
       "      <td>357.14</td>\n",
       "      <td>401.42</td>\n",
       "      <td>275.08</td>\n",
       "      <td>520.02</td>\n",
       "      <td>229.63</td>\n",
       "    </tr>\n",
       "    <tr>\n",
       "      <th>2000-01-05</th>\n",
       "      <td>400.04</td>\n",
       "      <td>527.38</td>\n",
       "      <td>351.19</td>\n",
       "      <td>401.59</td>\n",
       "      <td>275.08</td>\n",
       "      <td>519.22</td>\n",
       "      <td>229.22</td>\n",
       "    </tr>\n",
       "    <tr>\n",
       "      <th>2000-01-06</th>\n",
       "      <td>410.15</td>\n",
       "      <td>522.02</td>\n",
       "      <td>347.96</td>\n",
       "      <td>401.75</td>\n",
       "      <td>275.07</td>\n",
       "      <td>519.62</td>\n",
       "      <td>228.82</td>\n",
       "    </tr>\n",
       "    <tr>\n",
       "      <th>2000-01-07</th>\n",
       "      <td>429.16</td>\n",
       "      <td>533.16</td>\n",
       "      <td>351.87</td>\n",
       "      <td>401.93</td>\n",
       "      <td>275.07</td>\n",
       "      <td>520.80</td>\n",
       "      <td>230.09</td>\n",
       "    </tr>\n",
       "  </tbody>\n",
       "</table>\n",
       "</div>"
      ],
      "text/plain": [
       "                AP     ARR     ARW       G      OP     ORR     ORW\n",
       "Daty                                                              \n",
       "2000-01-03  415.90  549.11  354.45  401.26  275.08  520.13  230.72\n",
       "2000-01-04  404.41  533.89  357.14  401.42  275.08  520.02  229.63\n",
       "2000-01-05  400.04  527.38  351.19  401.59  275.08  519.22  229.22\n",
       "2000-01-06  410.15  522.02  347.96  401.75  275.07  519.62  228.82\n",
       "2000-01-07  429.16  533.16  351.87  401.93  275.07  520.80  230.09"
      ]
     },
     "execution_count": 6,
     "metadata": {},
     "output_type": "execute_result"
    }
   ],
   "source": [
    "funds_df = load_funds()\n",
    "funds_df.head()"
   ]
  },
  {
   "cell_type": "markdown",
   "metadata": {},
   "source": [
    "### Evaluating model performance"
   ]
  },
  {
   "cell_type": "code",
   "execution_count": 7,
   "metadata": {},
   "outputs": [
    {
     "data": {
      "text/html": [
       "<div>\n",
       "<style scoped>\n",
       "    .dataframe tbody tr th:only-of-type {\n",
       "        vertical-align: middle;\n",
       "    }\n",
       "\n",
       "    .dataframe tbody tr th {\n",
       "        vertical-align: top;\n",
       "    }\n",
       "\n",
       "    .dataframe thead th {\n",
       "        text-align: right;\n",
       "    }\n",
       "</style>\n",
       "<table border=\"1\" class=\"dataframe\">\n",
       "  <thead>\n",
       "    <tr style=\"text-align: right;\">\n",
       "      <th></th>\n",
       "      <th>AP</th>\n",
       "      <th>ARR</th>\n",
       "      <th>ARW</th>\n",
       "      <th>G</th>\n",
       "      <th>OP</th>\n",
       "      <th>ORR</th>\n",
       "      <th>ORW</th>\n",
       "      <th>srri</th>\n",
       "      <th>returns</th>\n",
       "      <th>volatility</th>\n",
       "    </tr>\n",
       "  </thead>\n",
       "  <tbody>\n",
       "    <tr>\n",
       "      <th>2010</th>\n",
       "      <td>0.000000e+00</td>\n",
       "      <td>0.097180</td>\n",
       "      <td>0.000000e+00</td>\n",
       "      <td>0.029988</td>\n",
       "      <td>4.685533e-18</td>\n",
       "      <td>0.872832</td>\n",
       "      <td>0.000000e+00</td>\n",
       "      <td>3</td>\n",
       "      <td>0.039771</td>\n",
       "      <td>0.001369</td>\n",
       "    </tr>\n",
       "    <tr>\n",
       "      <th>2011</th>\n",
       "      <td>0.000000e+00</td>\n",
       "      <td>0.072626</td>\n",
       "      <td>2.120622e-18</td>\n",
       "      <td>0.137887</td>\n",
       "      <td>0.000000e+00</td>\n",
       "      <td>0.789487</td>\n",
       "      <td>0.000000e+00</td>\n",
       "      <td>3</td>\n",
       "      <td>0.049100</td>\n",
       "      <td>0.001130</td>\n",
       "    </tr>\n",
       "    <tr>\n",
       "      <th>2012</th>\n",
       "      <td>0.000000e+00</td>\n",
       "      <td>0.029938</td>\n",
       "      <td>2.775558e-17</td>\n",
       "      <td>0.163534</td>\n",
       "      <td>1.110223e-16</td>\n",
       "      <td>0.806528</td>\n",
       "      <td>4.996004e-16</td>\n",
       "      <td>3</td>\n",
       "      <td>0.038907</td>\n",
       "      <td>0.001017</td>\n",
       "    </tr>\n",
       "    <tr>\n",
       "      <th>2013</th>\n",
       "      <td>0.000000e+00</td>\n",
       "      <td>0.000000</td>\n",
       "      <td>2.498002e-16</td>\n",
       "      <td>0.396435</td>\n",
       "      <td>9.826165e-02</td>\n",
       "      <td>0.505303</td>\n",
       "      <td>0.000000e+00</td>\n",
       "      <td>2</td>\n",
       "      <td>0.007480</td>\n",
       "      <td>0.000924</td>\n",
       "    </tr>\n",
       "    <tr>\n",
       "      <th>2014</th>\n",
       "      <td>1.387779e-16</td>\n",
       "      <td>0.011953</td>\n",
       "      <td>0.000000e+00</td>\n",
       "      <td>0.369706</td>\n",
       "      <td>1.710975e-01</td>\n",
       "      <td>0.438951</td>\n",
       "      <td>8.292950e-03</td>\n",
       "      <td>2</td>\n",
       "      <td>0.057371</td>\n",
       "      <td>0.000711</td>\n",
       "    </tr>\n",
       "    <tr>\n",
       "      <th>2015</th>\n",
       "      <td>0.000000e+00</td>\n",
       "      <td>0.047583</td>\n",
       "      <td>0.000000e+00</td>\n",
       "      <td>0.406317</td>\n",
       "      <td>1.323265e-01</td>\n",
       "      <td>0.412050</td>\n",
       "      <td>1.723540e-03</td>\n",
       "      <td>2</td>\n",
       "      <td>0.006546</td>\n",
       "      <td>0.001059</td>\n",
       "    </tr>\n",
       "    <tr>\n",
       "      <th>2016</th>\n",
       "      <td>0.000000e+00</td>\n",
       "      <td>0.007411</td>\n",
       "      <td>0.000000e+00</td>\n",
       "      <td>0.337597</td>\n",
       "      <td>2.057501e-01</td>\n",
       "      <td>0.339308</td>\n",
       "      <td>1.099335e-01</td>\n",
       "      <td>2</td>\n",
       "      <td>0.020865</td>\n",
       "      <td>0.001130</td>\n",
       "    </tr>\n",
       "    <tr>\n",
       "      <th>2017</th>\n",
       "      <td>2.602085e-18</td>\n",
       "      <td>0.000000</td>\n",
       "      <td>0.000000e+00</td>\n",
       "      <td>0.312992</td>\n",
       "      <td>2.390520e-01</td>\n",
       "      <td>0.309681</td>\n",
       "      <td>1.382744e-01</td>\n",
       "      <td>2</td>\n",
       "      <td>0.029053</td>\n",
       "      <td>0.000803</td>\n",
       "    </tr>\n",
       "    <tr>\n",
       "      <th>2018</th>\n",
       "      <td>0.000000e+00</td>\n",
       "      <td>0.004771</td>\n",
       "      <td>4.987330e-18</td>\n",
       "      <td>0.307000</td>\n",
       "      <td>2.338743e-01</td>\n",
       "      <td>0.305518</td>\n",
       "      <td>1.488360e-01</td>\n",
       "      <td>2</td>\n",
       "      <td>0.007488</td>\n",
       "      <td>0.000779</td>\n",
       "    </tr>\n",
       "  </tbody>\n",
       "</table>\n",
       "</div>"
      ],
      "text/plain": [
       "                AP       ARR           ARW         G            OP       ORR  \\\n",
       "2010  0.000000e+00  0.097180  0.000000e+00  0.029988  4.685533e-18  0.872832   \n",
       "2011  0.000000e+00  0.072626  2.120622e-18  0.137887  0.000000e+00  0.789487   \n",
       "2012  0.000000e+00  0.029938  2.775558e-17  0.163534  1.110223e-16  0.806528   \n",
       "2013  0.000000e+00  0.000000  2.498002e-16  0.396435  9.826165e-02  0.505303   \n",
       "2014  1.387779e-16  0.011953  0.000000e+00  0.369706  1.710975e-01  0.438951   \n",
       "2015  0.000000e+00  0.047583  0.000000e+00  0.406317  1.323265e-01  0.412050   \n",
       "2016  0.000000e+00  0.007411  0.000000e+00  0.337597  2.057501e-01  0.339308   \n",
       "2017  2.602085e-18  0.000000  0.000000e+00  0.312992  2.390520e-01  0.309681   \n",
       "2018  0.000000e+00  0.004771  4.987330e-18  0.307000  2.338743e-01  0.305518   \n",
       "\n",
       "               ORW  srri   returns  volatility  \n",
       "2010  0.000000e+00     3  0.039771    0.001369  \n",
       "2011  0.000000e+00     3  0.049100    0.001130  \n",
       "2012  4.996004e-16     3  0.038907    0.001017  \n",
       "2013  0.000000e+00     2  0.007480    0.000924  \n",
       "2014  8.292950e-03     2  0.057371    0.000711  \n",
       "2015  1.723540e-03     2  0.006546    0.001059  \n",
       "2016  1.099335e-01     2  0.020865    0.001130  \n",
       "2017  1.382744e-01     2  0.029053    0.000803  \n",
       "2018  1.488360e-01     2  0.007488    0.000779  "
      ]
     },
     "execution_count": 7,
     "metadata": {},
     "output_type": "execute_result"
    }
   ],
   "source": [
    "result_dfs = []\n",
    "for train_ids, test_ids in OneYearTest(funds_df):\n",
    "    train_, test_ = funds_df[train_ids], funds_df[test_ids]\n",
    "    allocation = base_model(train_)\n",
    "    allocation_data = {fund: allocation[idx] for idx, fund in enumerate(funds_df.columns)}\n",
    "    srri = portfolio_srri(allocation, train_.values)\n",
    "    returns, volatility = portfolio_performance(allocation, test_.values)\n",
    "    performance_data = {'srri': srri, 'returns': returns, 'volatility': volatility}\n",
    "    result_dfs.append(\n",
    "        pd.DataFrame({**allocation_data, **performance_data}, index=[test_.index.year[0]])\n",
    "    )\n",
    "base_results_df = pd.concat(result_dfs, axis='index')\n",
    "base_results_df"
   ]
  },
  {
   "cell_type": "markdown",
   "metadata": {},
   "source": [
    "## Advanced model performance\n",
    "\n",
    "We will attempt to train a deep neural network, that will attempt to predict future returns as well as future fund value covariance."
   ]
  },
  {
   "cell_type": "code",
   "execution_count": 8,
   "metadata": {},
   "outputs": [],
   "source": [
    "from dataclasses import dataclass, asdict\n",
    "import multiprocessing as mp\n",
    "\n",
    "from tqdm import tqdm\n",
    "\n",
    "import ta"
   ]
  },
  {
   "cell_type": "markdown",
   "metadata": {},
   "source": [
    "### External data"
   ]
  },
  {
   "cell_type": "markdown",
   "metadata": {},
   "source": [
    "### Feature generation\n",
    "\n",
    "For our fund values, we calculate similar features to the ones mentioned by: *Bao, W., Yue, J., Rao, Y. (2017). A deep learning framework for financial time series\n",
    "using stacked autoencoders and long-short term memory.*"
   ]
  },
  {
   "cell_type": "code",
   "execution_count": 9,
   "metadata": {},
   "outputs": [],
   "source": [
    "fund_column_features = {\n",
    "    'MACD': lambda col: ta.trend.macd(col, n_fast=80, n_slow=160),\n",
    "    'BBL': lambda col: ta.volatility.bollinger_lband(col, n=120),\n",
    "    'BBH': lambda col: ta.volatility.bollinger_hband(col, n=120),\n",
    "    'EMA': lambda col: ta.trend.ema_indicator(col, n=240),\n",
    "}\n",
    "\n",
    "ohlc_column_features = {\n",
    "    # TODO\n",
    "}"
   ]
  },
  {
   "cell_type": "code",
   "execution_count": 10,
   "metadata": {},
   "outputs": [
    {
     "name": "stderr",
     "output_type": "stream",
     "text": [
      "100%|██████████| 4/4 [00:00<00:00, 61.94it/s]\n"
     ]
    }
   ],
   "source": [
    "features_df = pd.DataFrame(index=funds_df.index)\n",
    "for key in tqdm(fund_column_features):\n",
    "    for col in funds_df.columns:\n",
    "        features_df[f'{col}_{key}'] = fund_column_features[key](funds_df[col])"
   ]
  },
  {
   "cell_type": "markdown",
   "metadata": {},
   "source": [
    "### Target generation"
   ]
  },
  {
   "cell_type": "code",
   "execution_count": 11,
   "metadata": {},
   "outputs": [],
   "source": [
    "@dataclass\n",
    "class Target(object):\n",
    "    fund_returns: np.array\n",
    "    fund_covariance: np.array\n",
    "    ideal_allocation: np.array\n",
    "    ideal_returns: float"
   ]
  },
  {
   "cell_type": "code",
   "execution_count": 12,
   "metadata": {},
   "outputs": [],
   "source": [
    "def calculate_target(funds_df: pd.DataFrame) -> Target:\n",
    "    mu = mean_historical_return(funds_df)\n",
    "    S = CovarianceShrinkage(funds_df).ledoit_wolf()\n",
    "    ef = EfficientFrontier(mu, S)\n",
    "    ef.efficient_risk(0.1)\n",
    "    ideal_allocation = ef.weights\n",
    "    ideal_returns = ef.portfolio_performance()[0]\n",
    "    return Target(mu, S, ideal_allocation, ideal_returns)"
   ]
  },
  {
   "cell_type": "markdown",
   "metadata": {},
   "source": [
    "We calculate all target data in parallel to save time:"
   ]
  },
  {
   "cell_type": "code",
   "execution_count": 13,
   "metadata": {},
   "outputs": [
    {
     "name": "stdout",
     "output_type": "stream",
     "text": [
      "4541\n",
      "CPU times: user 5.43 s, sys: 348 ms, total: 5.78 s\n",
      "Wall time: 26.1 s\n"
     ]
    }
   ],
   "source": [
    "%%time\n",
    "YEAR_DAYS = 260\n",
    "\n",
    "dfs = [\n",
    "    funds_df[idx+1 : idx+1+YEAR_DAYS]\n",
    "    for idx in range(funds_df.iloc[:-YEAR_DAYS].shape[0])\n",
    "]\n",
    "with mp.Pool(processes=12) as pool:\n",
    "    targets = pool.map(calculate_target, dfs)\n",
    "\n",
    "print(len(targets))"
   ]
  },
  {
   "cell_type": "markdown",
   "metadata": {},
   "source": [
    "Then, we extract information necessary for our experiment and back it up:"
   ]
  },
  {
   "cell_type": "code",
   "execution_count": 14,
   "metadata": {},
   "outputs": [],
   "source": [
    "returns_target = np.zeros_like(funds_df[:-YEAR_DAYS])\n",
    "covariance_target = np.zeros(\n",
    "    (len(funds_df[:-YEAR_DAYS]), funds_df.shape[1]**2)\n",
    ")\n",
    "sample_weights = np.zeros(len(funds_df[:-YEAR_DAYS]))\n",
    "\n",
    "for idx, target in enumerate(targets):\n",
    "    returns_target[idx] = target.fund_returns.values.ravel()\n",
    "    covariance_target[idx] = target.fund_covariance.values.ravel()\n",
    "    sample_weights[idx] = target.ideal_returns  # years with higher returns are more important\n",
    "\n",
    "np.save('data/forecasting/returns_target.npy', returns_target)\n",
    "np.save('data/forecasting/covariance_target.npy', covariance_target)\n",
    "np.save('data/forecasting/sample_weights.npy', sample_weights)"
   ]
  },
  {
   "cell_type": "markdown",
   "metadata": {},
   "source": [
    "We can also add past targets to our features:"
   ]
  },
  {
   "cell_type": "code",
   "execution_count": 15,
   "metadata": {},
   "outputs": [],
   "source": [
    "returns_features = np.zeros_like(funds_df)\n",
    "returns_features[:YEAR_DAYS] = np.nan\n",
    "returns_features[YEAR_DAYS:] = returns_target\n",
    "\n",
    "covariance_features = np.zeros(\n",
    "    (len(funds_df), funds_df.shape[1]**2)\n",
    ")\n",
    "covariance_features[:YEAR_DAYS] = np.nan\n",
    "covariance_features[YEAR_DAYS:] = covariance_target\n",
    "\n",
    "weights_features = np.zeros(len(funds_df))\n",
    "weights_features[:YEAR_DAYS] = np.nan\n",
    "weights_features[YEAR_DAYS:] = sample_weights"
   ]
  },
  {
   "cell_type": "markdown",
   "metadata": {},
   "source": [
    "### Model definition"
   ]
  },
  {
   "cell_type": "code",
   "execution_count": 34,
   "metadata": {},
   "outputs": [],
   "source": [
    "import torch\n",
    "import torch.nn as nn\n",
    "import torch.nn.functional as F\n",
    "import torch.optim as optim\n",
    "\n",
    "torch.manual_seed(42)\n",
    "\n",
    "assert(torch.cuda.is_available())\n",
    "cuda_device = 0\n",
    "torch.cuda.empty_cache()"
   ]
  },
  {
   "cell_type": "code",
   "execution_count": 35,
   "metadata": {},
   "outputs": [],
   "source": [
    "class LSTM(nn.Module):\n",
    "    def __init__(self, input_dim, hidden_dim, batch_size, output_dim=1, num_layers=2, cuda_device=cuda_device):\n",
    "        super(LSTM, self).__init__()\n",
    "        self.input_dim = input_dim\n",
    "        self.hidden_dim = hidden_dim\n",
    "        self.batch_size = batch_size\n",
    "        self.num_layers = num_layers\n",
    "        self.cuda_device = cuda_device\n",
    "\n",
    "        self.lstm = nn.LSTM(\n",
    "            self.input_dim, \n",
    "            self.hidden_dim, \n",
    "            self.num_layers,\n",
    "            batch_first=True\n",
    "        )\n",
    "        self.linear = nn.Linear(self.hidden_dim, output_dim)\n",
    "\n",
    "    def init_hidden(self):\n",
    "        self.hidden = (\n",
    "            torch.zeros(self.num_layers, self.batch_size, self.hidden_dim).to(cuda_device).type(torch.float32),\n",
    "            torch.zeros(self.num_layers, self.batch_size, self.hidden_dim).to(cuda_device).type(torch.float32)\n",
    "        )\n",
    "        return self.hidden\n",
    "\n",
    "    def forward(self, input):\n",
    "        lstm_out, self.hidden = self.lstm(input)\n",
    "        # shape of lstm_out: [batch_size, seq_len, hidden_dim]\n",
    "        y_pred = self.linear(lstm_out[:,-1].view(self.batch_size, -1))\n",
    "        return y_pred.view(-1)"
   ]
  },
  {
   "cell_type": "markdown",
   "metadata": {},
   "source": [
    "### Training & evaluation"
   ]
  },
  {
   "cell_type": "code",
   "execution_count": 36,
   "metadata": {},
   "outputs": [],
   "source": [
    "from sklearn.preprocessing import StandardScaler, MinMaxScaler"
   ]
  },
  {
   "cell_type": "code",
   "execution_count": 37,
   "metadata": {},
   "outputs": [],
   "source": [
    "all_features = np.hstack([features_df.values, returns_features, covariance_features, weights_features.reshape(-1, 1)])\n",
    "features_valid = np.all(~np.isnan(all_features), axis=1)\n",
    "feature_scaler = MinMaxScaler()\n",
    "all_features[features_valid] = feature_scaler.fit_transform(all_features[features_valid])\n",
    "\n",
    "all_targets = np.hstack([returns_target, covariance_target])\n",
    "targets_valid = np.all(~np.isnan(all_targets), axis=1)\n",
    "target_scaler = StandardScaler()\n",
    "all_targets[targets_valid] = target_scaler.fit_transform(all_targets[targets_valid])\n",
    "\n",
    "# unlike features, targets are only generated when they are valid\n",
    "assert(sum(targets_valid) == len(targets_valid))\n",
    "assert(len(targets_valid) < len(features_valid))\n",
    "# so last year of features cannot have any target associated with it (no data to compute the target)\n",
    "all_features = all_features[:len(targets_valid)]\n",
    "features_valid = features_valid[:len(targets_valid)]\n",
    "\n",
    "# this is created for one-year-validation to have a correct index for data splitting\n",
    "meta_df = pd.DataFrame({'valid': features_valid}, index=funds_df.iloc[:len(features_valid)].index)"
   ]
  },
  {
   "cell_type": "code",
   "execution_count": 38,
   "metadata": {},
   "outputs": [
    {
     "data": {
      "text/plain": [
       "((4541, 85), (4541, 56))"
      ]
     },
     "execution_count": 38,
     "metadata": {},
     "output_type": "execute_result"
    }
   ],
   "source": [
    "all_features.shape, all_targets.shape"
   ]
  },
  {
   "cell_type": "code",
   "execution_count": 39,
   "metadata": {},
   "outputs": [],
   "source": [
    "def as_sequences(\n",
    "        X: np.array, \n",
    "        y: np.array, \n",
    "        seq_len: int, \n",
    "        batch_size: int, \n",
    "        cuda_device: int\n",
    ") -> Tuple[torch.Tensor, torch.Tensor]:\n",
    "    \"\"\"\n",
    "    Allocates GPU memory for features and labels, \n",
    "    making sure they are in correct shape for LSTM:\n",
    "    X: (n_batches, batch_size, sequence_length, n_features)\n",
    "    y: (n_batches, batch_size, n_targets)\n",
    "    \"\"\"\n",
    "    assert(len(X) == len(y))\n",
    "    \n",
    "    n_samples, n_features = X.shape\n",
    "    n_targets = y.shape[1]\n",
    "    n_batches = (n_samples-seq_len) // batch_size\n",
    "    X_seqs = np.zeros((n_batches, batch_size, seq_len, n_features))\n",
    "    y_labels = np.zeros((n_batches, batch_size, n_targets))\n",
    "    for batch_idx in range(n_batches):\n",
    "        X_seqs[batch_idx] = np.reshape(\n",
    "            np.array([X[idx:idx+seq_len] for idx in range(batch_size*batch_idx, batch_size*(batch_idx+1))]),\n",
    "            (batch_size, seq_len, n_features)\n",
    "        )\n",
    "        y_labels[batch_idx] = np.reshape(\n",
    "            np.array([y[idx+seq_len-1] for idx in range(batch_size*batch_idx, batch_size*(batch_idx+1))]),\n",
    "            (batch_size, n_targets)\n",
    "        )\n",
    "    return torch.from_numpy(X_seqs).to(cuda_device).type(torch.float32), torch.from_numpy(y_labels).to(cuda_device).type(torch.float32)"
   ]
  },
  {
   "cell_type": "markdown",
   "metadata": {},
   "source": [
    "#### Training parameters"
   ]
  },
  {
   "cell_type": "code",
   "execution_count": 40,
   "metadata": {},
   "outputs": [],
   "source": [
    "import matplotlib.pyplot as plt\n",
    "from sklearn.preprocessing import normalize"
   ]
  },
  {
   "cell_type": "code",
   "execution_count": 41,
   "metadata": {},
   "outputs": [],
   "source": [
    "n_epochs = 6\n",
    "lr = 0.0005\n",
    "model_hidden_dim = 60\n",
    "seq_len = 3*YEAR_DAYS\n",
    "val_set_len = YEAR_DAYS\n",
    "batch_size = 1  # WARNING: Other sizes may not work right now"
   ]
  },
  {
   "cell_type": "markdown",
   "metadata": {},
   "source": [
    "Perform these in each test set setting:"
   ]
  },
  {
   "cell_type": "code",
   "execution_count": 42,
   "metadata": {},
   "outputs": [],
   "source": [
    "def train(model, X_train_, y_train_, X_valid_, y_valid_, n_epochs: int=n_epochs):\n",
    "    model.to(cuda_device)\n",
    "    optimizer = torch.optim.Adam(model.parameters(), lr=lr)\n",
    "    loss = torch.nn.MSELoss()\n",
    "    train_loss_vals = np.zeros(n_epochs)\n",
    "    eval_loss_vals = np.zeros(n_epochs)\n",
    "    for ep_idx in range(n_epochs):\n",
    "        model.init_hidden()\n",
    "        for idx, (X_batch, y_batch) in tqdm(\n",
    "                enumerate(zip(X_train_, y_train_)), \n",
    "                total=len(X_train_), \n",
    "                desc=f'Training epoch={ep_idx+1}/{n_epochs}'):\n",
    "            optimizer.zero_grad()\n",
    "            y_pred = model(X_batch)\n",
    "            loss_val = loss(y_pred, y_batch)\n",
    "            train_loss_vals[ep_idx] += loss_val.item()\n",
    "            loss_val.backward()\n",
    "            optimizer.step()\n",
    "        train_loss_vals[ep_idx] = train_loss_vals[ep_idx] / len(X_train_)  # average training loss\n",
    "        for idx, (X_batch, y_batch) in tqdm(\n",
    "                enumerate(zip(X_valid_, y_valid_)), \n",
    "                total=len(X_valid_), \n",
    "                desc=f'Validating epoch={ep_idx+1}/{n_epochs}'):\n",
    "            with torch.no_grad():\n",
    "                y_pred = model(X_batch)\n",
    "                loss_val = loss(y_pred, y_batch)\n",
    "                eval_loss_vals[ep_idx] += loss_val.item()\n",
    "        eval_loss_vals[ep_idx] = eval_loss_vals[ep_idx] / len(X_valid_)\n",
    "    plt.plot(train_loss_vals, color='red', label='training loss')\n",
    "    plt.plot(eval_loss_vals, color='blue', label='validation loss')\n",
    "    plt.title(f'Model {model.__class__.__name__}, results after {n_epochs} epochs')\n",
    "    plt.legend()\n",
    "    plt.show()\n",
    "    return model, train_loss_vals, eval_loss_vals"
   ]
  },
  {
   "cell_type": "code",
   "execution_count": 43,
   "metadata": {},
   "outputs": [],
   "source": [
    "def predict_allocate(model, X, transformer, n_funds=7):\n",
    "    with torch.no_grad():\n",
    "        # reshape preserves dimensions when batch_size=1\n",
    "        y_pred = model(X).reshape(len(X), -1).cpu().numpy()\n",
    "    y_last_pred = transformer.inverse_transform(y_pred[-1])\n",
    "    mu = y_last_pred[:n_funds]\n",
    "    S = y_last_pred[n_funds:].reshape((n_funds, n_funds))\n",
    "    ef = EfficientFrontier(mu, S)\n",
    "    ef.efficient_risk(0.09)  # 0.01 threshold for safety\n",
    "    # normalizing output in case scaling and 32bit casts for GPU\n",
    "    # altered it resulting in allocation of more than 100% of portfolio\n",
    "    weights = normalize([ef.weights])[0]\n",
    "    return weights"
   ]
  },
  {
   "cell_type": "code",
   "execution_count": 44,
   "metadata": {},
   "outputs": [
    {
     "name": "stderr",
     "output_type": "stream",
     "text": [
      "Training epoch=1/6: 100%|██████████| 1493/1493 [00:53<00:00, 27.86it/s]\n",
      "Validating epoch=1/6: 100%|██████████| 259/259 [00:04<00:00, 57.70it/s]\n",
      "Training epoch=2/6: 100%|██████████| 1493/1493 [00:53<00:00, 27.84it/s]\n",
      "Validating epoch=2/6: 100%|██████████| 259/259 [00:04<00:00, 57.82it/s]\n",
      "Training epoch=3/6: 100%|██████████| 1493/1493 [00:53<00:00, 27.89it/s]\n",
      "Validating epoch=3/6: 100%|██████████| 259/259 [00:04<00:00, 57.86it/s]\n",
      "Training epoch=4/6: 100%|██████████| 1493/1493 [00:53<00:00, 27.84it/s]\n",
      "Validating epoch=4/6: 100%|██████████| 259/259 [00:04<00:00, 57.86it/s]\n",
      "Training epoch=5/6: 100%|██████████| 1493/1493 [00:53<00:00, 27.78it/s]\n",
      "Validating epoch=5/6: 100%|██████████| 259/259 [00:04<00:00, 57.52it/s]\n",
      "Training epoch=6/6: 100%|██████████| 1493/1493 [00:53<00:00, 27.84it/s]\n",
      "Validating epoch=6/6: 100%|██████████| 259/259 [00:04<00:00, 57.47it/s]\n"
     ]
    },
    {
     "data": {
      "image/png": "[encoded data removed]",
      "text/plain": [
       "<Figure size 432x288 with 1 Axes>"
      ]
     },
     "metadata": {},
     "output_type": "display_data"
    },
    {
     "name": "stdout",
     "output_type": "stream",
     "text": [
      "{'srri': 2, 'returns': 0.08105022887805866, 'volatility': 0.0006891689200532578}\n"
     ]
    },
    {
     "name": "stderr",
     "output_type": "stream",
     "text": [
      "Training epoch=1/6: 100%|██████████| 1494/1494 [00:53<00:00, 27.92it/s]\n",
      "Validating epoch=1/6: 100%|██████████| 259/259 [00:04<00:00, 57.78it/s]\n",
      "Training epoch=2/6: 100%|██████████| 1494/1494 [00:53<00:00, 27.91it/s]\n",
      "Validating epoch=2/6: 100%|██████████| 259/259 [00:04<00:00, 57.77it/s]\n",
      "Training epoch=3/6: 100%|██████████| 1494/1494 [00:53<00:00, 27.90it/s]\n",
      "Validating epoch=3/6: 100%|██████████| 259/259 [00:04<00:00, 57.78it/s]\n",
      "Training epoch=4/6: 100%|██████████| 1494/1494 [00:53<00:00, 27.89it/s]\n",
      "Validating epoch=4/6: 100%|██████████| 259/259 [00:04<00:00, 57.85it/s]\n",
      "Training epoch=5/6: 100%|██████████| 1494/1494 [00:53<00:00, 27.80it/s]\n",
      "Validating epoch=5/6: 100%|██████████| 259/259 [00:04<00:00, 57.82it/s]\n",
      "Training epoch=6/6: 100%|██████████| 1494/1494 [00:53<00:00, 27.86it/s]\n",
      "Validating epoch=6/6: 100%|██████████| 259/259 [00:04<00:00, 57.94it/s]\n"
     ]
    },
    {
     "data": {
      "image/png": "[encoded data removed]",
      "text/plain": [
       "<Figure size 432x288 with 1 Axes>"
      ]
     },
     "metadata": {},
     "output_type": "display_data"
    },
    {
     "name": "stdout",
     "output_type": "stream",
     "text": [
      "{'srri': 2, 'returns': -0.002525221985484849, 'volatility': 0.0014532800867424437}\n"
     ]
    },
    {
     "name": "stderr",
     "output_type": "stream",
     "text": [
      "Training epoch=1/6: 100%|██████████| 1492/1492 [00:53<00:00, 27.89it/s]\n",
      "Validating epoch=1/6: 100%|██████████| 259/259 [00:04<00:00, 57.95it/s]\n",
      "Training epoch=2/6: 100%|██████████| 1492/1492 [00:53<00:00, 27.84it/s]\n",
      "Validating epoch=2/6: 100%|██████████| 259/259 [00:04<00:00, 57.93it/s]\n",
      "Training epoch=3/6: 100%|██████████| 1492/1492 [00:53<00:00, 27.86it/s]\n",
      "Validating epoch=3/6: 100%|██████████| 259/259 [00:04<00:00, 57.88it/s]\n",
      "Training epoch=4/6: 100%|██████████| 1492/1492 [00:53<00:00, 27.86it/s]\n",
      "Validating epoch=4/6: 100%|██████████| 259/259 [00:04<00:00, 58.00it/s]\n",
      "Training epoch=5/6: 100%|██████████| 1492/1492 [00:53<00:00, 27.84it/s]\n",
      "Validating epoch=5/6: 100%|██████████| 259/259 [00:04<00:00, 57.69it/s]\n",
      "Training epoch=6/6: 100%|██████████| 1492/1492 [00:53<00:00, 27.88it/s]\n",
      "Validating epoch=6/6: 100%|██████████| 259/259 [00:04<00:00, 57.91it/s]\n"
     ]
    },
    {
     "data": {
      "image/png": "[encoded data removed]",
      "text/plain": [
       "<Figure size 432x288 with 1 Axes>"
      ]
     },
     "metadata": {},
     "output_type": "display_data"
    },
    {
     "name": "stdout",
     "output_type": "stream",
     "text": [
      "{'srri': 4, 'returns': 0.03850478125210188, 'volatility': 0.0032369346325399253}\n"
     ]
    },
    {
     "name": "stderr",
     "output_type": "stream",
     "text": [
      "Training epoch=1/6: 100%|██████████| 1488/1488 [00:53<00:00, 27.90it/s]\n",
      "Validating epoch=1/6: 100%|██████████| 259/259 [00:04<00:00, 57.96it/s]\n",
      "Training epoch=2/6: 100%|██████████| 1488/1488 [00:53<00:00, 27.95it/s]\n",
      "Validating epoch=2/6: 100%|██████████| 259/259 [00:04<00:00, 57.85it/s]\n",
      "Training epoch=3/6: 100%|██████████| 1488/1488 [00:53<00:00, 27.88it/s]\n",
      "Validating epoch=3/6: 100%|██████████| 259/259 [00:04<00:00, 57.86it/s]\n",
      "Training epoch=4/6: 100%|██████████| 1488/1488 [00:53<00:00, 27.87it/s]\n",
      "Validating epoch=4/6: 100%|██████████| 259/259 [00:04<00:00, 57.92it/s]\n",
      "Training epoch=5/6: 100%|██████████| 1488/1488 [00:53<00:00, 27.92it/s]\n",
      "Validating epoch=5/6: 100%|██████████| 259/259 [00:04<00:00, 58.02it/s]\n",
      "Training epoch=6/6: 100%|██████████| 1488/1488 [00:53<00:00, 27.95it/s]\n",
      "Validating epoch=6/6: 100%|██████████| 259/259 [00:04<00:00, 57.81it/s]\n"
     ]
    },
    {
     "data": {
      "image/png": "[encoded data removed]",
      "text/plain": [
       "<Figure size 432x288 with 1 Axes>"
      ]
     },
     "metadata": {},
     "output_type": "display_data"
    },
    {
     "name": "stdout",
     "output_type": "stream",
     "text": [
      "{'srri': 3, 'returns': 0.005458349658999213, 'volatility': 0.0017323005342870109}\n"
     ]
    },
    {
     "name": "stderr",
     "output_type": "stream",
     "text": [
      "Training epoch=1/6: 100%|██████████| 1489/1489 [00:53<00:00, 27.85it/s]\n",
      "Validating epoch=1/6: 100%|██████████| 259/259 [00:04<00:00, 57.96it/s]\n",
      "Training epoch=2/6: 100%|██████████| 1489/1489 [00:53<00:00, 27.94it/s]\n",
      "Validating epoch=2/6: 100%|██████████| 259/259 [00:04<00:00, 57.94it/s]\n",
      "Training epoch=3/6: 100%|██████████| 1489/1489 [00:53<00:00, 27.88it/s]\n",
      "Validating epoch=3/6: 100%|██████████| 259/259 [00:04<00:00, 57.55it/s]\n",
      "Training epoch=4/6: 100%|██████████| 1489/1489 [00:53<00:00, 27.87it/s]\n",
      "Validating epoch=4/6: 100%|██████████| 259/259 [00:04<00:00, 57.96it/s]\n",
      "Training epoch=5/6: 100%|██████████| 1489/1489 [00:53<00:00, 27.92it/s]\n",
      "Validating epoch=5/6: 100%|██████████| 259/259 [00:04<00:00, 58.05it/s]\n",
      "Training epoch=6/6: 100%|██████████| 1489/1489 [00:53<00:00, 27.81it/s]\n",
      "Validating epoch=6/6: 100%|██████████| 259/259 [00:04<00:00, 57.61it/s]\n"
     ]
    },
    {
     "data": {
      "image/png": "[encoded data removed]",
      "text/plain": [
       "<Figure size 432x288 with 1 Axes>"
      ]
     },
     "metadata": {},
     "output_type": "display_data"
    },
    {
     "name": "stdout",
     "output_type": "stream",
     "text": [
      "{'srri': 3, 'returns': 0.022166747800544465, 'volatility': 0.002086591894085548}\n"
     ]
    },
    {
     "name": "stderr",
     "output_type": "stream",
     "text": [
      "Training epoch=1/6: 100%|██████████| 1489/1489 [00:53<00:00, 27.79it/s]\n",
      "Validating epoch=1/6: 100%|██████████| 259/259 [00:04<00:00, 58.04it/s]\n",
      "Training epoch=2/6: 100%|██████████| 1489/1489 [00:53<00:00, 27.78it/s]\n",
      "Validating epoch=2/6: 100%|██████████| 259/259 [00:04<00:00, 57.89it/s]\n",
      "Training epoch=3/6: 100%|██████████| 1489/1489 [00:53<00:00, 27.87it/s]\n",
      "Validating epoch=3/6: 100%|██████████| 259/259 [00:04<00:00, 57.96it/s]\n",
      "Training epoch=4/6: 100%|██████████| 1489/1489 [00:53<00:00, 27.88it/s]\n",
      "Validating epoch=4/6: 100%|██████████| 259/259 [00:04<00:00, 57.93it/s]\n",
      "Training epoch=5/6: 100%|██████████| 1489/1489 [00:53<00:00, 27.87it/s]\n",
      "Validating epoch=5/6: 100%|██████████| 259/259 [00:04<00:00, 57.88it/s]\n",
      "Training epoch=6/6: 100%|██████████| 1489/1489 [00:53<00:00, 27.85it/s]\n",
      "Validating epoch=6/6: 100%|██████████| 259/259 [00:04<00:00, 57.80it/s]\n"
     ]
    },
    {
     "data": {
      "image/png": "[encoded data removed]",
      "text/plain": [
       "<Figure size 432x288 with 1 Axes>"
      ]
     },
     "metadata": {},
     "output_type": "display_data"
    },
    {
     "name": "stdout",
     "output_type": "stream",
     "text": [
      "{'srri': 3, 'returns': 0.07553842668960126, 'volatility': 0.0015599564630829712}\n"
     ]
    },
    {
     "data": {
      "text/html": [
       "<div>\n",
       "<style scoped>\n",
       "    .dataframe tbody tr th:only-of-type {\n",
       "        vertical-align: middle;\n",
       "    }\n",
       "\n",
       "    .dataframe tbody tr th {\n",
       "        vertical-align: top;\n",
       "    }\n",
       "\n",
       "    .dataframe thead th {\n",
       "        text-align: right;\n",
       "    }\n",
       "</style>\n",
       "<table border=\"1\" class=\"dataframe\">\n",
       "  <thead>\n",
       "    <tr style=\"text-align: right;\">\n",
       "      <th></th>\n",
       "      <th>AP</th>\n",
       "      <th>ARR</th>\n",
       "      <th>ARW</th>\n",
       "      <th>G</th>\n",
       "      <th>OP</th>\n",
       "      <th>ORR</th>\n",
       "      <th>ORW</th>\n",
       "      <th>srri</th>\n",
       "      <th>returns</th>\n",
       "      <th>volatility</th>\n",
       "    </tr>\n",
       "  </thead>\n",
       "  <tbody>\n",
       "    <tr>\n",
       "      <th>2012</th>\n",
       "      <td>1.674511e-09</td>\n",
       "      <td>1.974069e-08</td>\n",
       "      <td>1.656124e-09</td>\n",
       "      <td>6.440886e-01</td>\n",
       "      <td>7.009946e-01</td>\n",
       "      <td>2.905477e-01</td>\n",
       "      <td>0.096636</td>\n",
       "      <td>2</td>\n",
       "      <td>0.081050</td>\n",
       "      <td>0.000689</td>\n",
       "    </tr>\n",
       "    <tr>\n",
       "      <th>2013</th>\n",
       "      <td>0.000000e+00</td>\n",
       "      <td>0.000000e+00</td>\n",
       "      <td>0.000000e+00</td>\n",
       "      <td>7.400799e-01</td>\n",
       "      <td>4.395459e-01</td>\n",
       "      <td>2.139303e-01</td>\n",
       "      <td>0.461860</td>\n",
       "      <td>2</td>\n",
       "      <td>-0.002525</td>\n",
       "      <td>0.001453</td>\n",
       "    </tr>\n",
       "    <tr>\n",
       "      <th>2014</th>\n",
       "      <td>9.604220e-16</td>\n",
       "      <td>8.879728e-01</td>\n",
       "      <td>0.000000e+00</td>\n",
       "      <td>4.598959e-01</td>\n",
       "      <td>3.715569e-16</td>\n",
       "      <td>1.324894e-15</td>\n",
       "      <td>0.000000</td>\n",
       "      <td>4</td>\n",
       "      <td>0.038505</td>\n",
       "      <td>0.003237</td>\n",
       "    </tr>\n",
       "    <tr>\n",
       "      <th>2015</th>\n",
       "      <td>7.703118e-12</td>\n",
       "      <td>1.893083e-02</td>\n",
       "      <td>9.219335e-12</td>\n",
       "      <td>5.548045e-12</td>\n",
       "      <td>6.567170e-01</td>\n",
       "      <td>6.419004e-01</td>\n",
       "      <td>0.395384</td>\n",
       "      <td>3</td>\n",
       "      <td>0.005458</td>\n",
       "      <td>0.001732</td>\n",
       "    </tr>\n",
       "    <tr>\n",
       "      <th>2016</th>\n",
       "      <td>0.000000e+00</td>\n",
       "      <td>0.000000e+00</td>\n",
       "      <td>0.000000e+00</td>\n",
       "      <td>8.411200e-12</td>\n",
       "      <td>2.642031e-10</td>\n",
       "      <td>1.000000e+00</td>\n",
       "      <td>0.000000</td>\n",
       "      <td>3</td>\n",
       "      <td>0.022167</td>\n",
       "      <td>0.002087</td>\n",
       "    </tr>\n",
       "    <tr>\n",
       "      <th>2017</th>\n",
       "      <td>1.358821e-16</td>\n",
       "      <td>0.000000e+00</td>\n",
       "      <td>5.506612e-15</td>\n",
       "      <td>0.000000e+00</td>\n",
       "      <td>6.288322e-16</td>\n",
       "      <td>3.002657e-01</td>\n",
       "      <td>0.953856</td>\n",
       "      <td>3</td>\n",
       "      <td>0.075538</td>\n",
       "      <td>0.001560</td>\n",
       "    </tr>\n",
       "  </tbody>\n",
       "</table>\n",
       "</div>"
      ],
      "text/plain": [
       "                AP           ARR           ARW             G            OP  \\\n",
       "2012  1.674511e-09  1.974069e-08  1.656124e-09  6.440886e-01  7.009946e-01   \n",
       "2013  0.000000e+00  0.000000e+00  0.000000e+00  7.400799e-01  4.395459e-01   \n",
       "2014  9.604220e-16  8.879728e-01  0.000000e+00  4.598959e-01  3.715569e-16   \n",
       "2015  7.703118e-12  1.893083e-02  9.219335e-12  5.548045e-12  6.567170e-01   \n",
       "2016  0.000000e+00  0.000000e+00  0.000000e+00  8.411200e-12  2.642031e-10   \n",
       "2017  1.358821e-16  0.000000e+00  5.506612e-15  0.000000e+00  6.288322e-16   \n",
       "\n",
       "               ORR       ORW  srri   returns  volatility  \n",
       "2012  2.905477e-01  0.096636     2  0.081050    0.000689  \n",
       "2013  2.139303e-01  0.461860     2 -0.002525    0.001453  \n",
       "2014  1.324894e-15  0.000000     4  0.038505    0.003237  \n",
       "2015  6.419004e-01  0.395384     3  0.005458    0.001732  \n",
       "2016  1.000000e+00  0.000000     3  0.022167    0.002087  \n",
       "2017  3.002657e-01  0.953856     3  0.075538    0.001560  "
      ]
     },
     "execution_count": 44,
     "metadata": {},
     "output_type": "execute_result"
    }
   ],
   "source": [
    "models = []\n",
    "result_dfs = []\n",
    "truncated_funds_df = funds_df[:len(meta_df.index)]\n",
    "for train_ids, test_ids in OneYearTest(meta_df):  # TODO: Support batch_size other than 1 in OneYearTest\n",
    "    if not meta_df.iloc[train_ids]['valid'].all():\n",
    "        continue\n",
    "    X, y = all_features[train_ids], all_targets[train_ids]\n",
    "    assert(~np.any(np.isnan(X)))\n",
    "    assert(~np.any(np.isnan(y)))\n",
    "    \n",
    "    X, y = as_sequences(X, y, seq_len=seq_len, batch_size=batch_size, cuda_device=cuda_device)\n",
    "    X_train_ = X[:-val_set_len]\n",
    "    y_train_ = y[:-val_set_len]\n",
    "    X_valid_ = X[-val_set_len:-1]\n",
    "    y_valid_ = y[-val_set_len:-1]\n",
    "    X_test_batch_ = X[-1]  # for portfolio construction, separate from validation\n",
    "    \n",
    "    model = LSTM(\n",
    "        input_dim=all_features.shape[1], \n",
    "        hidden_dim=model_hidden_dim,\n",
    "        output_dim=all_targets.shape[1],\n",
    "        batch_size=1\n",
    "    )\n",
    "    model, _, _ = train(model, X_train_, y_train_, X_valid_, y_valid_)\n",
    "    models.append(model)\n",
    "    \n",
    "    allocation = predict_allocate(model, X_test_batch_, target_scaler)\n",
    "    allocation_data = {fund: allocation[idx] for idx, fund in enumerate(funds_df.columns)}\n",
    "    srri = portfolio_srri(allocation, truncated_funds_df[train_ids].values)\n",
    "    returns, volatility = portfolio_performance(allocation, truncated_funds_df[test_ids].values)\n",
    "    performance_data = {'srri': srri, 'returns': returns, 'volatility': volatility}\n",
    "    print(performance_data)\n",
    "    result_dfs.append(\n",
    "        pd.DataFrame({**allocation_data, **performance_data}, index=[truncated_funds_df[test_ids].index.year[0]])\n",
    "    )\n",
    "lstm_results_df = pd.concat(result_dfs, axis='index')\n",
    "lstm_results_df"
   ]
  },
  {
   "cell_type": "markdown",
   "metadata": {},
   "source": [
    "## Results comparison"
   ]
  },
  {
   "cell_type": "code",
   "execution_count": 48,
   "metadata": {},
   "outputs": [],
   "source": [
    "combined_results = base_results_df.join(lstm_results_df, rsuffix='_LSTM')"
   ]
  },
  {
   "cell_type": "code",
   "execution_count": 50,
   "metadata": {},
   "outputs": [
    {
     "data": {
      "text/html": [
       "<div>\n",
       "<style scoped>\n",
       "    .dataframe tbody tr th:only-of-type {\n",
       "        vertical-align: middle;\n",
       "    }\n",
       "\n",
       "    .dataframe tbody tr th {\n",
       "        vertical-align: top;\n",
       "    }\n",
       "\n",
       "    .dataframe thead th {\n",
       "        text-align: right;\n",
       "    }\n",
       "</style>\n",
       "<table border=\"1\" class=\"dataframe\">\n",
       "  <thead>\n",
       "    <tr style=\"text-align: right;\">\n",
       "      <th></th>\n",
       "      <th>srri</th>\n",
       "      <th>returns</th>\n",
       "      <th>volatility</th>\n",
       "      <th>srri_LSTM</th>\n",
       "      <th>returns_LSTM</th>\n",
       "      <th>volatility_LSTM</th>\n",
       "    </tr>\n",
       "  </thead>\n",
       "  <tbody>\n",
       "    <tr>\n",
       "      <th>2010</th>\n",
       "      <td>3</td>\n",
       "      <td>0.039771</td>\n",
       "      <td>0.001369</td>\n",
       "      <td>NaN</td>\n",
       "      <td>NaN</td>\n",
       "      <td>NaN</td>\n",
       "    </tr>\n",
       "    <tr>\n",
       "      <th>2011</th>\n",
       "      <td>3</td>\n",
       "      <td>0.049100</td>\n",
       "      <td>0.001130</td>\n",
       "      <td>NaN</td>\n",
       "      <td>NaN</td>\n",
       "      <td>NaN</td>\n",
       "    </tr>\n",
       "    <tr>\n",
       "      <th>2012</th>\n",
       "      <td>3</td>\n",
       "      <td>0.038907</td>\n",
       "      <td>0.001017</td>\n",
       "      <td>2.0</td>\n",
       "      <td>0.081050</td>\n",
       "      <td>0.000689</td>\n",
       "    </tr>\n",
       "    <tr>\n",
       "      <th>2013</th>\n",
       "      <td>2</td>\n",
       "      <td>0.007480</td>\n",
       "      <td>0.000924</td>\n",
       "      <td>2.0</td>\n",
       "      <td>-0.002525</td>\n",
       "      <td>0.001453</td>\n",
       "    </tr>\n",
       "    <tr>\n",
       "      <th>2014</th>\n",
       "      <td>2</td>\n",
       "      <td>0.057371</td>\n",
       "      <td>0.000711</td>\n",
       "      <td>4.0</td>\n",
       "      <td>0.038505</td>\n",
       "      <td>0.003237</td>\n",
       "    </tr>\n",
       "    <tr>\n",
       "      <th>2015</th>\n",
       "      <td>2</td>\n",
       "      <td>0.006546</td>\n",
       "      <td>0.001059</td>\n",
       "      <td>3.0</td>\n",
       "      <td>0.005458</td>\n",
       "      <td>0.001732</td>\n",
       "    </tr>\n",
       "    <tr>\n",
       "      <th>2016</th>\n",
       "      <td>2</td>\n",
       "      <td>0.020865</td>\n",
       "      <td>0.001130</td>\n",
       "      <td>3.0</td>\n",
       "      <td>0.022167</td>\n",
       "      <td>0.002087</td>\n",
       "    </tr>\n",
       "    <tr>\n",
       "      <th>2017</th>\n",
       "      <td>2</td>\n",
       "      <td>0.029053</td>\n",
       "      <td>0.000803</td>\n",
       "      <td>3.0</td>\n",
       "      <td>0.075538</td>\n",
       "      <td>0.001560</td>\n",
       "    </tr>\n",
       "    <tr>\n",
       "      <th>2018</th>\n",
       "      <td>2</td>\n",
       "      <td>0.007488</td>\n",
       "      <td>0.000779</td>\n",
       "      <td>NaN</td>\n",
       "      <td>NaN</td>\n",
       "      <td>NaN</td>\n",
       "    </tr>\n",
       "  </tbody>\n",
       "</table>\n",
       "</div>"
      ],
      "text/plain": [
       "      srri   returns  volatility  srri_LSTM  returns_LSTM  volatility_LSTM\n",
       "2010     3  0.039771    0.001369        NaN           NaN              NaN\n",
       "2011     3  0.049100    0.001130        NaN           NaN              NaN\n",
       "2012     3  0.038907    0.001017        2.0      0.081050         0.000689\n",
       "2013     2  0.007480    0.000924        2.0     -0.002525         0.001453\n",
       "2014     2  0.057371    0.000711        4.0      0.038505         0.003237\n",
       "2015     2  0.006546    0.001059        3.0      0.005458         0.001732\n",
       "2016     2  0.020865    0.001130        3.0      0.022167         0.002087\n",
       "2017     2  0.029053    0.000803        3.0      0.075538         0.001560\n",
       "2018     2  0.007488    0.000779        NaN           NaN              NaN"
      ]
     },
     "execution_count": 50,
     "metadata": {},
     "output_type": "execute_result"
    }
   ],
   "source": [
    "combined_results[['srri', 'returns', 'volatility', 'srri_LSTM', 'returns_LSTM', 'volatility_LSTM']]"
   ]
  },
  {
   "cell_type": "markdown",
   "metadata": {},
   "source": [
    "We can see that LSTM-based portfolio has some advantages, but is also a little riskier."
   ]
  }
 ],
 "metadata": {
  "kernelspec": {
   "display_name": "Environment (conda_pytorch_p36)",
   "language": "python",
   "name": "conda_pytorch_p36"
  },
  "language_info": {
   "codemirror_mode": {
    "name": "ipython",
    "version": 3
   },
   "file_extension": ".py",
   "mimetype": "text/x-python",
   "name": "python",
   "nbconvert_exporter": "python",
   "pygments_lexer": "ipython3",
   "version": "3.6.5"
  }
 },
 "nbformat": 4,
 "nbformat_minor": 2
}
