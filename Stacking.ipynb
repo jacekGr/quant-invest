{
 "cells": [
  {
   "cell_type": "markdown",
   "metadata": {},
   "source": [
    "# Stacking\n",
    "\n",
    "### Idea\n",
    "Because training base models is hard, the possible optimal solution may be to take a lot of classical models\n",
    "for portfolio creation and train a 2nd-layer model on their outputs, to select an optimal output.\n",
    "\n",
    "The challenges we need to solve in this notebook are the following:\n",
    "- selecting a target variable and metric\n",
    "- generating as many simple models as possible\n",
    "- adding features related to the long-term trends for 2nd layer model for it to perform a \"more informed\" choice\n",
    "- choosing whether base models should be allowed to see entire past that we have or just the most recent fraction of it"
   ]
  },
  {
   "cell_type": "markdown",
   "metadata": {},
   "source": [
    "### Loading data"
   ]
  },
  {
   "cell_type": "code",
   "execution_count": 1,
   "metadata": {},
   "outputs": [],
   "source": [
    "import pandas as pd\n",
    "import numpy as np\n",
    "\n",
    "from utils.data_loader import load_all"
   ]
  },
  {
   "cell_type": "code",
   "execution_count": 2,
   "metadata": {},
   "outputs": [
    {
     "data": {
      "text/html": [
       "<div>\n",
       "<style scoped>\n",
       "    .dataframe tbody tr th:only-of-type {\n",
       "        vertical-align: middle;\n",
       "    }\n",
       "\n",
       "    .dataframe tbody tr th {\n",
       "        vertical-align: top;\n",
       "    }\n",
       "\n",
       "    .dataframe thead th {\n",
       "        text-align: right;\n",
       "    }\n",
       "</style>\n",
       "<table border=\"1\" class=\"dataframe\">\n",
       "  <thead>\n",
       "    <tr style=\"text-align: right;\">\n",
       "      <th></th>\n",
       "      <th>AP</th>\n",
       "      <th>ARR</th>\n",
       "      <th>ARW</th>\n",
       "      <th>G</th>\n",
       "      <th>OP</th>\n",
       "      <th>ORR</th>\n",
       "      <th>ORW</th>\n",
       "      <th>a5.c</th>\n",
       "      <th>wig2</th>\n",
       "      <th>^aex</th>\n",
       "      <th>...</th>\n",
       "      <th>SEK</th>\n",
       "      <th>CHF</th>\n",
       "      <th>THB</th>\n",
       "      <th>TTD</th>\n",
       "      <th>TND</th>\n",
       "      <th>AED</th>\n",
       "      <th>GBP</th>\n",
       "      <th>USD</th>\n",
       "      <th>UYU</th>\n",
       "      <th>VEB</th>\n",
       "    </tr>\n",
       "  </thead>\n",
       "  <tbody>\n",
       "    <tr>\n",
       "      <th>2000-01-03</th>\n",
       "      <td>415.90</td>\n",
       "      <td>549.11</td>\n",
       "      <td>354.45</td>\n",
       "      <td>401.26</td>\n",
       "      <td>275.08</td>\n",
       "      <td>520.13</td>\n",
       "      <td>230.72</td>\n",
       "      <td>1204.88</td>\n",
       "      <td>1852.9</td>\n",
       "      <td>675.44</td>\n",
       "      <td>...</td>\n",
       "      <td>0.085771</td>\n",
       "      <td>0.456726</td>\n",
       "      <td>NaN</td>\n",
       "      <td>0.115867</td>\n",
       "      <td>NaN</td>\n",
       "      <td>0.197875</td>\n",
       "      <td>NaN</td>\n",
       "      <td>0.726696</td>\n",
       "      <td>NaN</td>\n",
       "      <td>NaN</td>\n",
       "    </tr>\n",
       "    <tr>\n",
       "      <th>2000-01-04</th>\n",
       "      <td>404.41</td>\n",
       "      <td>533.89</td>\n",
       "      <td>357.14</td>\n",
       "      <td>401.42</td>\n",
       "      <td>275.08</td>\n",
       "      <td>520.02</td>\n",
       "      <td>229.63</td>\n",
       "      <td>1194.41</td>\n",
       "      <td>1796.6</td>\n",
       "      <td>642.25</td>\n",
       "      <td>...</td>\n",
       "      <td>NaN</td>\n",
       "      <td>0.465253</td>\n",
       "      <td>0.019568</td>\n",
       "      <td>0.115445</td>\n",
       "      <td>NaN</td>\n",
       "      <td>0.197034</td>\n",
       "      <td>1.18701</td>\n",
       "      <td>0.723608</td>\n",
       "      <td>NaN</td>\n",
       "      <td>0.001114</td>\n",
       "    </tr>\n",
       "    <tr>\n",
       "      <th>2000-01-05</th>\n",
       "      <td>400.04</td>\n",
       "      <td>527.38</td>\n",
       "      <td>351.19</td>\n",
       "      <td>401.59</td>\n",
       "      <td>275.08</td>\n",
       "      <td>519.22</td>\n",
       "      <td>229.22</td>\n",
       "      <td>1192.89</td>\n",
       "      <td>1777.0</td>\n",
       "      <td>632.31</td>\n",
       "      <td>...</td>\n",
       "      <td>0.086740</td>\n",
       "      <td>0.466615</td>\n",
       "      <td>0.019422</td>\n",
       "      <td>0.115510</td>\n",
       "      <td>NaN</td>\n",
       "      <td>0.197039</td>\n",
       "      <td>1.18624</td>\n",
       "      <td>0.723627</td>\n",
       "      <td>NaN</td>\n",
       "      <td>0.001114</td>\n",
       "    </tr>\n",
       "    <tr>\n",
       "      <th>2000-01-06</th>\n",
       "      <td>410.15</td>\n",
       "      <td>522.02</td>\n",
       "      <td>347.96</td>\n",
       "      <td>401.75</td>\n",
       "      <td>275.07</td>\n",
       "      <td>519.62</td>\n",
       "      <td>228.82</td>\n",
       "      <td>NaN</td>\n",
       "      <td>1832.1</td>\n",
       "      <td>624.21</td>\n",
       "      <td>...</td>\n",
       "      <td>NaN</td>\n",
       "      <td>0.468650</td>\n",
       "      <td>0.019427</td>\n",
       "      <td>0.115662</td>\n",
       "      <td>NaN</td>\n",
       "      <td>0.197260</td>\n",
       "      <td>1.19474</td>\n",
       "      <td>0.724439</td>\n",
       "      <td>NaN</td>\n",
       "      <td>0.001115</td>\n",
       "    </tr>\n",
       "    <tr>\n",
       "      <th>2000-01-07</th>\n",
       "      <td>429.16</td>\n",
       "      <td>533.16</td>\n",
       "      <td>351.87</td>\n",
       "      <td>401.93</td>\n",
       "      <td>275.07</td>\n",
       "      <td>520.80</td>\n",
       "      <td>230.09</td>\n",
       "      <td>1223.61</td>\n",
       "      <td>1933.2</td>\n",
       "      <td>644.86</td>\n",
       "      <td>...</td>\n",
       "      <td>NaN</td>\n",
       "      <td>0.465233</td>\n",
       "      <td>0.019410</td>\n",
       "      <td>0.115876</td>\n",
       "      <td>NaN</td>\n",
       "      <td>0.197989</td>\n",
       "      <td>1.19596</td>\n",
       "      <td>0.727113</td>\n",
       "      <td>NaN</td>\n",
       "      <td>0.001118</td>\n",
       "    </tr>\n",
       "  </tbody>\n",
       "</table>\n",
       "<p>5 rows × 200 columns</p>\n",
       "</div>"
      ],
      "text/plain": [
       "                AP     ARR     ARW       G      OP     ORR     ORW     a5.c  \\\n",
       "2000-01-03  415.90  549.11  354.45  401.26  275.08  520.13  230.72  1204.88   \n",
       "2000-01-04  404.41  533.89  357.14  401.42  275.08  520.02  229.63  1194.41   \n",
       "2000-01-05  400.04  527.38  351.19  401.59  275.08  519.22  229.22  1192.89   \n",
       "2000-01-06  410.15  522.02  347.96  401.75  275.07  519.62  228.82      NaN   \n",
       "2000-01-07  429.16  533.16  351.87  401.93  275.07  520.80  230.09  1223.61   \n",
       "\n",
       "              wig2    ^aex  ...       SEK       CHF       THB       TTD  TND  \\\n",
       "2000-01-03  1852.9  675.44  ...  0.085771  0.456726       NaN  0.115867  NaN   \n",
       "2000-01-04  1796.6  642.25  ...       NaN  0.465253  0.019568  0.115445  NaN   \n",
       "2000-01-05  1777.0  632.31  ...  0.086740  0.466615  0.019422  0.115510  NaN   \n",
       "2000-01-06  1832.1  624.21  ...       NaN  0.468650  0.019427  0.115662  NaN   \n",
       "2000-01-07  1933.2  644.86  ...       NaN  0.465233  0.019410  0.115876  NaN   \n",
       "\n",
       "                 AED      GBP       USD  UYU       VEB  \n",
       "2000-01-03  0.197875      NaN  0.726696  NaN       NaN  \n",
       "2000-01-04  0.197034  1.18701  0.723608  NaN  0.001114  \n",
       "2000-01-05  0.197039  1.18624  0.723627  NaN  0.001114  \n",
       "2000-01-06  0.197260  1.19474  0.724439  NaN  0.001115  \n",
       "2000-01-07  0.197989  1.19596  0.727113  NaN  0.001118  \n",
       "\n",
       "[5 rows x 200 columns]"
      ]
     },
     "execution_count": 2,
     "metadata": {},
     "output_type": "execute_result"
    }
   ],
   "source": [
    "df = load_all()\n",
    "df = df.loc[~df['AP'].isna()]\n",
    "df.head()"
   ]
  },
  {
   "cell_type": "code",
   "execution_count": 3,
   "metadata": {},
   "outputs": [
    {
     "data": {
      "text/plain": [
       "(4801, 200)"
      ]
     },
     "execution_count": 3,
     "metadata": {},
     "output_type": "execute_result"
    }
   ],
   "source": [
    "df.shape"
   ]
  },
  {
   "cell_type": "code",
   "execution_count": 4,
   "metadata": {},
   "outputs": [],
   "source": [
    "fund_colnames = ['AP', 'ARR', 'ARW', 'G', 'OP', 'ORR', 'ORW']"
   ]
  },
  {
   "cell_type": "code",
   "execution_count": 5,
   "metadata": {},
   "outputs": [],
   "source": [
    "funds_df = df[fund_colnames]"
   ]
  },
  {
   "cell_type": "code",
   "execution_count": 6,
   "metadata": {},
   "outputs": [
    {
     "data": {
      "text/plain": [
       "(4801, 7)"
      ]
     },
     "execution_count": 6,
     "metadata": {},
     "output_type": "execute_result"
    }
   ],
   "source": [
    "funds_df.shape"
   ]
  },
  {
   "cell_type": "markdown",
   "metadata": {},
   "source": [
    "### Feature and target selection\n",
    "\n",
    "Firstly, we will try to train a classifier that selects the best performing model."
   ]
  },
  {
   "cell_type": "code",
   "execution_count": 7,
   "metadata": {},
   "outputs": [],
   "source": [
    "from typing import List, Callable, Tuple\n",
    "from dataclasses import dataclass, asdict\n",
    "\n",
    "from pypfopt.expected_returns import mean_historical_return\n",
    "from pypfopt.risk_models import CovarianceShrinkage\n",
    "from pypfopt.efficient_frontier import EfficientFrontier\n",
    "\n",
    "from numba import jit\n",
    "\n",
    "from tqdm import tqdm"
   ]
  },
  {
   "cell_type": "code",
   "execution_count": 8,
   "metadata": {},
   "outputs": [
    {
     "name": "stdout",
     "output_type": "stream",
     "text": [
      "Using default number of trading days in a year=252, month=21, week=5\n",
      "Using volatility threshold=0.1\n"
     ]
    }
   ],
   "source": [
    "year_days = int(funds_df.groupby(funds_df.index.year).count().mean().mean())\n",
    "month_days = int(year_days/12)\n",
    "week_days = int(month_days/4)\n",
    "print(f\"Using default number of trading days in a year={year_days}, month={month_days}, week={week_days}\")\n",
    "\n",
    "max_volatility = 0.1\n",
    "print(f\"Using volatility threshold={max_volatility}\")"
   ]
  },
  {
   "cell_type": "code",
   "execution_count": 9,
   "metadata": {},
   "outputs": [],
   "source": [
    "@dataclass\n",
    "class Portfolio(object):\n",
    "    AP: float\n",
    "    ARR: float\n",
    "    ARW: float\n",
    "    G: float\n",
    "    OP: float\n",
    "    ORR: float\n",
    "    ORW: float\n",
    "\n",
    "    def as_weights(self):\n",
    "        return np.array(list(asdict(self).values()))\n",
    "\n",
    "\n",
    "def risk_free_rate(table, interval_len_in_days: int=1) -> int:\n",
    "    \"\"\" For the purpose of this portfolio selection, we use G (cash fund returns) as a risk-free rate. \"\"\"\n",
    "    intervals_in_a_year = year_days / interval_len_in_days\n",
    "    return np.mean((df['G'].shift(1) - df['G'].iloc[:-1]) / df['G'].iloc[:-1]) * intervals_in_a_year\n",
    "\n",
    "\n",
    "def _ef_builder(table):\n",
    "    \"\"\" Builder for all kinds of efficient frontier models. \"\"\"\n",
    "    table = table.copy().groupby(by=[table.index.year, table.index.month]).tail(n=1)\n",
    "    mu = mean_historical_return(table)\n",
    "    S = CovarianceShrinkage(table).ledoit_wolf()\n",
    "    return EfficientFrontier(mu, S)\n",
    "\n",
    "def _ef_meta_builder(ef):\n",
    "    \"\"\" \n",
    "    Common metadata for all kinds of efficient frontier models:\n",
    "    expected annualized returns, expected volatility, sharpe ratio\n",
    "    \"\"\"\n",
    "    return np.array(ef.portfolio_performance())\n",
    "\n",
    "def ef_max_sharpe(table, interval: int=1):\n",
    "    ef = _ef_builder(table)\n",
    "    weights = ef.max_sharpe(risk_free_rate(interval))\n",
    "    return Portfolio(**weights), _ef_meta_builder(ef)\n",
    "\n",
    "def ef_min_volatility(table, interval: int=1):\n",
    "    ef = _ef_builder(table)\n",
    "    weights = ef.min_volatility()\n",
    "    return Portfolio(**weights), _ef_meta_builder(ef)\n",
    "\n",
    "def ef_efficient_risk(table, risk_target: float, interval: int=1):\n",
    "    ef = _ef_builder(table)\n",
    "    weights = ef.efficient_risk(risk_target, risk_free_rate=risk_free_rate(interval))\n",
    "    return Portfolio(**weights), _ef_meta_builder(ef)\n",
    "\n",
    "def ef_efficient_return(table, target_return, interval: int=1):\n",
    "    ef = _ef_builder(table)\n",
    "    weights = ef.efficient_return(target_return)\n",
    "    return Portfolio(**weights), _ef_meta_builder(ef)"
   ]
  },
  {
   "cell_type": "code",
   "execution_count": 10,
   "metadata": {},
   "outputs": [],
   "source": [
    "def calculate_features(funds_df: pd.DataFrame) -> Tuple[np.array, List[Portfolio]]:\n",
    "    \"\"\"\n",
    "    Returns features for the model along with the portfolios that were used for calculating these features.\n",
    "    \"\"\"\n",
    "    monthly_table = funds_df.groupby([funds_df.index.year, funds_df.index.month]).tail(1)\n",
    "    weekly_table = funds_df.groupby([funds_df.index.year, funds_df.index.week]).tail(1)\n",
    "    portfolio_data = [\n",
    "        ef_max_sharpe(funds_df),\n",
    "        ef_max_sharpe(monthly_table, month_days),\n",
    "        ef_max_sharpe(weekly_table, week_days),\n",
    "        ef_min_volatility(funds_df),\n",
    "        ef_min_volatility(monthly_table, month_days),\n",
    "        ef_min_volatility(weekly_table, week_days),\n",
    "        ef_efficient_risk(funds_df, 0.10),\n",
    "        ef_efficient_risk(funds_df, 0.05),\n",
    "        ef_efficient_risk(monthly_table, 0.10, month_days),\n",
    "        ef_efficient_risk(monthly_table, 0.05, month_days),\n",
    "        ef_efficient_risk(weekly_table, 0.10, week_days),\n",
    "        ef_efficient_risk(weekly_table, 0.05, week_days),\n",
    "        ef_efficient_return(funds_df, 0.04),\n",
    "        ef_efficient_return(funds_df, 0.08),\n",
    "        ef_efficient_return(monthly_table, 0.04, month_days),\n",
    "        ef_efficient_return(monthly_table, 0.08, month_days),\n",
    "        ef_efficient_return(weekly_table, 0.04, week_days),\n",
    "        ef_efficient_return(weekly_table, 0.08, week_days),\n",
    "    ]\n",
    "    portfolios = [pd[0] for pd in portfolio_data]\n",
    "    portfolio_weights = np.hstack([p.as_weights() for p in portfolios])\n",
    "    portfolio_features = np.hstack(pd[1] for pd in portfolio_data)\n",
    "    return np.hstack([portfolio_weights, portfolio_features]), portfolios\n",
    "    \n",
    "\n",
    "@jit(nopython=True)\n",
    "def portfolio_performance(portfolio_allocation: np.array, fund_df_values: np.array) -> Tuple[float, float]:\n",
    "    fund_returns = (fund_df_values[-1] - fund_df_values[0]) / fund_df_values[0]\n",
    "    portfolio_returns = np.sum(portfolio_allocation*fund_returns) / np.sum(portfolio_allocation)\n",
    "    # eliminating portfolios based on too high volatility\n",
    "    portfolio_period_values = np.sum(portfolio_allocation*fund_df_values[:-1], axis=1) / np.sum(portfolio_allocation)\n",
    "    portfolio_period_shifted = np.sum(portfolio_allocation*fund_df_values[1:], axis=1) / np.sum(portfolio_allocation)\n",
    "    portfolio_daily_returns = (portfolio_period_shifted - portfolio_period_values) / portfolio_period_values\n",
    "    portfolio_volatility = np.var(portfolio_daily_returns)\n",
    "    if portfolio_volatility > max_volatility:\n",
    "        print(\"Exceeded max volatility:\", portfolio_volatility)\n",
    "        return -np.inf\n",
    "    else:\n",
    "        return portfolio_returns"
   ]
  },
  {
   "cell_type": "code",
   "execution_count": 11,
   "metadata": {},
   "outputs": [
    {
     "name": "stdout",
     "output_type": "stream",
     "text": [
      "(180,) 18 Portfolio(AP=2.8675560682935483e-16, ARR=0.0241814682778109, ARW=0.0, G=0.6310321596791412, OP=0.18473105611147625, ORR=0.13726016068669422, ORW=0.0227951552448774)\n",
      "CPU times: user 1.43 s, sys: 0 ns, total: 1.43 s\n",
      "Wall time: 1.43 s\n"
     ]
    }
   ],
   "source": [
    "%%time\n",
    "features, pfs = calculate_features(funds_df)\n",
    "print(features.shape, len(pfs), pfs[0])"
   ]
  },
  {
   "cell_type": "code",
   "execution_count": 12,
   "metadata": {},
   "outputs": [
    {
     "data": {
      "text/plain": [
       "3.334257975034674"
      ]
     },
     "execution_count": 12,
     "metadata": {},
     "output_type": "execute_result"
    }
   ],
   "source": [
    "portfolio_performance(np.array([0,0,0,0,0,0,1]), funds_df.values)"
   ]
  },
  {
   "cell_type": "code",
   "execution_count": 13,
   "metadata": {},
   "outputs": [],
   "source": [
    "def compute_X_y(\n",
    "        funds_df: pd.DataFrame,\n",
    "        n_features: int,\n",
    "        min_test_idx: int=5*year_days, \n",
    "        test_len: int=year_days\n",
    "    ):\n",
    "    max_test_idx = len(funds_df)\n",
    "    n_samples = max_test_idx - min_test_idx - test_len\n",
    "    X = np.zeros((n_samples, n_features))\n",
    "    y = np.zeros(n_samples)\n",
    "    sample_weights = np.zeros(n_samples)\n",
    "    for idx in tqdm(range(n_samples)):\n",
    "        test_starting_idx = min_test_idx + idx\n",
    "        present_data = funds_df.iloc[:test_starting_idx]\n",
    "        test_data = funds_df.iloc[test_starting_idx:test_starting_idx+test_len]\n",
    "        X[idx], portfolios = calculate_features(present_data)\n",
    "        portfolio_performances = np.array([portfolio_performance(p.as_weights(), test_data.values) for p in portfolios])\n",
    "        y[idx] = np.argmax(portfolio_performances)\n",
    "        sample_weights[idx] = 1 + np.max(portfolio_performances) - np.mean(portfolio_performances[portfolio_performances > -np.inf])\n",
    "    return X, y, sample_weights"
   ]
  },
  {
   "cell_type": "code",
   "execution_count": 14,
   "metadata": {},
   "outputs": [
    {
     "name": "stderr",
     "output_type": "stream",
     "text": [
      "100%|██████████| 3289/3289 [1:31:19<00:00,  1.75s/it]\n"
     ]
    }
   ],
   "source": [
    "X, y, sample_weights = compute_X_y(funds_df, n_features=180)"
   ]
  },
  {
   "cell_type": "code",
   "execution_count": 15,
   "metadata": {},
   "outputs": [],
   "source": [
    "y = y.astype(np.int)"
   ]
  },
  {
   "cell_type": "code",
   "execution_count": 16,
   "metadata": {},
   "outputs": [
    {
     "data": {
      "text/plain": [
       "((3289, 180), (3289,), dtype('float64'), dtype('int64'))"
      ]
     },
     "execution_count": 16,
     "metadata": {},
     "output_type": "execute_result"
    }
   ],
   "source": [
    "X.shape, y.shape, X.dtype, y.dtype"
   ]
  },
  {
   "cell_type": "code",
   "execution_count": 17,
   "metadata": {},
   "outputs": [
    {
     "name": "stdout",
     "output_type": "stream",
     "text": [
      "18-funds-data-2019-03-09\n",
      "CPU times: user 0 ns, sys: 12 ms, total: 12 ms\n",
      "Wall time: 8.64 ms\n"
     ]
    }
   ],
   "source": [
    "%%time\n",
    "filename = \"18-funds-data-\" + str(pd.datetime.now().date())\n",
    "print(filename)\n",
    "np.save(f'data/{filename}-X.npy', X)\n",
    "np.save(f'data/{filename}-y.npy', y)\n",
    "np.save(f'data/{filename}-weights.npy', sample_weights)"
   ]
  },
  {
   "cell_type": "markdown",
   "metadata": {},
   "source": [
    "### Training the model"
   ]
  },
  {
   "cell_type": "code",
   "execution_count": 18,
   "metadata": {},
   "outputs": [],
   "source": [
    "from sklearn.model_selection import StratifiedKFold, train_test_split\n",
    "from sklearn.metrics import roc_auc_score, accuracy_score\n",
    "from sklearn.multioutput import MultiOutputRegressor\n",
    "\n",
    "from lightgbm import LGBMClassifier\n",
    "\n",
    "from imblearn.over_sampling import SMOTE\n",
    "\n",
    "import seaborn as sns"
   ]
  },
  {
   "cell_type": "code",
   "execution_count": 53,
   "metadata": {},
   "outputs": [
    {
     "data": {
      "text/plain": [
       "16    744\n",
       "13    553\n",
       "12    550\n",
       "17    538\n",
       "0     433\n",
       "2     242\n",
       "6     118\n",
       "10     76\n",
       "5      14\n",
       "7      10\n",
       "3      10\n",
       "11      1\n",
       "dtype: int64"
      ]
     },
     "execution_count": 53,
     "metadata": {},
     "output_type": "execute_result"
    }
   ],
   "source": [
    "pd.value_counts(y)"
   ]
  },
  {
   "cell_type": "markdown",
   "metadata": {},
   "source": [
    "We are not shuffling during the test set separation in order not to let the model know about macro trends that might appear in the future and are not captured within our set of input features."
   ]
  },
  {
   "cell_type": "code",
   "execution_count": 54,
   "metadata": {},
   "outputs": [
    {
     "data": {
      "text/plain": [
       "((2631, 180), (2631,), (658, 180), (658,))"
      ]
     },
     "execution_count": 54,
     "metadata": {},
     "output_type": "execute_result"
    }
   ],
   "source": [
    "X_train, X_test, y_train, y_test = train_test_split(X, y, test_size=0.2, shuffle=False)\n",
    "X_train.shape, y_train.shape, X_test.shape, y_test.shape"
   ]
  },
  {
   "cell_type": "code",
   "execution_count": 55,
   "metadata": {},
   "outputs": [
    {
     "data": {
      "text/plain": [
       "((2104, 180), (2104,), (527, 180), (527,), (658, 180), (658,))"
      ]
     },
     "execution_count": 55,
     "metadata": {},
     "output_type": "execute_result"
    }
   ],
   "source": [
    "X_train, X_val, y_train, y_val = train_test_split(X_train, y_train, test_size=0.2, shuffle=False)\n",
    "X_train.shape, y_train.shape, X_val.shape, y_val.shape, X_test.shape, y_test.shape"
   ]
  },
  {
   "cell_type": "code",
   "execution_count": 56,
   "metadata": {},
   "outputs": [],
   "source": [
    "weights_train = sample_weights[:y_train.shape[0]]\n",
    "weights_val = sample_weights[y_train.shape[0]:y_train.shape[0]+y_val.shape[0]]\n",
    "weights_test = sample_weights[y_train.shape[0]+y_val.shape[0]:]"
   ]
  },
  {
   "cell_type": "markdown",
   "metadata": {},
   "source": [
    "Some of the classes will never be predicted because they are not present in the training set.\n",
    "\n",
    "For now, we will just remove the rarely occuring values from the entire dataset and work on the ones that can be split efficiently."
   ]
  },
  {
   "cell_type": "code",
   "execution_count": 57,
   "metadata": {},
   "outputs": [
    {
     "data": {
      "text/plain": [
       "(array([ 0,  2,  3,  5,  6, 10, 11, 12, 13, 16, 17]),\n",
       " array([ 0,  3,  7, 12, 13, 16, 17]),\n",
       " array([ 0,  2,  6,  7, 12, 13, 16, 17]))"
      ]
     },
     "execution_count": 57,
     "metadata": {},
     "output_type": "execute_result"
    }
   ],
   "source": [
    "np.unique(y_train), np.unique(y_val), np.unique(y_test)"
   ]
  },
  {
   "cell_type": "code",
   "execution_count": 58,
   "metadata": {},
   "outputs": [
    {
     "name": "stdout",
     "output_type": "stream",
     "text": [
      "(524, 180) (524,) (524,)\n"
     ]
    }
   ],
   "source": [
    "keep_indices = np.isin(y_val, np.unique(y_train))\n",
    "X_val, y_val, weights_val = X_val[keep_indices], y_val[keep_indices], weights_val[keep_indices]\n",
    "print(X_val.shape, y_val.shape, weights_val.shape)"
   ]
  },
  {
   "cell_type": "code",
   "execution_count": 85,
   "metadata": {},
   "outputs": [],
   "source": [
    "lgbm_params = {\n",
    "#     Learning params:\n",
    "    'num_leaves': 32,\n",
    "    'learning_rate': 0.0012137,\n",
    "    'n_estimators': 4096,\n",
    "#     Regularization:\n",
    "    'lambda_l1': 0.25,\n",
    "#     Technical:\n",
    "    'silent': True,\n",
    "    'n_jobs': 4,\n",
    "    'num_class': 18\n",
    "}"
   ]
  },
  {
   "cell_type": "code",
   "execution_count": 86,
   "metadata": {},
   "outputs": [
    {
     "name": "stdout",
     "output_type": "stream",
     "text": [
      "Training until validation scores don't improve for 128 rounds.\n",
      "[256]\tvalid_0's multi_logloss: 1.67704\tvalid_0's multi_logloss: 1.67704\n",
      "[512]\tvalid_0's multi_logloss: 1.63565\tvalid_0's multi_logloss: 1.63565\n",
      "[768]\tvalid_0's multi_logloss: 1.60535\tvalid_0's multi_logloss: 1.60535\n",
      "[1024]\tvalid_0's multi_logloss: 1.58497\tvalid_0's multi_logloss: 1.58497\n",
      "[1280]\tvalid_0's multi_logloss: 1.5629\tvalid_0's multi_logloss: 1.5629\n",
      "[1536]\tvalid_0's multi_logloss: 1.54343\tvalid_0's multi_logloss: 1.54343\n",
      "[1792]\tvalid_0's multi_logloss: 1.53339\tvalid_0's multi_logloss: 1.53339\n",
      "Early stopping, best iteration is:\n",
      "[1772]\tvalid_0's multi_logloss: 1.53331\tvalid_0's multi_logloss: 1.53331\n"
     ]
    },
    {
     "data": {
      "text/plain": [
       "0.135258358662614"
      ]
     },
     "execution_count": 86,
     "metadata": {},
     "output_type": "execute_result"
    }
   ],
   "source": [
    "gbm = LGBMClassifier(**lgbm_params)\n",
    "gbm.fit(\n",
    "    X_train, y_train,\n",
    "    sample_weight=weights_train,\n",
    "    eval_set=[(X_val, y_val)],\n",
    "    eval_sample_weight=[weights_val],\n",
    "    eval_metric='multi_logloss',\n",
    "    early_stopping_rounds=128,\n",
    "    verbose=256\n",
    ")"
   ]
  },
  {
   "cell_type": "code",
   "execution_count": 103,
   "metadata": {},
   "outputs": [
    {
     "data": {
      "text/plain": [
       "<matplotlib.axes._subplots.AxesSubplot at 0x7fb2b78376d8>"
      ]
     },
     "execution_count": 103,
     "metadata": {},
     "output_type": "execute_result"
    },
    {
     "data": {
      "image/png": "[encoded data removed]",
      "text/plain": [
       "<Figure size 432x288 with 1 Axes>"
      ]
     },
     "metadata": {
      "needs_background": "light"
     },
     "output_type": "display_data"
    }
   ],
   "source": [
    "y_pred = gbm.predict(X_test)\n",
    "batch_scores = pd.Series([\n",
    "    accuracy_score(\n",
    "        y_test[batch_idx:min(y_test.shape[0], batch_idx+month_days)], \n",
    "        y_pred[batch_idx:min(y_pred.shape[0], batch_idx+month_days)]\n",
    "    ) for batch_idx in range(0,y_test.shape[0],month_days)\n",
    "])\n",
    "batch_scores.plot(kind='bar')"
   ]
  },
  {
   "cell_type": "markdown",
   "metadata": {},
   "source": [
    "We can see how quickly the model performance drops when dynamics of the financial markets change beyond what the model has seen in training.\n",
    "\n",
    "This is no surprise, since all of the features are highly correlated and we have no way of capturing these long-term substantial changes right now."
   ]
  },
  {
   "cell_type": "markdown",
   "metadata": {},
   "source": [
    "#### Re-training with important features only"
   ]
  },
  {
   "cell_type": "code",
   "execution_count": 107,
   "metadata": {},
   "outputs": [
    {
     "data": {
      "text/plain": [
       "116"
      ]
     },
     "execution_count": 107,
     "metadata": {},
     "output_type": "execute_result"
    }
   ],
   "source": [
    "np.count_nonzero(gbm.feature_importances_)"
   ]
  },
  {
   "cell_type": "code",
   "execution_count": 113,
   "metadata": {},
   "outputs": [],
   "source": [
    "important_features = gbm.feature_importances_ != 0\n",
    "X_train = X_train[:,important_features]\n",
    "X_val = X_val[:,important_features]\n",
    "X_test = X_test[:,important_features]"
   ]
  },
  {
   "cell_type": "code",
   "execution_count": 114,
   "metadata": {},
   "outputs": [],
   "source": [
    "final_lgbm_params = {\n",
    "#     Learning params:\n",
    "    'num_leaves': 32,\n",
    "    'learning_rate': 0.0012137,\n",
    "    'n_estimators': 4096,\n",
    "#     Regularization:\n",
    "    'lambda_l2': 0.1,\n",
    "#     Technical:\n",
    "    'silent': True,\n",
    "    'n_jobs': 4,\n",
    "    'num_class': 18\n",
    "}"
   ]
  },
  {
   "cell_type": "code",
   "execution_count": 116,
   "metadata": {},
   "outputs": [
    {
     "name": "stdout",
     "output_type": "stream",
     "text": [
      "Training until validation scores don't improve for 128 rounds.\n",
      "[256]\tvalid_0's multi_logloss: 1.67782\tvalid_0's multi_logloss: 1.67782\n",
      "[512]\tvalid_0's multi_logloss: 1.6364\tvalid_0's multi_logloss: 1.6364\n",
      "[768]\tvalid_0's multi_logloss: 1.60431\tvalid_0's multi_logloss: 1.60431\n",
      "[1024]\tvalid_0's multi_logloss: 1.5828\tvalid_0's multi_logloss: 1.5828\n",
      "[1280]\tvalid_0's multi_logloss: 1.5552\tvalid_0's multi_logloss: 1.5552\n",
      "[1536]\tvalid_0's multi_logloss: 1.53407\tvalid_0's multi_logloss: 1.53407\n",
      "Early stopping, best iteration is:\n",
      "[1628]\tvalid_0's multi_logloss: 1.53039\tvalid_0's multi_logloss: 1.53039\n"
     ]
    },
    {
     "data": {
      "text/plain": [
       "LGBMClassifier(boosting_type='gbdt', class_weight=None, colsample_bytree=1.0,\n",
       "        importance_type='split', lambda_l2=0.1, learning_rate=0.0012137,\n",
       "        max_depth=-1, min_child_samples=20, min_child_weight=0.001,\n",
       "        min_split_gain=0.0, n_estimators=4096, n_jobs=4, num_class=18,\n",
       "        num_leaves=32, objective=None, random_state=None, reg_alpha=0.0,\n",
       "        reg_lambda=0.0, silent=True, subsample=1.0,\n",
       "        subsample_for_bin=200000, subsample_freq=0)"
      ]
     },
     "execution_count": 116,
     "metadata": {},
     "output_type": "execute_result"
    }
   ],
   "source": [
    "gbm = LGBMClassifier(**final_lgbm_params)\n",
    "gbm.fit(\n",
    "    X_train, y_train,\n",
    "    sample_weight=weights_train,\n",
    "    eval_set=[(X_val, y_val)],\n",
    "    eval_sample_weight=[weights_val],\n",
    "    eval_metric='multi_logloss',\n",
    "    early_stopping_rounds=128,\n",
    "    verbose=256\n",
    ")"
   ]
  },
  {
   "cell_type": "code",
   "execution_count": 117,
   "metadata": {},
   "outputs": [
    {
     "data": {
      "text/plain": [
       "<matplotlib.axes._subplots.AxesSubplot at 0x7fb2bcee95c0>"
      ]
     },
     "execution_count": 117,
     "metadata": {},
     "output_type": "execute_result"
    },
    {
     "data": {
      "image/png": "[encoded data removed]",
      "text/plain": [
       "<Figure size 432x288 with 1 Axes>"
      ]
     },
     "metadata": {
      "needs_background": "light"
     },
     "output_type": "display_data"
    }
   ],
   "source": [
    "y_pred = gbm.predict(X_test)\n",
    "batch_scores = pd.Series([\n",
    "    accuracy_score(\n",
    "        y_test[batch_idx:min(y_test.shape[0], batch_idx+month_days)], \n",
    "        y_pred[batch_idx:min(y_pred.shape[0], batch_idx+month_days)]\n",
    "    ) for batch_idx in range(0,y_test.shape[0],month_days)\n",
    "])\n",
    "batch_scores.plot(kind='bar')"
   ]
  },
  {
   "cell_type": "markdown",
   "metadata": {},
   "source": [
    "This does not look any better, let's see how the score changes when the 2nd layer model has more data about markets themselves."
   ]
  },
  {
   "cell_type": "markdown",
   "metadata": {},
   "source": [
    "### Adding time series features"
   ]
  },
  {
   "cell_type": "code",
   "execution_count": 129,
   "metadata": {},
   "outputs": [],
   "source": [
    "returns_aggs = ['min', 'max', 'mean', 'var', 'skew', 'kurt']\n",
    "\n",
    "def aggregated_returns(df: pd.DataFrame, aggs=returns_aggs) -> pd.DataFrame:\n",
    "    returns = (df.shift(1) - df) / df\n",
    "    return returns.agg(aggs)"
   ]
  },
  {
   "cell_type": "code",
   "execution_count": 136,
   "metadata": {},
   "outputs": [
    {
     "data": {
      "text/plain": [
       "(42,)"
      ]
     },
     "execution_count": 136,
     "metadata": {},
     "output_type": "execute_result"
    }
   ],
   "source": [
    "funds_df.groupby(funds_df.index.year).tail(1).agg(returns_aggs).values.ravel().shape"
   ]
  },
  {
   "cell_type": "code",
   "execution_count": 140,
   "metadata": {},
   "outputs": [],
   "source": [
    "def compute_new_X(\n",
    "        funds_df: pd.DataFrame,\n",
    "        min_test_idx: int=5*year_days, \n",
    "        test_len: int=year_days\n",
    "    ):\n",
    "    max_test_idx = len(funds_df)\n",
    "    n_samples = max_test_idx - min_test_idx - test_len\n",
    "    n_returns_features = funds_df.shape[1]*len(returns_aggs)\n",
    "    n_groupped_features = funds_df.shape[1]*len(returns_aggs)\n",
    "    n_features = n_returns_features + n_groupped_features\n",
    "    X = np.zeros((n_samples, n_features))\n",
    "    for idx in tqdm(range(n_samples)):\n",
    "        test_starting_idx = min_test_idx + idx\n",
    "        present_data = funds_df.iloc[:test_starting_idx]\n",
    "        X[idx,:n_returns_features] = aggregated_returns(present_data, returns_aggs).values.ravel()\n",
    "        X[idx,n_returns_features:] = present_data.agg(returns_aggs).values.ravel()\n",
    "    return X"
   ]
  },
  {
   "cell_type": "code",
   "execution_count": 141,
   "metadata": {},
   "outputs": [
    {
     "name": "stderr",
     "output_type": "stream",
     "text": [
      "100%|██████████| 3289/3289 [01:46<00:00, 30.93it/s]\n"
     ]
    }
   ],
   "source": [
    "X_features = compute_new_X(funds_df)"
   ]
  },
  {
   "cell_type": "markdown",
   "metadata": {},
   "source": [
    "We will now re-train the model, once again with feature selection by applying hard l1 regularization."
   ]
  },
  {
   "cell_type": "code",
   "execution_count": 182,
   "metadata": {},
   "outputs": [
    {
     "data": {
      "text/plain": [
       "((2631, 264), (2631,), (658, 264), (658,))"
      ]
     },
     "execution_count": 182,
     "metadata": {},
     "output_type": "execute_result"
    }
   ],
   "source": [
    "X_train, X_test, y_train, y_test = train_test_split(np.hstack([X, X_features]), y, test_size=0.2, shuffle=False)\n",
    "X_train.shape, y_train.shape, X_test.shape, y_test.shape"
   ]
  },
  {
   "cell_type": "code",
   "execution_count": 183,
   "metadata": {},
   "outputs": [
    {
     "data": {
      "text/plain": [
       "((2104, 264), (2104,), (527, 264), (527,), (658, 264), (658,))"
      ]
     },
     "execution_count": 183,
     "metadata": {},
     "output_type": "execute_result"
    }
   ],
   "source": [
    "X_train, X_val, y_train, y_val = train_test_split(X_train, y_train, test_size=0.2, shuffle=False)\n",
    "X_train.shape, y_train.shape, X_val.shape, y_val.shape, X_test.shape, y_test.shape"
   ]
  },
  {
   "cell_type": "code",
   "execution_count": 184,
   "metadata": {},
   "outputs": [],
   "source": [
    "weights_train = sample_weights[:y_train.shape[0]]\n",
    "weights_val = sample_weights[y_train.shape[0]:y_train.shape[0]+y_val.shape[0]]\n",
    "weights_test = sample_weights[y_train.shape[0]+y_val.shape[0]:]"
   ]
  },
  {
   "cell_type": "markdown",
   "metadata": {},
   "source": [
    "Some of the classes will never be predicted because they are not present in the training set.\n",
    "\n",
    "For now, we will just remove the rarely occuring values from the entire dataset and work on the ones that can be split efficiently."
   ]
  },
  {
   "cell_type": "code",
   "execution_count": 185,
   "metadata": {},
   "outputs": [
    {
     "data": {
      "text/plain": [
       "(array([ 0,  2,  3,  5,  6, 10, 11, 12, 13, 16, 17]),\n",
       " array([ 0,  3,  7, 12, 13, 16, 17]),\n",
       " array([ 0,  2,  6,  7, 12, 13, 16, 17]))"
      ]
     },
     "execution_count": 185,
     "metadata": {},
     "output_type": "execute_result"
    }
   ],
   "source": [
    "np.unique(y_train), np.unique(y_val), np.unique(y_test)"
   ]
  },
  {
   "cell_type": "code",
   "execution_count": 186,
   "metadata": {},
   "outputs": [
    {
     "name": "stdout",
     "output_type": "stream",
     "text": [
      "(524, 264) (524,) (524,)\n"
     ]
    }
   ],
   "source": [
    "keep_indices = np.isin(y_val, np.unique(y_train))\n",
    "X_val, y_val, weights_val = X_val[keep_indices], y_val[keep_indices], weights_val[keep_indices]\n",
    "print(X_val.shape, y_val.shape, weights_val.shape)"
   ]
  },
  {
   "cell_type": "code",
   "execution_count": 187,
   "metadata": {},
   "outputs": [],
   "source": [
    "lgbm_params = {\n",
    "#     Learning params:\n",
    "    'num_leaves': 32,\n",
    "    'learning_rate': 0.0002137,\n",
    "    'n_estimators': 4096,\n",
    "#     Regularization:\n",
    "    'lambda_l1': 0.025,\n",
    "    'subsample': 0.75,\n",
    "#     Technical:\n",
    "    'silent': True,\n",
    "    'n_jobs': 12,\n",
    "    'num_class': 18\n",
    "}"
   ]
  },
  {
   "cell_type": "code",
   "execution_count": 161,
   "metadata": {},
   "outputs": [
    {
     "name": "stdout",
     "output_type": "stream",
     "text": [
      "Training until validation scores don't improve for 512 rounds.\n",
      "[256]\tvalid_0's multi_logloss: 1.7526\tvalid_0's multi_logloss: 1.7526\n",
      "[512]\tvalid_0's multi_logloss: 1.75241\tvalid_0's multi_logloss: 1.75241\n",
      "[768]\tvalid_0's multi_logloss: 1.7568\tvalid_0's multi_logloss: 1.7568\n",
      "Early stopping, best iteration is:\n",
      "[390]\tvalid_0's multi_logloss: 1.75186\tvalid_0's multi_logloss: 1.75186\n"
     ]
    },
    {
     "data": {
      "text/plain": [
       "LGBMClassifier(boosting_type='gbdt', class_weight=None, colsample_bytree=1.0,\n",
       "        importance_type='split', lambda_l1=0.025, learning_rate=0.0002137,\n",
       "        max_depth=-1, min_child_samples=20, min_child_weight=0.001,\n",
       "        min_split_gain=0.0, n_estimators=4096, n_jobs=12, num_class=18,\n",
       "        num_leaves=32, objective=None, random_state=None, reg_alpha=0.0,\n",
       "        reg_lambda=0.0, silent=True, subsample=0.75,\n",
       "        subsample_for_bin=200000, subsample_freq=0)"
      ]
     },
     "execution_count": 161,
     "metadata": {},
     "output_type": "execute_result"
    }
   ],
   "source": [
    "gbm = LGBMClassifier(**lgbm_params)\n",
    "gbm.fit(\n",
    "    X_train, y_train,\n",
    "    sample_weight=weights_train,\n",
    "    eval_set=[(X_val, y_val)],\n",
    "    eval_sample_weight=[weights_val],\n",
    "    eval_metric='multi_logloss',\n",
    "    early_stopping_rounds=512,\n",
    "    verbose=256\n",
    ")"
   ]
  },
  {
   "cell_type": "code",
   "execution_count": 162,
   "metadata": {},
   "outputs": [
    {
     "data": {
      "text/plain": [
       "<matplotlib.axes._subplots.AxesSubplot at 0x7fb2aaa82198>"
      ]
     },
     "execution_count": 162,
     "metadata": {},
     "output_type": "execute_result"
    },
    {
     "data": {
      "image/png": "[encoded data removed]",
      "text/plain": [
       "<Figure size 432x288 with 1 Axes>"
      ]
     },
     "metadata": {
      "needs_background": "light"
     },
     "output_type": "display_data"
    }
   ],
   "source": [
    "y_pred = gbm.predict(X_test)\n",
    "batch_scores = pd.Series([\n",
    "    accuracy_score(\n",
    "        y_test[batch_idx:min(y_test.shape[0], batch_idx+month_days)], \n",
    "        y_pred[batch_idx:min(y_pred.shape[0], batch_idx+month_days)]\n",
    "    ) for batch_idx in range(0,y_test.shape[0],month_days)\n",
    "])\n",
    "batch_scores.plot(kind='bar')"
   ]
  },
  {
   "cell_type": "code",
   "execution_count": 170,
   "metadata": {},
   "outputs": [
    {
     "data": {
      "text/plain": [
       "(0.6391014317674686, 0.9374953620982656)"
      ]
     },
     "execution_count": 170,
     "metadata": {},
     "output_type": "execute_result"
    }
   ],
   "source": [
    "np.min(np.corrcoef(X_features)), np.mean(np.corrcoef(X_features))"
   ]
  },
  {
   "cell_type": "code",
   "execution_count": 171,
   "metadata": {},
   "outputs": [
    {
     "data": {
      "text/plain": [
       "(0.9412195422994778, 0.9827917097014088)"
      ]
     },
     "execution_count": 171,
     "metadata": {},
     "output_type": "execute_result"
    }
   ],
   "source": [
    "np.min(np.corrcoef(X)), np.mean(np.corrcoef(X))"
   ]
  },
  {
   "cell_type": "code",
   "execution_count": 174,
   "metadata": {},
   "outputs": [
    {
     "data": {
      "text/plain": [
       "(290.0722222222222, 166.77380952380952)"
      ]
     },
     "execution_count": 174,
     "metadata": {},
     "output_type": "execute_result"
    }
   ],
   "source": [
    "# old features, new features\n",
    "gbm.feature_importances_[X_features.shape[1]:].mean(), gbm.feature_importances_[:X_features.shape[1]].mean()"
   ]
  },
  {
   "cell_type": "markdown",
   "metadata": {},
   "source": [
    "For some reason, the model does not take advantage of the additional features that it was given.\n",
    "\n",
    "The problem is, that most of the features are strongly correlated anyway, same goes for the base-layer PyPortfolioOpt models."
   ]
  },
  {
   "cell_type": "markdown",
   "metadata": {},
   "source": [
    "### Reducing dimentionality with PCA"
   ]
  },
  {
   "cell_type": "code",
   "execution_count": 188,
   "metadata": {},
   "outputs": [],
   "source": [
    "from sklearn.decomposition import PCA"
   ]
  },
  {
   "cell_type": "code",
   "execution_count": 189,
   "metadata": {},
   "outputs": [
    {
     "name": "stdout",
     "output_type": "stream",
     "text": [
      "CPU times: user 728 ms, sys: 0 ns, total: 728 ms\n",
      "Wall time: 62.4 ms\n"
     ]
    }
   ],
   "source": [
    "%%time\n",
    "pca = PCA(n_components=120)\n",
    "X_train = pca.fit_transform(X_train)\n",
    "X_val = pca.transform(X_val)\n",
    "X_test = pca.transform(X_test)"
   ]
  },
  {
   "cell_type": "code",
   "execution_count": 190,
   "metadata": {},
   "outputs": [],
   "source": [
    "lgbm_params = {\n",
    "#     Learning params:\n",
    "    'num_leaves': 32,\n",
    "    'learning_rate': 0.0002137,\n",
    "    'n_estimators': 4096,\n",
    "#     Regularization:\n",
    "    'lambda_l1': 0.025,\n",
    "    'subsample': 0.75,\n",
    "#     Technical:\n",
    "    'silent': True,\n",
    "    'n_jobs': 12,\n",
    "    'num_class': 18\n",
    "}"
   ]
  },
  {
   "cell_type": "code",
   "execution_count": 191,
   "metadata": {},
   "outputs": [
    {
     "name": "stdout",
     "output_type": "stream",
     "text": [
      "Training until validation scores don't improve for 512 rounds.\n",
      "[256]\tvalid_0's multi_logloss: 1.76753\tvalid_0's multi_logloss: 1.76753\n",
      "[512]\tvalid_0's multi_logloss: 1.77788\tvalid_0's multi_logloss: 1.77788\n",
      "Early stopping, best iteration is:\n",
      "[1]\tvalid_0's multi_logloss: 1.76212\tvalid_0's multi_logloss: 1.76212\n"
     ]
    },
    {
     "data": {
      "text/plain": [
       "LGBMClassifier(boosting_type='gbdt', class_weight=None, colsample_bytree=1.0,\n",
       "        importance_type='split', lambda_l1=0.025, learning_rate=0.0002137,\n",
       "        max_depth=-1, min_child_samples=20, min_child_weight=0.001,\n",
       "        min_split_gain=0.0, n_estimators=4096, n_jobs=12, num_class=18,\n",
       "        num_leaves=32, objective=None, random_state=None, reg_alpha=0.0,\n",
       "        reg_lambda=0.0, silent=True, subsample=0.75,\n",
       "        subsample_for_bin=200000, subsample_freq=0)"
      ]
     },
     "execution_count": 191,
     "metadata": {},
     "output_type": "execute_result"
    }
   ],
   "source": [
    "gbm = LGBMClassifier(**lgbm_params)\n",
    "gbm.fit(\n",
    "    X_train, y_train,\n",
    "    sample_weight=weights_train,\n",
    "    eval_set=[(X_val, y_val)],\n",
    "    eval_sample_weight=[weights_val],\n",
    "    eval_metric='multi_logloss',\n",
    "    early_stopping_rounds=512,\n",
    "    verbose=256\n",
    ")"
   ]
  },
  {
   "cell_type": "code",
   "execution_count": 192,
   "metadata": {},
   "outputs": [
    {
     "data": {
      "text/plain": [
       "<matplotlib.axes._subplots.AxesSubplot at 0x7fb2a54ce8d0>"
      ]
     },
     "execution_count": 192,
     "metadata": {},
     "output_type": "execute_result"
    },
    {
     "data": {
      "image/png": "[encoded data removed]",
      "text/plain": [
       "<Figure size 432x288 with 1 Axes>"
      ]
     },
     "metadata": {
      "needs_background": "light"
     },
     "output_type": "display_data"
    }
   ],
   "source": [
    "y_pred = gbm.predict(X_test)\n",
    "batch_scores = pd.Series([\n",
    "    accuracy_score(\n",
    "        y_test[batch_idx:min(y_test.shape[0], batch_idx+month_days)], \n",
    "        y_pred[batch_idx:min(y_pred.shape[0], batch_idx+month_days)]\n",
    "    ) for batch_idx in range(0,y_test.shape[0],month_days)\n",
    "])\n",
    "batch_scores.plot(kind='bar')"
   ]
  },
  {
   "cell_type": "markdown",
   "metadata": {},
   "source": [
    "As expected, this was a total disaster.\n",
    "\n",
    "# Conclusions & next steps\n",
    "\n",
    "Next step would be to train an LSTM on these time series, which should nicely take care of correlated input.\n",
    "Additionally, we will be able to compute a custom loss that will basically optimize the return for the given maximum risk threshold.\n",
    "\n",
    "Additionally, it is important to take into account that we aimed to classify which base model performs the best, which is likely the harder task than selecting an optimal portfolio based on base-model portfolio selections.\n",
    "This, however, would be much harder to implement using gradient boosting models and we will explore this approach when building our LSTM."
   ]
  }
 ],
 "metadata": {
  "kernelspec": {
   "display_name": "Python 3",
   "language": "python",
   "name": "python3"
  },
  "language_info": {
   "codemirror_mode": {
    "name": "ipython",
    "version": 3
   },
   "file_extension": ".py",
   "mimetype": "text/x-python",
   "name": "python",
   "nbconvert_exporter": "python",
   "pygments_lexer": "ipython3",
   "version": "3.7.1"
  }
 },
 "nbformat": 4,
 "nbformat_minor": 2
}
