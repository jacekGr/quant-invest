{
 "cells": [
  {
   "cell_type": "markdown",
   "metadata": {
    "_uuid": "bd5f1d9bc2787173627c08a45335e8c556d5d61f"
   },
   "source": [
    "# Stacking\n",
    "\n",
    "### Idea\n",
    "Because training base models is hard, the possible optimal solution may be to take a lot of classical models\n",
    "for portfolio creation and train a 2nd-layer model on their outputs, to select an optimal output.\n",
    "\n",
    "The challenges we need to solve in this notebook are the following:\n",
    "- selecting a target variable and metric\n",
    "- generating as many simple models as possible\n",
    "- adding features related to the long-term trends for 2nd layer model for it to perform a \"more informed\" choice\n",
    "- choosing whether base models should be allowed to see entire past that we have or just the most recent fraction of it"
   ]
  },
  {
   "cell_type": "markdown",
   "metadata": {
    "_uuid": "2a4221e9ddce1a7863734898271753cbe709488a"
   },
   "source": [
    "### Loading data"
   ]
  },
  {
   "cell_type": "code",
   "execution_count": 1,
   "metadata": {
    "_uuid": "ecafbaf7c5843221d9c4a53209c77c2139dcb4a4"
   },
   "outputs": [],
   "source": [
    "import pandas as pd\n",
    "\n",
    "prefix = '../input/'\n",
    "FUNDS_CSV = prefix+'Quant_Invest_Fundusze.csv'\n",
    "STOCKS_CSV = prefix+'all_indices_close.csv'\n",
    "COMMODITIES_CSV = prefix+'all_commodities_close.csv'\n",
    "RATES_CSV = prefix+'policy_rates.csv'\n",
    "FX_CSV = prefix+'exchange_rates.csv'\n",
    "\n",
    "\n",
    "def _load_indexed(path, index_col='Daty', sep=',') -> pd.DataFrame:\n",
    "    df = pd.read_csv(path, index_col=index_col, sep=sep)\n",
    "    df.index = pd.to_datetime(df.index)\n",
    "    return df.sort_index()\n",
    "\n",
    "\n",
    "def load_funds() -> pd.DataFrame:\n",
    "    return _load_indexed(FUNDS_CSV, sep=';')\n",
    "\n",
    "\n",
    "def load_stocks() -> pd.DataFrame:\n",
    "    return _load_indexed(STOCKS_CSV, index_col='Data')\n",
    "\n",
    "\n",
    "def load_commodities() -> pd.DataFrame:\n",
    "    return _load_indexed(COMMODITIES_CSV, index_col='Data')\n",
    "\n",
    "\n",
    "def load_rates() -> pd.DataFrame:\n",
    "    policy_rates = pd.read_csv(RATES_CSV, index_col = 0)\n",
    "    policy_rates = policy_rates.pivot(index='date', columns='reference_area', values='obs_value')\n",
    "    policy_rates.index = pd.to_datetime(policy_rates.index)\n",
    "    return policy_rates.iloc[:(-42)]  # keep only years 2000-2018\n",
    "\n",
    "\n",
    "def load_fx() -> pd.DataFrame:\n",
    "    exchange_rates = pd.read_csv(FX_CSV, index_col=0)\n",
    "    exchange_rates.index = pd.to_datetime(exchange_rates['Date'])\n",
    "    shortnames={}\n",
    "    for col in exchange_rates.columns[1:]:\n",
    "        start = col.index('(')\n",
    "        end = col.index(')')\n",
    "        shortnames[col] = col[(start+1):end]\n",
    "    return exchange_rates.rename(columns = shortnames).drop(columns=['Date'])\n",
    "\n",
    "\n",
    "def load_all() -> pd.DataFrame:\n",
    "    return pd.concat([\n",
    "        load_funds(),\n",
    "        load_stocks(),\n",
    "        load_commodities(),\n",
    "        load_rates(),\n",
    "        load_fx()\n",
    "    ], axis='columns')"
   ]
  },
  {
   "cell_type": "code",
   "execution_count": 2,
   "metadata": {
    "_uuid": "a763f58fb9706dbe862e20d0b1f03fd346b39151"
   },
   "outputs": [],
   "source": [
    "import pandas as pd\n",
    "import numpy as np"
   ]
  },
  {
   "cell_type": "code",
   "execution_count": 3,
   "metadata": {
    "_uuid": "0af4920ac03e62c2224bc0b28fbcb707b9d714ec"
   },
   "outputs": [
    {
     "data": {
      "text/html": [
       "<div>\n",
       "<style scoped>\n",
       "    .dataframe tbody tr th:only-of-type {\n",
       "        vertical-align: middle;\n",
       "    }\n",
       "\n",
       "    .dataframe tbody tr th {\n",
       "        vertical-align: top;\n",
       "    }\n",
       "\n",
       "    .dataframe thead th {\n",
       "        text-align: right;\n",
       "    }\n",
       "</style>\n",
       "<table border=\"1\" class=\"dataframe\">\n",
       "  <thead>\n",
       "    <tr style=\"text-align: right;\">\n",
       "      <th></th>\n",
       "      <th>AP</th>\n",
       "      <th>ARR</th>\n",
       "      <th>ARW</th>\n",
       "      <th>G</th>\n",
       "      <th>OP</th>\n",
       "      <th>ORR</th>\n",
       "      <th>ORW</th>\n",
       "      <th>a5.c</th>\n",
       "      <th>wig2</th>\n",
       "      <th>^aex</th>\n",
       "      <th>^aor</th>\n",
       "      <th>^ath</th>\n",
       "      <th>^bel</th>\n",
       "      <th>^bet</th>\n",
       "      <th>^bux</th>\n",
       "      <th>^bvp</th>\n",
       "      <th>^cac</th>\n",
       "      <th>^cry</th>\n",
       "      <th>^dax</th>\n",
       "      <th>^djc</th>\n",
       "      <th>^dji</th>\n",
       "      <th>^djt</th>\n",
       "      <th>^dju</th>\n",
       "      <th>^fmi</th>\n",
       "      <th>^ftm</th>\n",
       "      <th>^hex</th>\n",
       "      <th>^hsi</th>\n",
       "      <th>^ibe</th>\n",
       "      <th>^ice</th>\n",
       "      <th>^ipc</th>\n",
       "      <th>^ips</th>\n",
       "      <th>^jci</th>\n",
       "      <th>^klc</th>\n",
       "      <th>^kos</th>\n",
       "      <th>^mda</th>\n",
       "      <th>^moe</th>\n",
       "      <th>^mrv</th>\n",
       "      <th>^ndq</th>\n",
       "      <th>^ndx</th>\n",
       "      <th>^nkx</th>\n",
       "      <th>...</th>\n",
       "      <th>HUF</th>\n",
       "      <th>ISK</th>\n",
       "      <th>INR</th>\n",
       "      <th>IDR</th>\n",
       "      <th>IRR</th>\n",
       "      <th>ILS</th>\n",
       "      <th>JPY</th>\n",
       "      <th>KZT</th>\n",
       "      <th>KRW</th>\n",
       "      <th>KWD</th>\n",
       "      <th>LYD</th>\n",
       "      <th>MYR</th>\n",
       "      <th>MTL</th>\n",
       "      <th>MUR</th>\n",
       "      <th>MXN</th>\n",
       "      <th>NPR</th>\n",
       "      <th>NZD</th>\n",
       "      <th>NOK</th>\n",
       "      <th>OMR</th>\n",
       "      <th>PKR</th>\n",
       "      <th>PEN</th>\n",
       "      <th>PHP</th>\n",
       "      <th>PLN</th>\n",
       "      <th>QAR</th>\n",
       "      <th>RUB</th>\n",
       "      <th>SAR</th>\n",
       "      <th>SGD</th>\n",
       "      <th>SIT</th>\n",
       "      <th>ZAR</th>\n",
       "      <th>LKR</th>\n",
       "      <th>SEK</th>\n",
       "      <th>CHF</th>\n",
       "      <th>THB</th>\n",
       "      <th>TTD</th>\n",
       "      <th>TND</th>\n",
       "      <th>AED</th>\n",
       "      <th>GBP</th>\n",
       "      <th>USD</th>\n",
       "      <th>UYU</th>\n",
       "      <th>VEB</th>\n",
       "    </tr>\n",
       "  </thead>\n",
       "  <tbody>\n",
       "    <tr>\n",
       "      <th>2000-01-03</th>\n",
       "      <td>415.90</td>\n",
       "      <td>549.11</td>\n",
       "      <td>354.45</td>\n",
       "      <td>401.26</td>\n",
       "      <td>275.08</td>\n",
       "      <td>520.13</td>\n",
       "      <td>230.72</td>\n",
       "      <td>1204.88</td>\n",
       "      <td>1852.9</td>\n",
       "      <td>675.44</td>\n",
       "      <td>NaN</td>\n",
       "      <td>5794.85</td>\n",
       "      <td>3311.05</td>\n",
       "      <td>NaN</td>\n",
       "      <td>NaN</td>\n",
       "      <td>16930.0</td>\n",
       "      <td>5917.37</td>\n",
       "      <td>156.83</td>\n",
       "      <td>6750.76</td>\n",
       "      <td>3170.20</td>\n",
       "      <td>11357.5</td>\n",
       "      <td>2943.67</td>\n",
       "      <td>276.71</td>\n",
       "      <td>41226.0</td>\n",
       "      <td>NaN</td>\n",
       "      <td>15330.5</td>\n",
       "      <td>17369.6</td>\n",
       "      <td>11610.0</td>\n",
       "      <td>1511.86</td>\n",
       "      <td>7077.71</td>\n",
       "      <td>1139.63</td>\n",
       "      <td>NaN</td>\n",
       "      <td>833.89</td>\n",
       "      <td>NaN</td>\n",
       "      <td>4127.35</td>\n",
       "      <td>NaN</td>\n",
       "      <td>551.83</td>\n",
       "      <td>4131.15</td>\n",
       "      <td>3790.55</td>\n",
       "      <td>NaN</td>\n",
       "      <td>...</td>\n",
       "      <td>NaN</td>\n",
       "      <td>NaN</td>\n",
       "      <td>0.016713</td>\n",
       "      <td>NaN</td>\n",
       "      <td>NaN</td>\n",
       "      <td>NaN</td>\n",
       "      <td>NaN</td>\n",
       "      <td>NaN</td>\n",
       "      <td>NaN</td>\n",
       "      <td>2.39108</td>\n",
       "      <td>1.577</td>\n",
       "      <td>0.191236</td>\n",
       "      <td>NaN</td>\n",
       "      <td>NaN</td>\n",
       "      <td>NaN</td>\n",
       "      <td>NaN</td>\n",
       "      <td>NaN</td>\n",
       "      <td>0.090950</td>\n",
       "      <td>1.88998</td>\n",
       "      <td>NaN</td>\n",
       "      <td>NaN</td>\n",
       "      <td>NaN</td>\n",
       "      <td>NaN</td>\n",
       "      <td>0.199642</td>\n",
       "      <td>NaN</td>\n",
       "      <td>0.194044</td>\n",
       "      <td>0.437637</td>\n",
       "      <td>NaN</td>\n",
       "      <td>NaN</td>\n",
       "      <td>0.010081</td>\n",
       "      <td>0.085771</td>\n",
       "      <td>0.456726</td>\n",
       "      <td>NaN</td>\n",
       "      <td>0.115867</td>\n",
       "      <td>NaN</td>\n",
       "      <td>0.197875</td>\n",
       "      <td>NaN</td>\n",
       "      <td>0.726696</td>\n",
       "      <td>NaN</td>\n",
       "      <td>NaN</td>\n",
       "    </tr>\n",
       "    <tr>\n",
       "      <th>2000-01-04</th>\n",
       "      <td>404.41</td>\n",
       "      <td>533.89</td>\n",
       "      <td>357.14</td>\n",
       "      <td>401.42</td>\n",
       "      <td>275.08</td>\n",
       "      <td>520.02</td>\n",
       "      <td>229.63</td>\n",
       "      <td>1194.41</td>\n",
       "      <td>1796.6</td>\n",
       "      <td>642.25</td>\n",
       "      <td>3124.1</td>\n",
       "      <td>5588.65</td>\n",
       "      <td>3188.09</td>\n",
       "      <td>NaN</td>\n",
       "      <td>8709.17</td>\n",
       "      <td>15851.0</td>\n",
       "      <td>5672.02</td>\n",
       "      <td>155.49</td>\n",
       "      <td>6586.95</td>\n",
       "      <td>3090.91</td>\n",
       "      <td>10997.9</td>\n",
       "      <td>2862.17</td>\n",
       "      <td>278.51</td>\n",
       "      <td>40314.0</td>\n",
       "      <td>6432.1</td>\n",
       "      <td>14184.9</td>\n",
       "      <td>17072.8</td>\n",
       "      <td>11206.6</td>\n",
       "      <td>1511.90</td>\n",
       "      <td>6675.27</td>\n",
       "      <td>1123.98</td>\n",
       "      <td>700.22</td>\n",
       "      <td>832.80</td>\n",
       "      <td>1059.04</td>\n",
       "      <td>4048.81</td>\n",
       "      <td>NaN</td>\n",
       "      <td>522.97</td>\n",
       "      <td>3901.69</td>\n",
       "      <td>3546.20</td>\n",
       "      <td>19002.86</td>\n",
       "      <td>...</td>\n",
       "      <td>0.002908</td>\n",
       "      <td>0.010105</td>\n",
       "      <td>0.016635</td>\n",
       "      <td>NaN</td>\n",
       "      <td>0.000415</td>\n",
       "      <td>NaN</td>\n",
       "      <td>0.007060</td>\n",
       "      <td>NaN</td>\n",
       "      <td>0.000638</td>\n",
       "      <td>2.38295</td>\n",
       "      <td>1.577</td>\n",
       "      <td>0.190423</td>\n",
       "      <td>1.77834</td>\n",
       "      <td>NaN</td>\n",
       "      <td>NaN</td>\n",
       "      <td>0.010529</td>\n",
       "      <td>NaN</td>\n",
       "      <td>0.091494</td>\n",
       "      <td>1.88195</td>\n",
       "      <td>0.013972</td>\n",
       "      <td>NaN</td>\n",
       "      <td>NaN</td>\n",
       "      <td>NaN</td>\n",
       "      <td>0.198793</td>\n",
       "      <td>NaN</td>\n",
       "      <td>0.193220</td>\n",
       "      <td>0.436566</td>\n",
       "      <td>NaN</td>\n",
       "      <td>0.118208</td>\n",
       "      <td>0.010044</td>\n",
       "      <td>NaN</td>\n",
       "      <td>0.465253</td>\n",
       "      <td>0.019568</td>\n",
       "      <td>0.115445</td>\n",
       "      <td>NaN</td>\n",
       "      <td>0.197034</td>\n",
       "      <td>1.18701</td>\n",
       "      <td>0.723608</td>\n",
       "      <td>NaN</td>\n",
       "      <td>0.001114</td>\n",
       "    </tr>\n",
       "    <tr>\n",
       "      <th>2000-01-05</th>\n",
       "      <td>400.04</td>\n",
       "      <td>527.38</td>\n",
       "      <td>351.19</td>\n",
       "      <td>401.59</td>\n",
       "      <td>275.08</td>\n",
       "      <td>519.22</td>\n",
       "      <td>229.22</td>\n",
       "      <td>1192.89</td>\n",
       "      <td>1777.0</td>\n",
       "      <td>632.31</td>\n",
       "      <td>3050.9</td>\n",
       "      <td>5369.38</td>\n",
       "      <td>3057.53</td>\n",
       "      <td>NaN</td>\n",
       "      <td>8464.34</td>\n",
       "      <td>16245.0</td>\n",
       "      <td>5479.70</td>\n",
       "      <td>154.91</td>\n",
       "      <td>6502.07</td>\n",
       "      <td>3133.61</td>\n",
       "      <td>11122.7</td>\n",
       "      <td>2867.36</td>\n",
       "      <td>289.11</td>\n",
       "      <td>39452.0</td>\n",
       "      <td>6364.0</td>\n",
       "      <td>13012.0</td>\n",
       "      <td>15846.7</td>\n",
       "      <td>10863.1</td>\n",
       "      <td>1495.92</td>\n",
       "      <td>6764.31</td>\n",
       "      <td>1126.05</td>\n",
       "      <td>678.09</td>\n",
       "      <td>815.80</td>\n",
       "      <td>986.31</td>\n",
       "      <td>3994.87</td>\n",
       "      <td>173.00</td>\n",
       "      <td>532.68</td>\n",
       "      <td>3877.54</td>\n",
       "      <td>3507.31</td>\n",
       "      <td>18542.55</td>\n",
       "      <td>...</td>\n",
       "      <td>0.002947</td>\n",
       "      <td>0.010083</td>\n",
       "      <td>0.016627</td>\n",
       "      <td>NaN</td>\n",
       "      <td>0.000413</td>\n",
       "      <td>NaN</td>\n",
       "      <td>0.007019</td>\n",
       "      <td>NaN</td>\n",
       "      <td>0.000643</td>\n",
       "      <td>2.38427</td>\n",
       "      <td>1.577</td>\n",
       "      <td>0.190428</td>\n",
       "      <td>1.78598</td>\n",
       "      <td>NaN</td>\n",
       "      <td>NaN</td>\n",
       "      <td>0.010529</td>\n",
       "      <td>0.375454</td>\n",
       "      <td>0.091428</td>\n",
       "      <td>1.88199</td>\n",
       "      <td>0.013972</td>\n",
       "      <td>NaN</td>\n",
       "      <td>NaN</td>\n",
       "      <td>NaN</td>\n",
       "      <td>0.198799</td>\n",
       "      <td>NaN</td>\n",
       "      <td>0.193225</td>\n",
       "      <td>0.436973</td>\n",
       "      <td>NaN</td>\n",
       "      <td>0.119047</td>\n",
       "      <td>0.010036</td>\n",
       "      <td>0.086740</td>\n",
       "      <td>0.466615</td>\n",
       "      <td>0.019422</td>\n",
       "      <td>0.115510</td>\n",
       "      <td>NaN</td>\n",
       "      <td>0.197039</td>\n",
       "      <td>1.18624</td>\n",
       "      <td>0.723627</td>\n",
       "      <td>NaN</td>\n",
       "      <td>0.001114</td>\n",
       "    </tr>\n",
       "    <tr>\n",
       "      <th>2000-01-06</th>\n",
       "      <td>410.15</td>\n",
       "      <td>522.02</td>\n",
       "      <td>347.96</td>\n",
       "      <td>401.75</td>\n",
       "      <td>275.07</td>\n",
       "      <td>519.62</td>\n",
       "      <td>228.82</td>\n",
       "      <td>NaN</td>\n",
       "      <td>1832.1</td>\n",
       "      <td>624.21</td>\n",
       "      <td>3030.1</td>\n",
       "      <td>NaN</td>\n",
       "      <td>3061.09</td>\n",
       "      <td>NaN</td>\n",
       "      <td>8483.29</td>\n",
       "      <td>16107.0</td>\n",
       "      <td>5450.11</td>\n",
       "      <td>154.99</td>\n",
       "      <td>6474.92</td>\n",
       "      <td>3177.96</td>\n",
       "      <td>11253.3</td>\n",
       "      <td>2937.08</td>\n",
       "      <td>292.64</td>\n",
       "      <td>38835.0</td>\n",
       "      <td>6406.7</td>\n",
       "      <td>NaN</td>\n",
       "      <td>15153.2</td>\n",
       "      <td>NaN</td>\n",
       "      <td>1501.61</td>\n",
       "      <td>6751.65</td>\n",
       "      <td>1122.57</td>\n",
       "      <td>688.52</td>\n",
       "      <td>818.43</td>\n",
       "      <td>960.79</td>\n",
       "      <td>4016.15</td>\n",
       "      <td>186.26</td>\n",
       "      <td>528.47</td>\n",
       "      <td>3727.13</td>\n",
       "      <td>3340.81</td>\n",
       "      <td>18168.27</td>\n",
       "      <td>...</td>\n",
       "      <td>0.002944</td>\n",
       "      <td>0.010097</td>\n",
       "      <td>0.016646</td>\n",
       "      <td>NaN</td>\n",
       "      <td>0.000413</td>\n",
       "      <td>NaN</td>\n",
       "      <td>0.006942</td>\n",
       "      <td>NaN</td>\n",
       "      <td>0.000641</td>\n",
       "      <td>2.38695</td>\n",
       "      <td>1.577</td>\n",
       "      <td>0.190642</td>\n",
       "      <td>1.79284</td>\n",
       "      <td>NaN</td>\n",
       "      <td>NaN</td>\n",
       "      <td>0.010541</td>\n",
       "      <td>0.376491</td>\n",
       "      <td>0.091741</td>\n",
       "      <td>1.88411</td>\n",
       "      <td>0.013988</td>\n",
       "      <td>NaN</td>\n",
       "      <td>NaN</td>\n",
       "      <td>NaN</td>\n",
       "      <td>0.199022</td>\n",
       "      <td>NaN</td>\n",
       "      <td>0.193442</td>\n",
       "      <td>0.437463</td>\n",
       "      <td>NaN</td>\n",
       "      <td>0.118868</td>\n",
       "      <td>0.010037</td>\n",
       "      <td>NaN</td>\n",
       "      <td>0.468650</td>\n",
       "      <td>0.019427</td>\n",
       "      <td>0.115662</td>\n",
       "      <td>NaN</td>\n",
       "      <td>0.197260</td>\n",
       "      <td>1.19474</td>\n",
       "      <td>0.724439</td>\n",
       "      <td>NaN</td>\n",
       "      <td>0.001115</td>\n",
       "    </tr>\n",
       "    <tr>\n",
       "      <th>2000-01-07</th>\n",
       "      <td>429.16</td>\n",
       "      <td>533.16</td>\n",
       "      <td>351.87</td>\n",
       "      <td>401.93</td>\n",
       "      <td>275.07</td>\n",
       "      <td>520.80</td>\n",
       "      <td>230.09</td>\n",
       "      <td>1223.61</td>\n",
       "      <td>1933.2</td>\n",
       "      <td>644.86</td>\n",
       "      <td>3044.5</td>\n",
       "      <td>5410.82</td>\n",
       "      <td>3138.55</td>\n",
       "      <td>NaN</td>\n",
       "      <td>8694.04</td>\n",
       "      <td>16309.0</td>\n",
       "      <td>5539.61</td>\n",
       "      <td>154.75</td>\n",
       "      <td>6780.96</td>\n",
       "      <td>3242.06</td>\n",
       "      <td>11522.6</td>\n",
       "      <td>2964.72</td>\n",
       "      <td>297.78</td>\n",
       "      <td>40194.0</td>\n",
       "      <td>6484.4</td>\n",
       "      <td>13539.9</td>\n",
       "      <td>15405.6</td>\n",
       "      <td>11102.4</td>\n",
       "      <td>1495.20</td>\n",
       "      <td>7047.09</td>\n",
       "      <td>1129.52</td>\n",
       "      <td>NaN</td>\n",
       "      <td>NaN</td>\n",
       "      <td>948.65</td>\n",
       "      <td>4095.51</td>\n",
       "      <td>NaN</td>\n",
       "      <td>522.12</td>\n",
       "      <td>3882.62</td>\n",
       "      <td>3529.60</td>\n",
       "      <td>18193.41</td>\n",
       "      <td>...</td>\n",
       "      <td>0.002942</td>\n",
       "      <td>0.010079</td>\n",
       "      <td>0.016711</td>\n",
       "      <td>NaN</td>\n",
       "      <td>0.000413</td>\n",
       "      <td>NaN</td>\n",
       "      <td>0.006905</td>\n",
       "      <td>NaN</td>\n",
       "      <td>0.000638</td>\n",
       "      <td>NaN</td>\n",
       "      <td>1.577</td>\n",
       "      <td>0.191346</td>\n",
       "      <td>1.79132</td>\n",
       "      <td>NaN</td>\n",
       "      <td>NaN</td>\n",
       "      <td>0.010580</td>\n",
       "      <td>0.373845</td>\n",
       "      <td>0.091252</td>\n",
       "      <td>1.89106</td>\n",
       "      <td>0.014039</td>\n",
       "      <td>NaN</td>\n",
       "      <td>NaN</td>\n",
       "      <td>NaN</td>\n",
       "      <td>0.199756</td>\n",
       "      <td>NaN</td>\n",
       "      <td>0.194156</td>\n",
       "      <td>0.437098</td>\n",
       "      <td>NaN</td>\n",
       "      <td>0.120015</td>\n",
       "      <td>NaN</td>\n",
       "      <td>NaN</td>\n",
       "      <td>0.465233</td>\n",
       "      <td>0.019410</td>\n",
       "      <td>0.115876</td>\n",
       "      <td>NaN</td>\n",
       "      <td>0.197989</td>\n",
       "      <td>1.19596</td>\n",
       "      <td>0.727113</td>\n",
       "      <td>NaN</td>\n",
       "      <td>0.001118</td>\n",
       "    </tr>\n",
       "  </tbody>\n",
       "</table>\n",
       "</div>"
      ],
      "text/plain": [
       "                AP     ARR     ARW    ...          USD  UYU       VEB\n",
       "2000-01-03  415.90  549.11  354.45    ...     0.726696  NaN       NaN\n",
       "2000-01-04  404.41  533.89  357.14    ...     0.723608  NaN  0.001114\n",
       "2000-01-05  400.04  527.38  351.19    ...     0.723627  NaN  0.001114\n",
       "2000-01-06  410.15  522.02  347.96    ...     0.724439  NaN  0.001115\n",
       "2000-01-07  429.16  533.16  351.87    ...     0.727113  NaN  0.001118\n",
       "\n",
       "[5 rows x 200 columns]"
      ]
     },
     "execution_count": 3,
     "metadata": {},
     "output_type": "execute_result"
    }
   ],
   "source": [
    "df = load_all()\n",
    "df = df.loc[~df['AP'].isna()]\n",
    "df.head()"
   ]
  },
  {
   "cell_type": "code",
   "execution_count": 4,
   "metadata": {
    "_uuid": "73facd5adea37f025ec20c6b03eb52f46cb35f47"
   },
   "outputs": [
    {
     "data": {
      "text/plain": [
       "(4801, 200)"
      ]
     },
     "execution_count": 4,
     "metadata": {},
     "output_type": "execute_result"
    }
   ],
   "source": [
    "df.shape"
   ]
  },
  {
   "cell_type": "code",
   "execution_count": 5,
   "metadata": {
    "_uuid": "de6c997ceaabcb997e0b8e13ec31fc87b9475643"
   },
   "outputs": [],
   "source": [
    "fund_colnames = ['AP', 'ARR', 'ARW', 'G', 'OP', 'ORR', 'ORW']"
   ]
  },
  {
   "cell_type": "code",
   "execution_count": 6,
   "metadata": {
    "_uuid": "d7a1f9c7177977c908e17fb5dde30319bab496f6"
   },
   "outputs": [],
   "source": [
    "funds_df = df[fund_colnames]"
   ]
  },
  {
   "cell_type": "code",
   "execution_count": 7,
   "metadata": {
    "_uuid": "1226642bf38319d87fa6d38fce298c04bd8d0d41"
   },
   "outputs": [
    {
     "data": {
      "text/plain": [
       "(4801, 7)"
      ]
     },
     "execution_count": 7,
     "metadata": {},
     "output_type": "execute_result"
    }
   ],
   "source": [
    "funds_df.shape"
   ]
  },
  {
   "cell_type": "markdown",
   "metadata": {
    "_uuid": "4a4ff4891c07180f73b17c339fd5d797647a88fe"
   },
   "source": [
    "### Feature and target selection\n",
    "\n",
    "Firstly, we will try to train a classifier that selects the best performing model."
   ]
  },
  {
   "cell_type": "code",
   "execution_count": 8,
   "metadata": {
    "_uuid": "31667a880b94deca90db5308fe3d5c749e3e3fff"
   },
   "outputs": [],
   "source": [
    "from typing import List, Callable, Tuple\n",
    "from dataclasses import dataclass, asdict\n",
    "\n",
    "from pypfopt.expected_returns import mean_historical_return\n",
    "from pypfopt.risk_models import CovarianceShrinkage\n",
    "from pypfopt.efficient_frontier import EfficientFrontier\n",
    "\n",
    "from numba import jit\n",
    "\n",
    "from tqdm import tqdm"
   ]
  },
  {
   "cell_type": "code",
   "execution_count": 9,
   "metadata": {
    "_uuid": "2d47f3fa792ba1d7e3ac3b7a976c0edfc9067b71"
   },
   "outputs": [
    {
     "name": "stdout",
     "output_type": "stream",
     "text": [
      "Using default number of trading days in a year=252, month=21, week=5\n",
      "Using volatility threshold=0.1\n"
     ]
    }
   ],
   "source": [
    "year_days = int(funds_df.groupby(funds_df.index.year).count().mean().mean())\n",
    "month_days = int(year_days/12)\n",
    "week_days = int(month_days/4)\n",
    "print(f\"Using default number of trading days in a year={year_days}, month={month_days}, week={week_days}\")\n",
    "\n",
    "max_volatility = 0.1\n",
    "print(f\"Using volatility threshold={max_volatility}\")"
   ]
  },
  {
   "cell_type": "code",
   "execution_count": 10,
   "metadata": {
    "_uuid": "08878de38e0a9f151e715f17cc5cb6a579b4466b"
   },
   "outputs": [],
   "source": [
    "@dataclass\n",
    "class Portfolio(object):\n",
    "    AP: float\n",
    "    ARR: float\n",
    "    ARW: float\n",
    "    G: float\n",
    "    OP: float\n",
    "    ORR: float\n",
    "    ORW: float\n",
    "\n",
    "    def as_weights(self):\n",
    "        return np.array(list(asdict(self).values()))\n",
    "\n",
    "\n",
    "def risk_free_rate(table, interval_len_in_days: int=1) -> int:\n",
    "    \"\"\" For the purpose of this portfolio selection, we use G (cash fund returns) as a risk-free rate. \"\"\"\n",
    "    intervals_in_a_year = year_days / interval_len_in_days\n",
    "    return np.mean((df['G'].shift(1) - df['G'].iloc[:-1]) / df['G'].iloc[:-1]) * intervals_in_a_year\n",
    "\n",
    "\n",
    "def _ef_builder(table):\n",
    "    \"\"\" Builder for all kinds of efficient frontier models. \"\"\"\n",
    "    table = table.copy().groupby(by=[table.index.year, table.index.month]).tail(n=1)\n",
    "    mu = mean_historical_return(table)\n",
    "    S = CovarianceShrinkage(table).ledoit_wolf()\n",
    "    return EfficientFrontier(mu, S)\n",
    "\n",
    "def _ef_meta_builder(ef):\n",
    "    \"\"\" \n",
    "    Common metadata for all kinds of efficient frontier models:\n",
    "    expected annualized returns, expected volatility, sharpe ratio\n",
    "    \"\"\"\n",
    "    return np.array(ef.portfolio_performance())\n",
    "\n",
    "def ef_max_sharpe(table, interval: int=1):\n",
    "    ef = _ef_builder(table)\n",
    "    weights = ef.max_sharpe(risk_free_rate(interval))\n",
    "    return Portfolio(**weights), _ef_meta_builder(ef)\n",
    "\n",
    "def ef_min_volatility(table, interval: int=1):\n",
    "    ef = _ef_builder(table)\n",
    "    weights = ef.min_volatility()\n",
    "    return Portfolio(**weights), _ef_meta_builder(ef)\n",
    "\n",
    "def ef_efficient_risk(table, risk_target: float, interval: int=1):\n",
    "    ef = _ef_builder(table)\n",
    "    weights = ef.efficient_risk(risk_target, risk_free_rate=risk_free_rate(interval))\n",
    "    return Portfolio(**weights), _ef_meta_builder(ef)\n",
    "\n",
    "def ef_efficient_return(table, target_return, interval: int=1):\n",
    "    ef = _ef_builder(table)\n",
    "    weights = ef.efficient_return(target_return)\n",
    "    return Portfolio(**weights), _ef_meta_builder(ef)"
   ]
  },
  {
   "cell_type": "code",
   "execution_count": 11,
   "metadata": {
    "_uuid": "b05ec7accde6088e6b631cddbec0339e8b8ed7ee"
   },
   "outputs": [],
   "source": [
    "def calculate_features(funds_df: pd.DataFrame) -> Tuple[np.array, List[Portfolio]]:\n",
    "    \"\"\"\n",
    "    Returns features for the model along with the portfolios that were used for calculating these features.\n",
    "    \"\"\"\n",
    "    monthly_table = funds_df.groupby([funds_df.index.year, funds_df.index.month]).tail(1)\n",
    "    weekly_table = funds_df.groupby([funds_df.index.year, funds_df.index.week]).tail(1)\n",
    "    portfolio_data = [\n",
    "        ef_max_sharpe(funds_df),\n",
    "        ef_max_sharpe(monthly_table, month_days),\n",
    "        ef_max_sharpe(weekly_table, week_days),\n",
    "        ef_min_volatility(funds_df),\n",
    "        ef_min_volatility(monthly_table, month_days),\n",
    "        ef_min_volatility(weekly_table, week_days),\n",
    "        ef_efficient_risk(funds_df, 0.10),\n",
    "        ef_efficient_risk(funds_df, 0.05),\n",
    "        ef_efficient_risk(monthly_table, 0.10, month_days),\n",
    "        ef_efficient_risk(monthly_table, 0.05, month_days),\n",
    "        ef_efficient_risk(weekly_table, 0.10, week_days),\n",
    "        ef_efficient_risk(weekly_table, 0.05, week_days),\n",
    "        ef_efficient_return(funds_df, 0.04),\n",
    "        ef_efficient_return(funds_df, 0.08),\n",
    "        ef_efficient_return(monthly_table, 0.04, month_days),\n",
    "        ef_efficient_return(monthly_table, 0.08, month_days),\n",
    "        ef_efficient_return(weekly_table, 0.04, week_days),\n",
    "        ef_efficient_return(weekly_table, 0.08, week_days),\n",
    "    ]\n",
    "    portfolios = [pd[0] for pd in portfolio_data]\n",
    "    portfolio_weights = np.hstack([p.as_weights() for p in portfolios])\n",
    "    portfolio_features = np.hstack([pd[1] for pd in portfolio_data])\n",
    "    return np.hstack([portfolio_weights, portfolio_features]), portfolios\n",
    "    \n",
    "\n",
    "@jit(nopython=True)\n",
    "def portfolio_performance(portfolio_allocation: np.array, fund_df_values: np.array) -> Tuple[float, float]:\n",
    "    fund_returns = (fund_df_values[-1] - fund_df_values[0]) / fund_df_values[0]\n",
    "    portfolio_returns = np.sum(portfolio_allocation*fund_returns) / np.sum(portfolio_allocation)\n",
    "    # eliminating portfolios based on too high volatility\n",
    "    # volatility is calculated using formula from https://bit.ly/2RDVib9\n",
    "    portfolio_value = np.sum(portfolio_allocation*fund_df_values, axis=1)\n",
    "    portfolio_weekly = portfolio_value[::week_days]\n",
    "    portfolio_weekly_returns = (portfolio_weekly[:-1] - portfolio_weekly[1:]) / portfolio_weekly[1:]\n",
    "    portfolio_volatility = np.sum((portfolio_weekly_returns-np.mean(portfolio_weekly_returns))**2) / week_days\n",
    "    if portfolio_volatility > max_volatility:\n",
    "        print(\"Exceeded max volatility:\", portfolio_volatility)\n",
    "        return -np.inf\n",
    "    else:\n",
    "        return portfolio_returns"
   ]
  },
  {
   "cell_type": "code",
   "execution_count": 12,
   "metadata": {
    "_uuid": "32030b8ca3a2d4e6a6bf6744fdfd820641190f85"
   },
   "outputs": [
    {
     "name": "stdout",
     "output_type": "stream",
     "text": [
      "(180,) 18 Portfolio(AP=0.0, ARR=0.024181468182686638, ARW=8.672517891848946e-18, G=0.6310321560035437, OP=0.18473105504718992, ORR=0.13726016386815026, ORW=0.022795156898429723)\n",
      "CPU times: user 968 ms, sys: 164 ms, total: 1.13 s\n",
      "Wall time: 1.13 s\n"
     ]
    }
   ],
   "source": [
    "%%time\n",
    "features, pfs = calculate_features(funds_df)\n",
    "print(features.shape, len(pfs), pfs[0])"
   ]
  },
  {
   "cell_type": "code",
   "execution_count": 13,
   "metadata": {
    "_uuid": "399e808ab768547304a097d1e3d267a101ef3889"
   },
   "outputs": [
    {
     "name": "stdout",
     "output_type": "stream",
     "text": [
      "Exceeded max volatility: 0.1115490849185532\n"
     ]
    },
    {
     "data": {
      "text/plain": [
       "-inf"
      ]
     },
     "execution_count": 13,
     "metadata": {},
     "output_type": "execute_result"
    }
   ],
   "source": [
    "portfolio_performance(np.array([0,0.5,0.5,0,0,0,0]), funds_df.values)"
   ]
  },
  {
   "cell_type": "code",
   "execution_count": 14,
   "metadata": {
    "_uuid": "677e3bccef2100013375efdce67a2aa8057fa7b2"
   },
   "outputs": [
    {
     "data": {
      "text/plain": [
       "(4801, 7)"
      ]
     },
     "execution_count": 14,
     "metadata": {},
     "output_type": "execute_result"
    }
   ],
   "source": [
    "funds_df.shape"
   ]
  },
  {
   "cell_type": "code",
   "execution_count": 15,
   "metadata": {
    "_uuid": "94960119682a640b0e3af03ed4cfe6c8ec51bc72"
   },
   "outputs": [],
   "source": [
    "def compute_X_y(\n",
    "        funds_df: pd.DataFrame,\n",
    "        n_features: int,\n",
    "        n_portfolios: int=18,\n",
    "        min_test_idx: int=3*year_days, \n",
    "        test_len: int=year_days,\n",
    "        max_train_len: int=None,\n",
    "    ):\n",
    "    max_test_idx = len(funds_df)\n",
    "    n_samples = max_test_idx - min_test_idx - test_len\n",
    "    X = np.zeros((n_samples, n_features))\n",
    "    all_performances = np.zeros((n_samples, n_portfolios))\n",
    "    y = np.zeros(n_samples).astype(np.int)\n",
    "    sample_weights = np.zeros(n_samples)\n",
    "    for idx in tqdm(range(n_samples)):\n",
    "        test_starting_idx = min_test_idx + idx\n",
    "        if max_train_len is None:\n",
    "            present_data = funds_df.iloc[:test_starting_idx]\n",
    "        else:\n",
    "            present_data = funds_df.iloc[max(0, test_starting_idx-max_train_len):test_starting_idx]\n",
    "        test_data = funds_df.iloc[test_starting_idx:test_starting_idx+test_len]\n",
    "        X[idx], portfolios = calculate_features(present_data)\n",
    "        portfolio_performances = np.array([portfolio_performance(p.as_weights(), test_data.values) for p in portfolios])\n",
    "        all_performances[idx] = portfolio_performances\n",
    "        y[idx] = np.argmax(portfolio_performances)\n",
    "        sample_weights[idx] = 1 + np.max(portfolio_performances) - np.mean(portfolio_performances[portfolio_performances > -np.inf])\n",
    "    return X, y, all_performances, sample_weights"
   ]
  },
  {
   "cell_type": "markdown",
   "metadata": {
    "_uuid": "9583991efb7c8f90eaa48e55fcf6e5a965c36bb4"
   },
   "source": [
    "## 1st run: entire timespan available"
   ]
  },
  {
   "cell_type": "code",
   "execution_count": 16,
   "metadata": {
    "_uuid": "50c74b59eeff10710243c3a3ec0bda19560791b7"
   },
   "outputs": [],
   "source": [
    "min_test_idx = 3*year_days\n",
    "\n",
    "n_portfolios = 18\n",
    "n_funds = 7\n",
    "n_portfolio_features = 3"
   ]
  },
  {
   "cell_type": "code",
   "execution_count": 17,
   "metadata": {
    "_uuid": "4bb764b5bb015518f45fa973cb5eab0f9e1d0cf4",
    "scrolled": false
   },
   "outputs": [
    {
     "name": "stderr",
     "output_type": "stream",
     "text": [
      " 33%|███▎      | 1241/3793 [19:59<52:10,  1.23s/it]/opt/conda/lib/python3.6/site-packages/ipykernel_launcher.py:26: RuntimeWarning: invalid value encountered in greater\n",
      "100%|██████████| 3793/3793 [1:02:41<00:00,  1.08it/s]\n"
     ]
    },
    {
     "data": {
      "text/plain": [
       "((3793, 180), (3793,), dtype('float64'), dtype('int64'))"
      ]
     },
     "execution_count": 17,
     "metadata": {},
     "output_type": "execute_result"
    }
   ],
   "source": [
    "X, y, all_performances, sample_weights = compute_X_y(funds_df, n_features=180, min_test_idx=min_test_idx)\n",
    "X.shape, y.shape, X.dtype, y.dtype"
   ]
  },
  {
   "cell_type": "code",
   "execution_count": 18,
   "metadata": {
    "_uuid": "7c8d993cd42b02068121016904f22c216b60cb5c"
   },
   "outputs": [
    {
     "data": {
      "text/plain": [
       "((4801, 7), (3793, 180))"
      ]
     },
     "execution_count": 18,
     "metadata": {},
     "output_type": "execute_result"
    }
   ],
   "source": [
    "assert(n_portfolios*(n_funds+n_portfolio_features) == X.shape[1])\n",
    "# base-models were fitted on a rolling-window dataset, so we don't have the targets for its beginning:\n",
    "funds_df.shape, X.shape"
   ]
  },
  {
   "cell_type": "code",
   "execution_count": 19,
   "metadata": {
    "_uuid": "ad73093bae9b944e7a8476f04110263b5414d816"
   },
   "outputs": [
    {
     "name": "stdout",
     "output_type": "stream",
     "text": [
      "126\n",
      "54\n"
     ]
    }
   ],
   "source": [
    "# some utilities for converting numpy arrays back to indexed dataframes for simpler analysis:\n",
    "import re\n",
    "\n",
    "def generator_to_name(gen: str) -> str:\n",
    "    name = re.sub('funds_df', 'daily', gen)\n",
    "    name = re.sub('_table', '', name)\n",
    "    name = re.sub('\\w+_days', '', name)\n",
    "    name = re.sub('\\)+', '', name)\n",
    "    name = re.sub('[\\(, ]+', '_', name)\n",
    "    if name[-1] == '_':\n",
    "        return name[:-1]\n",
    "    else:\n",
    "        return name\n",
    "\n",
    "portfolio_names = list(map(generator_to_name, [\n",
    "    'ef_max_sharpe(funds_df)',\n",
    "    'ef_max_sharpe(monthly_table, month_days)',\n",
    "    'ef_max_sharpe(weekly_table, week_days)',\n",
    "    'ef_min_volatility(funds_df)',\n",
    "    'ef_min_volatility(monthly_table, month_days)',\n",
    "    'ef_min_volatility(weekly_table, week_days)',\n",
    "    'ef_efficient_risk(funds_df, 0.10)',\n",
    "    'ef_efficient_risk(funds_df, 0.05)',\n",
    "    'ef_efficient_risk(monthly_table, 0.10, month_days)',\n",
    "    'ef_efficient_risk(monthly_table, 0.05, month_days)',\n",
    "    'ef_efficient_risk(weekly_table, 0.10, week_days)',\n",
    "    'ef_efficient_risk(weekly_table, 0.05, week_days)',\n",
    "    'ef_efficient_return(funds_df, 0.04)',\n",
    "    'ef_efficient_return(funds_df, 0.08)',\n",
    "    'ef_efficient_return(monthly_table, 0.04, month_days)',\n",
    "    'ef_efficient_return(monthly_table, 0.08, month_days)',\n",
    "    'ef_efficient_return(weekly_table, 0.04, week_days)',\n",
    "    'ef_efficient_return(weekly_table, 0.08, week_days)',\n",
    "]))\n",
    "\n",
    "allocation_colnames = [\n",
    "    f'{basemodel}_{fundname}' \n",
    "    for basemodel in portfolio_names\n",
    "    for fundname in funds_df.columns\n",
    "]\n",
    "print(len(allocation_colnames))\n",
    "performance_colnames = [\n",
    "    f'{basemodel}_{metric}' \n",
    "    for basemodel in portfolio_names\n",
    "    for metric in ['e_returns', 'e_volatility', 'sharpe']\n",
    "]\n",
    "print(len(performance_colnames))\n",
    "assert(len(performance_colnames)+len(allocation_colnames) == X.shape[1])"
   ]
  },
  {
   "cell_type": "code",
   "execution_count": 20,
   "metadata": {
    "_uuid": "ce41bd28cba684cee9ab35d1c17ee2ffffd8388e"
   },
   "outputs": [],
   "source": [
    "portfolio_allocations = pd.DataFrame(\n",
    "    X[:,:n_portfolios*n_funds], \n",
    "    index=funds_df.index[min_test_idx:min_test_idx+X.shape[0]],\n",
    "    columns=allocation_colnames\n",
    ")\n",
    "portfolio_features = pd.DataFrame(\n",
    "    X[:,n_portfolios*n_funds:], \n",
    "    index=funds_df.index[min_test_idx:min_test_idx+X.shape[0]],\n",
    "    columns=performance_colnames\n",
    ")\n",
    "portfolio_test_performances = pd.DataFrame(\n",
    "    all_performances,\n",
    "    index=funds_df.index[min_test_idx:min_test_idx+all_performances.shape[0]],\n",
    "    columns=portfolio_names\n",
    ")\n",
    "optimal_portfolios = pd.Series(\n",
    "    y, \n",
    "    index=funds_df.index[min_test_idx:min_test_idx+y.shape[0]]\n",
    ").map(lambda i: portfolio_names[i])"
   ]
  },
  {
   "cell_type": "code",
   "execution_count": 21,
   "metadata": {
    "_uuid": "da556b41e248444446f7e8fdced6902b1dbf5296"
   },
   "outputs": [
    {
     "name": "stdout",
     "output_type": "stream",
     "text": [
      "18-funds-data-2019-03-16\n"
     ]
    }
   ],
   "source": [
    "filename = \"18-funds-data-\" + str(pd.datetime.now().date())\n",
    "print(filename)\n",
    "portfolio_allocations.to_csv(f\"{filename}-allocations.csv\", index=True)\n",
    "portfolio_features.to_csv(f\"{filename}-features.csv\", index=True)\n",
    "portfolio_test_performances.to_csv(f\"{filename}-test-performances.csv\", index=True)\n",
    "optimal_portfolios.to_csv(f\"{filename}-optimal-portfolios.csv\", index=True)"
   ]
  },
  {
   "cell_type": "markdown",
   "metadata": {
    "_uuid": "71910dd5ff29665393c5ffa9388f91107ae6924a"
   },
   "source": [
    "## 2nd run: model input contains no more than the last 5 years of data"
   ]
  },
  {
   "cell_type": "code",
   "execution_count": 22,
   "metadata": {
    "_uuid": "ef07ea45c8403214011e35c62a91e883fba30cab"
   },
   "outputs": [],
   "source": [
    "min_test_idx = 3*year_days\n",
    "max_train_len = 5*year_days"
   ]
  },
  {
   "cell_type": "code",
   "execution_count": 23,
   "metadata": {
    "_uuid": "4bb764b5bb015518f45fa973cb5eab0f9e1d0cf4",
    "scrolled": false
   },
   "outputs": [
    {
     "name": "stderr",
     "output_type": "stream",
     "text": [
      " 30%|███       | 1147/3793 [21:59<1:04:28,  1.46s/it]/opt/conda/lib/python3.6/site-packages/ipykernel_launcher.py:26: RuntimeWarning: invalid value encountered in greater\n",
      "100%|██████████| 3793/3793 [1:11:18<00:00,  1.15it/s]\n"
     ]
    },
    {
     "data": {
      "text/plain": [
       "((3793, 180), (3793,), dtype('float64'), dtype('int64'))"
      ]
     },
     "execution_count": 23,
     "metadata": {},
     "output_type": "execute_result"
    }
   ],
   "source": [
    "X, y, all_performances, sample_weights = compute_X_y(\n",
    "    funds_df, \n",
    "    n_features=180, \n",
    "    min_test_idx=min_test_idx,\n",
    "    max_train_len=max_train_len\n",
    ")\n",
    "X.shape, y.shape, X.dtype, y.dtype"
   ]
  },
  {
   "cell_type": "code",
   "execution_count": 24,
   "metadata": {
    "_uuid": "ed9c7c6a17a434e431b28d68fc005f3ca8a4a608"
   },
   "outputs": [],
   "source": [
    "portfolio_allocations = pd.DataFrame(\n",
    "    X[:,:n_portfolios*n_funds], \n",
    "    index=funds_df.index[min_test_idx:min_test_idx+X.shape[0]],\n",
    "    columns=allocation_colnames\n",
    ")\n",
    "portfolio_features = pd.DataFrame(\n",
    "    X[:,n_portfolios*n_funds:], \n",
    "    index=funds_df.index[min_test_idx:min_test_idx+X.shape[0]],\n",
    "    columns=performance_colnames\n",
    ")\n",
    "portfolio_test_performances = pd.DataFrame(\n",
    "    all_performances,\n",
    "    index=funds_df.index[min_test_idx:min_test_idx+all_performances.shape[0]],\n",
    "    columns=portfolio_names\n",
    ")\n",
    "optimal_portfolios = pd.Series(\n",
    "    y, \n",
    "    index=funds_df.index[min_test_idx:min_test_idx+y.shape[0]]\n",
    ").map(lambda i: portfolio_names[i])"
   ]
  },
  {
   "cell_type": "code",
   "execution_count": 25,
   "metadata": {
    "_uuid": "3138e350a5b00c50bd9cded7a943a95288ba6a21"
   },
   "outputs": [
    {
     "name": "stdout",
     "output_type": "stream",
     "text": [
      "18-funds-data-clipped-1260-2019-03-17\n"
     ]
    }
   ],
   "source": [
    "filename = f\"18-funds-data-clipped-{max_train_len}-{pd.datetime.now().date()}\"\n",
    "print(filename)\n",
    "portfolio_allocations.to_csv(f\"{filename}-allocations.csv\", index=True)\n",
    "portfolio_features.to_csv(f\"{filename}-features.csv\", index=True)\n",
    "portfolio_test_performances.to_csv(f\"{filename}-test-performances.csv\", index=True)\n",
    "optimal_portfolios.to_csv(f\"{filename}-optimal-portfolios.csv\", index=True)"
   ]
  }
 ],
 "metadata": {
  "kernelspec": {
   "display_name": "Python 3",
   "language": "python",
   "name": "python3"
  },
  "language_info": {
   "codemirror_mode": {
    "name": "ipython",
    "version": 3
   },
   "file_extension": ".py",
   "mimetype": "text/x-python",
   "name": "python",
   "nbconvert_exporter": "python",
   "pygments_lexer": "ipython3",
   "version": "3.6.6"
  }
 },
 "nbformat": 4,
 "nbformat_minor": 1
}
