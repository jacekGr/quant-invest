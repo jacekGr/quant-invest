{
 "cells": [
  {
   "cell_type": "markdown",
   "metadata": {},
   "source": [
    "# Forecasting\n",
    "\n",
    "In order to create better portfolios, we need to research best possible forecasting approach, for both the covariance matrix and the expected returns.\n",
    "\n",
    "## Covariance\n",
    "\n",
    "Baseline: histroical covariance / CovarianceShrinkage taken from PyPortfolioOpt\n",
    "\n",
    "References:\n",
    "- [Summary of classical forecasting methods](https://papers.ssrn.com/sol3/papers.cfm?abstract_id=2411493)\n",
    "- [Paper doing similar work to ours, with interesing strategies to extract longer-period values from short-period predictions](http://econ.au.dk/fileadmin/site_files/filer_oekonomi/Working_Papers/CREATES/2014/rp14_42.pdf?fbclid=IwAR1PD0w4EFzq6MfJlAlzjDVCZpXmER5sVVjM7tkIVzbogZLitIaGpgGhBY8)\n",
    "\n",
    "## Expected returns\n",
    "\n",
    "Baseline: mean historical yearly returns\n",
    "\n",
    "Notes:\n",
    "- might be unpredictable\n",
    "\n",
    "References: -\n",
    "\n",
    "## Dataset construction\n",
    "Before starting work on these methods, gather as much historical data as possible.\n",
    "\n",
    "See `DatasetCreation` notebook for more info."
   ]
  },
  {
   "cell_type": "code",
   "execution_count": 1,
   "metadata": {},
   "outputs": [],
   "source": [
    "#TODO"
   ]
  }
 ],
 "metadata": {
  "kernelspec": {
   "display_name": "Python 3",
   "language": "python",
   "name": "python3"
  },
  "language_info": {
   "codemirror_mode": {
    "name": "ipython",
    "version": 3
   },
   "file_extension": ".py",
   "mimetype": "text/x-python",
   "name": "python",
   "nbconvert_exporter": "python",
   "pygments_lexer": "ipython3",
   "version": "3.7.2"
  }
 },
 "nbformat": 4,
 "nbformat_minor": 2
}
