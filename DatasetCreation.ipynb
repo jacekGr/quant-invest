{
 "cells": [
  {
   "cell_type": "markdown",
   "metadata": {},
   "source": [
    "# Dataset Creation\n",
    "This notebook will be used to download and preprocess as much data as possible for the Forecasting notebook.\n",
    "\n",
    "\n",
    "## Data requirements\n",
    "\n",
    "- ideally in day or shorter intervals\n",
    "- acceptable up to a month-long interval (but this will most likely eliminate all but linear models)\n",
    "\n",
    "\n",
    "## Obvious dependencies\n",
    "\n",
    "### G\n",
    "- polish macroeconomic situation: interest rates, PLN exchange rates, GDP, etc.\n",
    "\n",
    "### OP\n",
    "- polish macroeconomic situation\n",
    "\n",
    "### AP\n",
    "- polish stock market: mostly WIG20\n",
    "- polish macroeconomic situation\n",
    "\n",
    "### ORR\n",
    "- US, EUR, JAP macroeconomic situation\n",
    "\n",
    "### ARR\n",
    "- USD exchange rates (14 currencies -> might be able to reverse-engineer the fund structure easily)\n",
    "- blue chip stocks: US(55%), JAP(8%), GB(6%)\n",
    "\n",
    "### ORW\n",
    "- USD exchange rates (60 countries => no reverse engineering)\n",
    "- global macroeconomic situation, esp. emerging economies:\n",
    "  Maxico(6%), China(5%), Indonesia(5%), Russia(4%), Turkey(4%)\n",
    "\n",
    "### ARW\n",
    "- USD exchange rates (?? countries => likely no reverse engineering)\n",
    "- global macroeconomic situation\n",
    "- stock markets: Hong-Konk(20%), S.Korea(15%), Taiwan(11%), India(8%), Brazil(7%), ..., Poland only 1.5%"
   ]
  },
  {
   "cell_type": "code",
   "execution_count": 1,
   "metadata": {},
   "outputs": [],
   "source": [
    "import os\n",
    "from time import sleep\n",
    "\n",
    "import requests\n",
    "from tqdm import tqdm\n",
    "from bs4 import BeautifulSoup\n",
    "import pandas as pd"
   ]
  },
  {
   "cell_type": "markdown",
   "metadata": {},
   "source": [
    "# Stock index data"
   ]
  },
  {
   "cell_type": "code",
   "execution_count": 2,
   "metadata": {},
   "outputs": [],
   "source": [
    "stooq_page_base_url = 'https://stooq.pl/'\n",
    "stock_index_url = f'{stooq_page_base_url}t/?i=510'\n",
    "csv_download_dir = 'input/indices/'\n",
    "csv_all_indices_path = 'input/all_indices_close.csv'"
   ]
  },
  {
   "cell_type": "markdown",
   "metadata": {},
   "source": [
    "### Get list of the most importand stock indices from stooq.pl"
   ]
  },
  {
   "cell_type": "code",
   "execution_count": 3,
   "metadata": {},
   "outputs": [],
   "source": [
    "response = requests.get(stock_index_url)\n",
    "assert(response.status_code == 200)\n",
    "soup = BeautifulSoup(response.text, 'html.parser')"
   ]
  },
  {
   "cell_type": "code",
   "execution_count": 4,
   "metadata": {},
   "outputs": [
    {
     "data": {
      "text/plain": [
       "(59, ['?s=^aor', '?s=^hsi', '?s=^jci', '?s=^klci', '?s=^kospi'])"
      ]
     },
     "execution_count": 4,
     "metadata": {},
     "output_type": "execute_result"
    }
   ],
   "source": [
    "table = soup.find(id='fth1')\n",
    "tbody = table.find('tbody')\n",
    "index_page_query_strings = [\n",
    "    tr.find(\"a\")[\"href\"][2:]\n",
    "    for tr in tbody.children if \"r_\" in tr.get('id', '')\n",
    "]\n",
    "len(index_page_query_strings), index_page_query_strings[:5]  # sanity check"
   ]
  },
  {
   "cell_type": "markdown",
   "metadata": {},
   "source": [
    "### Download raw daily index data"
   ]
  },
  {
   "cell_type": "code",
   "execution_count": 5,
   "metadata": {},
   "outputs": [],
   "source": [
    "if not os.path.exists(csv_download_dir):\n",
    "    os.makedirs(csv_download_dir)"
   ]
  },
  {
   "cell_type": "code",
   "execution_count": 6,
   "metadata": {},
   "outputs": [
    {
     "name": "stderr",
     "output_type": "stream",
     "text": [
      "100%|███████████████████████████████████████████████████████████████████████████████████████████████| 59/59 [04:19<00:00,  5.16s/it]\n"
     ]
    }
   ],
   "source": [
    "for ipqs in tqdm(index_page_query_strings):\n",
    "    csv_url = f'https://stooq.pl/q/d/l/{ipqs}&i=d'\n",
    "    stock_index_name = ipqs[3:]\n",
    "    response = requests.get(csv_url)\n",
    "    assert(response.status_code == 200)\n",
    "    filename = os.path.join(csv_download_dir, f'{stock_index_name}.csv')\n",
    "    with open(filename, 'w') as file:\n",
    "        file.write(response.text)\n",
    "    sleep(1)  # don't overload their server"
   ]
  },
  {
   "cell_type": "markdown",
   "metadata": {},
   "source": [
    "### Convert data to a more friendly format"
   ]
  },
  {
   "cell_type": "code",
   "execution_count": 7,
   "metadata": {},
   "outputs": [],
   "source": [
    "csv_names = os.listdir(csv_download_dir)\n",
    "downloaded_csv_paths = [os.path.join(csv_download_dir, csv_name) for csv_name in csv_names]"
   ]
  },
  {
   "cell_type": "code",
   "execution_count": 8,
   "metadata": {},
   "outputs": [
    {
     "name": "stderr",
     "output_type": "stream",
     "text": [
      "59it [00:12,  3.95it/s]\n"
     ]
    }
   ],
   "source": [
    "daily_close_csvs = []\n",
    "for csv_path, csv_name in tqdm(zip(downloaded_csv_paths, csv_names)):\n",
    "    try:\n",
    "        # keep only dates from 2000 to 2018 in the csv file\n",
    "        index_name = csv_name[:4]\n",
    "        df = pd.read_csv(csv_path, index_col='Data')\n",
    "        df.index = pd.to_datetime(df.index)\n",
    "        df = df.sort_index()\n",
    "        df = df.loc['2000-01-01':'2018-12-31']\n",
    "        df.to_csv(csv_path, index=True)  # overwrite existing csv\n",
    "        # add daily close values for the index to daily_close_csvs\n",
    "        df_close = df[['Zamkniecie']].rename(columns={'Zamkniecie': index_name})\n",
    "        daily_close_csvs.append(df_close)\n",
    "    except Exception as e:\n",
    "        print(csv_path)\n",
    "        print(e)"
   ]
  },
  {
   "cell_type": "code",
   "execution_count": 9,
   "metadata": {},
   "outputs": [
    {
     "data": {
      "text/plain": [
       "59"
      ]
     },
     "execution_count": 9,
     "metadata": {},
     "output_type": "execute_result"
    }
   ],
   "source": [
    "len(daily_close_csvs)"
   ]
  },
  {
   "cell_type": "code",
   "execution_count": 10,
   "metadata": {},
   "outputs": [],
   "source": [
    "all_indices_daily_close = pd.concat(daily_close_csvs, axis='columns')"
   ]
  },
  {
   "cell_type": "code",
   "execution_count": 11,
   "metadata": {},
   "outputs": [
    {
     "data": {
      "text/html": [
       "<div>\n",
       "<style scoped>\n",
       "    .dataframe tbody tr th:only-of-type {\n",
       "        vertical-align: middle;\n",
       "    }\n",
       "\n",
       "    .dataframe tbody tr th {\n",
       "        vertical-align: top;\n",
       "    }\n",
       "\n",
       "    .dataframe thead th {\n",
       "        text-align: right;\n",
       "    }\n",
       "</style>\n",
       "<table border=\"1\" class=\"dataframe\">\n",
       "  <thead>\n",
       "    <tr style=\"text-align: right;\">\n",
       "      <th></th>\n",
       "      <th>a5.c</th>\n",
       "      <th>wig2</th>\n",
       "      <th>^aex</th>\n",
       "      <th>^aor</th>\n",
       "      <th>^ath</th>\n",
       "      <th>^bel</th>\n",
       "      <th>^bet</th>\n",
       "      <th>^bux</th>\n",
       "      <th>^bvp</th>\n",
       "      <th>^cac</th>\n",
       "      <th>...</th>\n",
       "      <th>^snx</th>\n",
       "      <th>^sof</th>\n",
       "      <th>^spx</th>\n",
       "      <th>^sti</th>\n",
       "      <th>^tdx</th>\n",
       "      <th>^tsx</th>\n",
       "      <th>^tws</th>\n",
       "      <th>^ukx</th>\n",
       "      <th>^ux.</th>\n",
       "      <th>^xu1</th>\n",
       "    </tr>\n",
       "    <tr>\n",
       "      <th>Data</th>\n",
       "      <th></th>\n",
       "      <th></th>\n",
       "      <th></th>\n",
       "      <th></th>\n",
       "      <th></th>\n",
       "      <th></th>\n",
       "      <th></th>\n",
       "      <th></th>\n",
       "      <th></th>\n",
       "      <th></th>\n",
       "      <th></th>\n",
       "      <th></th>\n",
       "      <th></th>\n",
       "      <th></th>\n",
       "      <th></th>\n",
       "      <th></th>\n",
       "      <th></th>\n",
       "      <th></th>\n",
       "      <th></th>\n",
       "      <th></th>\n",
       "      <th></th>\n",
       "    </tr>\n",
       "  </thead>\n",
       "  <tbody>\n",
       "    <tr>\n",
       "      <th>2000-01-03</th>\n",
       "      <td>1204.88</td>\n",
       "      <td>1852.9</td>\n",
       "      <td>675.44</td>\n",
       "      <td>NaN</td>\n",
       "      <td>5794.85</td>\n",
       "      <td>3311.05</td>\n",
       "      <td>NaN</td>\n",
       "      <td>NaN</td>\n",
       "      <td>16930.0</td>\n",
       "      <td>5917.37</td>\n",
       "      <td>...</td>\n",
       "      <td>5375.11</td>\n",
       "      <td>NaN</td>\n",
       "      <td>1455.22</td>\n",
       "      <td>2582.94</td>\n",
       "      <td>5151.36</td>\n",
       "      <td>NaN</td>\n",
       "      <td>NaN</td>\n",
       "      <td>NaN</td>\n",
       "      <td>94.79</td>\n",
       "      <td>NaN</td>\n",
       "    </tr>\n",
       "    <tr>\n",
       "      <th>2000-01-04</th>\n",
       "      <td>1194.41</td>\n",
       "      <td>1796.6</td>\n",
       "      <td>642.25</td>\n",
       "      <td>3124.1</td>\n",
       "      <td>5588.65</td>\n",
       "      <td>3188.09</td>\n",
       "      <td>NaN</td>\n",
       "      <td>8709.17</td>\n",
       "      <td>15851.0</td>\n",
       "      <td>5672.02</td>\n",
       "      <td>...</td>\n",
       "      <td>5491.01</td>\n",
       "      <td>NaN</td>\n",
       "      <td>1399.42</td>\n",
       "      <td>2530.15</td>\n",
       "      <td>4977.74</td>\n",
       "      <td>8202.60</td>\n",
       "      <td>8756.55</td>\n",
       "      <td>6665.9</td>\n",
       "      <td>94.79</td>\n",
       "      <td>17512.19</td>\n",
       "    </tr>\n",
       "    <tr>\n",
       "      <th>2000-01-05</th>\n",
       "      <td>1192.89</td>\n",
       "      <td>1777.0</td>\n",
       "      <td>632.31</td>\n",
       "      <td>3050.9</td>\n",
       "      <td>5369.38</td>\n",
       "      <td>3057.53</td>\n",
       "      <td>NaN</td>\n",
       "      <td>8464.34</td>\n",
       "      <td>16245.0</td>\n",
       "      <td>5479.70</td>\n",
       "      <td>...</td>\n",
       "      <td>5357.00</td>\n",
       "      <td>NaN</td>\n",
       "      <td>1402.11</td>\n",
       "      <td>2391.03</td>\n",
       "      <td>4810.34</td>\n",
       "      <td>8119.42</td>\n",
       "      <td>8849.87</td>\n",
       "      <td>6535.9</td>\n",
       "      <td>94.79</td>\n",
       "      <td>16932.00</td>\n",
       "    </tr>\n",
       "    <tr>\n",
       "      <th>2000-01-06</th>\n",
       "      <td>NaN</td>\n",
       "      <td>1832.1</td>\n",
       "      <td>624.21</td>\n",
       "      <td>3030.1</td>\n",
       "      <td>NaN</td>\n",
       "      <td>3061.09</td>\n",
       "      <td>NaN</td>\n",
       "      <td>8483.29</td>\n",
       "      <td>16107.0</td>\n",
       "      <td>5450.11</td>\n",
       "      <td>...</td>\n",
       "      <td>5421.53</td>\n",
       "      <td>NaN</td>\n",
       "      <td>1403.45</td>\n",
       "      <td>2359.21</td>\n",
       "      <td>4789.80</td>\n",
       "      <td>8114.24</td>\n",
       "      <td>8922.03</td>\n",
       "      <td>6447.2</td>\n",
       "      <td>94.79</td>\n",
       "      <td>16200.02</td>\n",
       "    </tr>\n",
       "    <tr>\n",
       "      <th>2000-01-07</th>\n",
       "      <td>1223.61</td>\n",
       "      <td>1933.2</td>\n",
       "      <td>644.86</td>\n",
       "      <td>3044.5</td>\n",
       "      <td>5410.82</td>\n",
       "      <td>3138.55</td>\n",
       "      <td>NaN</td>\n",
       "      <td>8694.04</td>\n",
       "      <td>16309.0</td>\n",
       "      <td>5539.61</td>\n",
       "      <td>...</td>\n",
       "      <td>5414.48</td>\n",
       "      <td>NaN</td>\n",
       "      <td>1441.47</td>\n",
       "      <td>2406.04</td>\n",
       "      <td>4984.45</td>\n",
       "      <td>8429.42</td>\n",
       "      <td>8845.47</td>\n",
       "      <td>6504.8</td>\n",
       "      <td>94.79</td>\n",
       "      <td>15837.36</td>\n",
       "    </tr>\n",
       "  </tbody>\n",
       "</table>\n",
       "<p>5 rows × 59 columns</p>\n",
       "</div>"
      ],
      "text/plain": [
       "               a5.c    wig2    ^aex    ^aor     ^ath     ^bel  ^bet     ^bux  \\\n",
       "Data                                                                           \n",
       "2000-01-03  1204.88  1852.9  675.44     NaN  5794.85  3311.05   NaN      NaN   \n",
       "2000-01-04  1194.41  1796.6  642.25  3124.1  5588.65  3188.09   NaN  8709.17   \n",
       "2000-01-05  1192.89  1777.0  632.31  3050.9  5369.38  3057.53   NaN  8464.34   \n",
       "2000-01-06      NaN  1832.1  624.21  3030.1      NaN  3061.09   NaN  8483.29   \n",
       "2000-01-07  1223.61  1933.2  644.86  3044.5  5410.82  3138.55   NaN  8694.04   \n",
       "\n",
       "               ^bvp     ^cac  ...     ^snx  ^sof     ^spx     ^sti     ^tdx  \\\n",
       "Data                          ...                                             \n",
       "2000-01-03  16930.0  5917.37  ...  5375.11   NaN  1455.22  2582.94  5151.36   \n",
       "2000-01-04  15851.0  5672.02  ...  5491.01   NaN  1399.42  2530.15  4977.74   \n",
       "2000-01-05  16245.0  5479.70  ...  5357.00   NaN  1402.11  2391.03  4810.34   \n",
       "2000-01-06  16107.0  5450.11  ...  5421.53   NaN  1403.45  2359.21  4789.80   \n",
       "2000-01-07  16309.0  5539.61  ...  5414.48   NaN  1441.47  2406.04  4984.45   \n",
       "\n",
       "               ^tsx     ^tws    ^ukx   ^ux.      ^xu1  \n",
       "Data                                                   \n",
       "2000-01-03      NaN      NaN     NaN  94.79       NaN  \n",
       "2000-01-04  8202.60  8756.55  6665.9  94.79  17512.19  \n",
       "2000-01-05  8119.42  8849.87  6535.9  94.79  16932.00  \n",
       "2000-01-06  8114.24  8922.03  6447.2  94.79  16200.02  \n",
       "2000-01-07  8429.42  8845.47  6504.8  94.79  15837.36  \n",
       "\n",
       "[5 rows x 59 columns]"
      ]
     },
     "execution_count": 11,
     "metadata": {},
     "output_type": "execute_result"
    }
   ],
   "source": [
    "all_indices_daily_close.head()"
   ]
  },
  {
   "cell_type": "code",
   "execution_count": 12,
   "metadata": {},
   "outputs": [
    {
     "data": {
      "text/plain": [
       "^sof    15.574263\n",
       "^bet     9.420726\n",
       "^nz5     9.340549\n",
       "^shb     8.538785\n",
       "^shc     7.777110\n",
       "^jci     7.456404\n",
       "^sax     6.895169\n",
       "^set     6.794949\n",
       "^mrv     6.714772\n",
       "^klc     6.514332\n",
       "dtype: float64"
      ]
     },
     "execution_count": 12,
     "metadata": {},
     "output_type": "execute_result"
    }
   ],
   "source": [
    "pct_missing = all_indices_daily_close.isna().sum() * 100 / len(all_indices_daily_close)\n",
    "pct_missing.sort_values(ascending=False).head(10)"
   ]
  },
  {
   "cell_type": "markdown",
   "metadata": {},
   "source": [
    "For all indices but one, >90% of days are available. This is quite good and we can work on such data."
   ]
  },
  {
   "cell_type": "code",
   "execution_count": 13,
   "metadata": {},
   "outputs": [],
   "source": [
    "all_indices_daily_close.to_csv(csv_all_indices_path, index=True)"
   ]
  },
  {
   "cell_type": "markdown",
   "metadata": {},
   "source": [
    "# Commodity prices"
   ]
  },
  {
   "cell_type": "markdown",
   "metadata": {},
   "source": [
    "Code below is copied from above, in case there is a need for tweaking / changing something it might be useful to move this functionality into a small, separate package."
   ]
  },
  {
   "cell_type": "code",
   "execution_count": 14,
   "metadata": {},
   "outputs": [],
   "source": [
    "stooq_page_base_url = 'https://stooq.pl/'\n",
    "stock_index_url = f'{stooq_page_base_url}t/?i=512'\n",
    "csv_download_dir = 'input/commodities/'\n",
    "csv_all_indices_path = 'input/all_commodities_close.csv'"
   ]
  },
  {
   "cell_type": "markdown",
   "metadata": {},
   "source": [
    "### Get list of the most importand commodity prices from stooq.pl"
   ]
  },
  {
   "cell_type": "code",
   "execution_count": 15,
   "metadata": {},
   "outputs": [],
   "source": [
    "response = requests.get(stock_index_url)\n",
    "assert(response.status_code == 200)\n",
    "soup = BeautifulSoup(response.text, 'html.parser')"
   ]
  },
  {
   "cell_type": "code",
   "execution_count": 16,
   "metadata": {},
   "outputs": [
    {
     "data": {
      "text/plain": [
       "(41, ['?s=cb.f', '?s=ck.f', '?s=cl.f', '?s=fi.f', '?s=ho.f'])"
      ]
     },
     "execution_count": 16,
     "metadata": {},
     "output_type": "execute_result"
    }
   ],
   "source": [
    "table = soup.find(id='fth1')\n",
    "tbody = table.find('tbody')\n",
    "index_page_query_strings = [\n",
    "    tr.find(\"a\")[\"href\"][2:]\n",
    "    for tr in tbody.children if \"r_\" in tr.get('id', '')\n",
    "]\n",
    "len(index_page_query_strings), index_page_query_strings[:5]  # sanity check"
   ]
  },
  {
   "cell_type": "markdown",
   "metadata": {},
   "source": [
    "### Download raw daily index data"
   ]
  },
  {
   "cell_type": "code",
   "execution_count": 17,
   "metadata": {},
   "outputs": [],
   "source": [
    "if not os.path.exists(csv_download_dir):\n",
    "    os.makedirs(csv_download_dir)"
   ]
  },
  {
   "cell_type": "code",
   "execution_count": 18,
   "metadata": {},
   "outputs": [
    {
     "name": "stderr",
     "output_type": "stream",
     "text": [
      "100%|███████████████████████████████████████████████████████████████████████████████████████████████| 41/41 [02:33<00:00,  4.50s/it]\n"
     ]
    }
   ],
   "source": [
    "for ipqs in tqdm(index_page_query_strings):\n",
    "    csv_url = f'https://stooq.pl/q/d/l/{ipqs}&i=d'\n",
    "    stock_index_name = ipqs[3:]\n",
    "    response = requests.get(csv_url)\n",
    "    assert(response.status_code == 200)\n",
    "    filename = os.path.join(csv_download_dir, f'{stock_index_name}.csv')\n",
    "    with open(filename, 'w') as file:\n",
    "        file.write(response.text)\n",
    "    sleep(1)  # don't overload their server"
   ]
  },
  {
   "cell_type": "markdown",
   "metadata": {},
   "source": [
    "### Convert data to a more friendly format"
   ]
  },
  {
   "cell_type": "code",
   "execution_count": 19,
   "metadata": {},
   "outputs": [],
   "source": [
    "csv_names = os.listdir(csv_download_dir)\n",
    "downloaded_csv_paths = [os.path.join(csv_download_dir, csv_name) for csv_name in csv_names]"
   ]
  },
  {
   "cell_type": "code",
   "execution_count": 20,
   "metadata": {},
   "outputs": [
    {
     "name": "stderr",
     "output_type": "stream",
     "text": [
      "41it [00:08,  3.87it/s]\n"
     ]
    }
   ],
   "source": [
    "daily_close_csvs = []\n",
    "for csv_path, csv_name in tqdm(zip(downloaded_csv_paths, csv_names)):\n",
    "    try:\n",
    "        # keep only dates from 2000 to 2018 in the csv file\n",
    "        index_name = csv_name[:4]\n",
    "        df = pd.read_csv(csv_path, index_col='Data')\n",
    "        df.index = pd.to_datetime(df.index)\n",
    "        df = df.sort_index()\n",
    "        df = df.loc['2000-01-01':'2018-12-31']\n",
    "        df.to_csv(csv_path, index=True)  # overwrite existing csv\n",
    "        # add daily close values for the index to daily_close_csvs\n",
    "        df_close = df[['Zamkniecie']].rename(columns={'Zamkniecie': index_name})\n",
    "        daily_close_csvs.append(df_close)\n",
    "    except Exception as e:\n",
    "        print(csv_path)\n",
    "        print(e)"
   ]
  },
  {
   "cell_type": "code",
   "execution_count": 21,
   "metadata": {},
   "outputs": [
    {
     "data": {
      "text/plain": [
       "41"
      ]
     },
     "execution_count": 21,
     "metadata": {},
     "output_type": "execute_result"
    }
   ],
   "source": [
    "len(daily_close_csvs)"
   ]
  },
  {
   "cell_type": "code",
   "execution_count": 22,
   "metadata": {},
   "outputs": [],
   "source": [
    "all_indices_daily_close = pd.concat(daily_close_csvs, axis='columns')"
   ]
  },
  {
   "cell_type": "code",
   "execution_count": 23,
   "metadata": {},
   "outputs": [
    {
     "data": {
      "text/html": [
       "<div>\n",
       "<style scoped>\n",
       "    .dataframe tbody tr th:only-of-type {\n",
       "        vertical-align: middle;\n",
       "    }\n",
       "\n",
       "    .dataframe tbody tr th {\n",
       "        vertical-align: top;\n",
       "    }\n",
       "\n",
       "    .dataframe thead th {\n",
       "        text-align: right;\n",
       "    }\n",
       "</style>\n",
       "<table border=\"1\" class=\"dataframe\">\n",
       "  <thead>\n",
       "    <tr style=\"text-align: right;\">\n",
       "      <th></th>\n",
       "      <th>ca.f</th>\n",
       "      <th>cb.f</th>\n",
       "      <th>cc.f</th>\n",
       "      <th>ck.f</th>\n",
       "      <th>cl.f</th>\n",
       "      <th>ct.f</th>\n",
       "      <th>dl.f</th>\n",
       "      <th>fi.f</th>\n",
       "      <th>gc.f</th>\n",
       "      <th>gf.f</th>\n",
       "      <th>...</th>\n",
       "      <th>ux.f</th>\n",
       "      <th>xr.f</th>\n",
       "      <th>zc.f</th>\n",
       "      <th>zk.f</th>\n",
       "      <th>zl.f</th>\n",
       "      <th>zm.f</th>\n",
       "      <th>zo.f</th>\n",
       "      <th>zr.f</th>\n",
       "      <th>zs.f</th>\n",
       "      <th>zw.f</th>\n",
       "    </tr>\n",
       "    <tr>\n",
       "      <th>Data</th>\n",
       "      <th></th>\n",
       "      <th></th>\n",
       "      <th></th>\n",
       "      <th></th>\n",
       "      <th></th>\n",
       "      <th></th>\n",
       "      <th></th>\n",
       "      <th></th>\n",
       "      <th></th>\n",
       "      <th></th>\n",
       "      <th></th>\n",
       "      <th></th>\n",
       "      <th></th>\n",
       "      <th></th>\n",
       "      <th></th>\n",
       "      <th></th>\n",
       "      <th></th>\n",
       "      <th></th>\n",
       "      <th></th>\n",
       "      <th></th>\n",
       "      <th></th>\n",
       "    </tr>\n",
       "  </thead>\n",
       "  <tbody>\n",
       "    <tr>\n",
       "      <th>2000-01-03</th>\n",
       "      <td>NaN</td>\n",
       "      <td>NaN</td>\n",
       "      <td>830.0</td>\n",
       "      <td>NaN</td>\n",
       "      <td>NaN</td>\n",
       "      <td>51.07</td>\n",
       "      <td>10.26</td>\n",
       "      <td>NaN</td>\n",
       "      <td>NaN</td>\n",
       "      <td>85.90</td>\n",
       "      <td>...</td>\n",
       "      <td>NaN</td>\n",
       "      <td>NaN</td>\n",
       "      <td>200.75</td>\n",
       "      <td>NaN</td>\n",
       "      <td>15.70</td>\n",
       "      <td>146.7</td>\n",
       "      <td>108.25</td>\n",
       "      <td>5.48</td>\n",
       "      <td>456.50</td>\n",
       "      <td>247.50</td>\n",
       "    </tr>\n",
       "    <tr>\n",
       "      <th>2000-01-04</th>\n",
       "      <td>561.0</td>\n",
       "      <td>24.39</td>\n",
       "      <td>836.0</td>\n",
       "      <td>NaN</td>\n",
       "      <td>25.55</td>\n",
       "      <td>50.73</td>\n",
       "      <td>10.27</td>\n",
       "      <td>NaN</td>\n",
       "      <td>283.7</td>\n",
       "      <td>85.70</td>\n",
       "      <td>...</td>\n",
       "      <td>NaN</td>\n",
       "      <td>NaN</td>\n",
       "      <td>203.00</td>\n",
       "      <td>NaN</td>\n",
       "      <td>15.82</td>\n",
       "      <td>148.6</td>\n",
       "      <td>109.00</td>\n",
       "      <td>5.50</td>\n",
       "      <td>464.25</td>\n",
       "      <td>247.25</td>\n",
       "    </tr>\n",
       "    <tr>\n",
       "      <th>2000-01-05</th>\n",
       "      <td>560.0</td>\n",
       "      <td>23.73</td>\n",
       "      <td>831.0</td>\n",
       "      <td>NaN</td>\n",
       "      <td>24.91</td>\n",
       "      <td>51.55</td>\n",
       "      <td>10.20</td>\n",
       "      <td>NaN</td>\n",
       "      <td>NaN</td>\n",
       "      <td>85.70</td>\n",
       "      <td>...</td>\n",
       "      <td>NaN</td>\n",
       "      <td>NaN</td>\n",
       "      <td>NaN</td>\n",
       "      <td>NaN</td>\n",
       "      <td>15.96</td>\n",
       "      <td>151.8</td>\n",
       "      <td>109.25</td>\n",
       "      <td>5.51</td>\n",
       "      <td>469.25</td>\n",
       "      <td>249.75</td>\n",
       "    </tr>\n",
       "    <tr>\n",
       "      <th>2000-01-06</th>\n",
       "      <td>556.0</td>\n",
       "      <td>23.62</td>\n",
       "      <td>841.0</td>\n",
       "      <td>NaN</td>\n",
       "      <td>24.78</td>\n",
       "      <td>52.08</td>\n",
       "      <td>10.05</td>\n",
       "      <td>NaN</td>\n",
       "      <td>282.4</td>\n",
       "      <td>86.38</td>\n",
       "      <td>...</td>\n",
       "      <td>NaN</td>\n",
       "      <td>NaN</td>\n",
       "      <td>203.75</td>\n",
       "      <td>NaN</td>\n",
       "      <td>16.05</td>\n",
       "      <td>150.4</td>\n",
       "      <td>109.00</td>\n",
       "      <td>5.53</td>\n",
       "      <td>468.00</td>\n",
       "      <td>248.50</td>\n",
       "    </tr>\n",
       "    <tr>\n",
       "      <th>2000-01-07</th>\n",
       "      <td>564.0</td>\n",
       "      <td>23.09</td>\n",
       "      <td>853.0</td>\n",
       "      <td>NaN</td>\n",
       "      <td>24.22</td>\n",
       "      <td>53.96</td>\n",
       "      <td>10.02</td>\n",
       "      <td>NaN</td>\n",
       "      <td>282.9</td>\n",
       "      <td>86.88</td>\n",
       "      <td>...</td>\n",
       "      <td>NaN</td>\n",
       "      <td>NaN</td>\n",
       "      <td>207.00</td>\n",
       "      <td>NaN</td>\n",
       "      <td>16.19</td>\n",
       "      <td>150.7</td>\n",
       "      <td>109.50</td>\n",
       "      <td>5.53</td>\n",
       "      <td>471.50</td>\n",
       "      <td>251.75</td>\n",
       "    </tr>\n",
       "  </tbody>\n",
       "</table>\n",
       "<p>5 rows × 41 columns</p>\n",
       "</div>"
      ],
      "text/plain": [
       "             ca.f   cb.f   cc.f  ck.f   cl.f   ct.f   dl.f  fi.f   gc.f  \\\n",
       "Data                                                                      \n",
       "2000-01-03    NaN    NaN  830.0   NaN    NaN  51.07  10.26   NaN    NaN   \n",
       "2000-01-04  561.0  24.39  836.0   NaN  25.55  50.73  10.27   NaN  283.7   \n",
       "2000-01-05  560.0  23.73  831.0   NaN  24.91  51.55  10.20   NaN    NaN   \n",
       "2000-01-06  556.0  23.62  841.0   NaN  24.78  52.08  10.05   NaN  282.4   \n",
       "2000-01-07  564.0  23.09  853.0   NaN  24.22  53.96  10.02   NaN  282.9   \n",
       "\n",
       "             gf.f  ...  ux.f  xr.f    zc.f  zk.f   zl.f   zm.f    zo.f  zr.f  \\\n",
       "Data               ...                                                         \n",
       "2000-01-03  85.90  ...   NaN   NaN  200.75   NaN  15.70  146.7  108.25  5.48   \n",
       "2000-01-04  85.70  ...   NaN   NaN  203.00   NaN  15.82  148.6  109.00  5.50   \n",
       "2000-01-05  85.70  ...   NaN   NaN     NaN   NaN  15.96  151.8  109.25  5.51   \n",
       "2000-01-06  86.38  ...   NaN   NaN  203.75   NaN  16.05  150.4  109.00  5.53   \n",
       "2000-01-07  86.88  ...   NaN   NaN  207.00   NaN  16.19  150.7  109.50  5.53   \n",
       "\n",
       "              zs.f    zw.f  \n",
       "Data                        \n",
       "2000-01-03  456.50  247.50  \n",
       "2000-01-04  464.25  247.25  \n",
       "2000-01-05  469.25  249.75  \n",
       "2000-01-06  468.00  248.50  \n",
       "2000-01-07  471.50  251.75  \n",
       "\n",
       "[5 rows x 41 columns]"
      ]
     },
     "execution_count": 23,
     "metadata": {},
     "output_type": "execute_result"
    }
   ],
   "source": [
    "all_indices_daily_close.head()"
   ]
  },
  {
   "cell_type": "code",
   "execution_count": 24,
   "metadata": {},
   "outputs": [
    {
     "data": {
      "text/plain": [
       "fi.f    79.828851\n",
       "ux.f    67.135289\n",
       "tr.f    64.221679\n",
       "rm.f    46.332518\n",
       "ck.f    43.765281\n",
       "lu.f    36.246944\n",
       "zk.f    30.052975\n",
       "xr.f    10.044825\n",
       "rs.f     4.339853\n",
       "dl.f     4.156479\n",
       "dtype: float64"
      ]
     },
     "execution_count": 24,
     "metadata": {},
     "output_type": "execute_result"
    }
   ],
   "source": [
    "pct_missing = all_indices_daily_close.isna().sum() * 100 / len(all_indices_daily_close)\n",
    "pct_missing.sort_values(ascending=False).head(10)"
   ]
  },
  {
   "cell_type": "markdown",
   "metadata": {},
   "source": [
    "Not as reliable as stocks, but still should be fine for forecasting."
   ]
  },
  {
   "cell_type": "code",
   "execution_count": 25,
   "metadata": {},
   "outputs": [],
   "source": [
    "all_indices_daily_close.to_csv(csv_all_indices_path, index=True)"
   ]
  }
 ],
 "metadata": {
  "kernelspec": {
   "display_name": "Python 3",
   "language": "python",
   "name": "python3"
  },
  "language_info": {
   "codemirror_mode": {
    "name": "ipython",
    "version": 3
   },
   "file_extension": ".py",
   "mimetype": "text/x-python",
   "name": "python",
   "nbconvert_exporter": "python",
   "pygments_lexer": "ipython3",
   "version": "3.7.1"
  }
 },
 "nbformat": 4,
 "nbformat_minor": 2
}
